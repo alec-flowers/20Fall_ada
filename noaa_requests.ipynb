{
 "cells": [
  {
   "cell_type": "code",
   "execution_count": 1,
   "metadata": {},
   "outputs": [],
   "source": [
    "import requests\n",
    "response = requests.get('https://www.ncei.noaa.gov/access/services/data/v1?dataset=Daily-Summaries&startDate=2009-01-01&endDate=2011-01-01&includeAttributes=true&format=json&stations=ASN00084027')"
   ]
  },
  {
   "cell_type": "code",
   "execution_count": 40,
   "metadata": {},
   "outputs": [],
   "source": [
    "response = requests.get('https://www.ncei.noaa.gov/access/services/data/v1?dataset=Daily-Summaries&startDate=2009-01-01&endDate=2011-01-01&format=json&stations=WBAN:94299')"
   ]
  },
  {
   "cell_type": "code",
   "execution_count": null,
   "metadata": {},
   "outputs": [],
   "source": [
    "&boundingBox=49,-124.9,25,-66.5\n",
    "dataTypes=DP01,DP05,DP10,DSND,DSNW,DT00,DT32,DX32,DX70,DX90,SNOW,PRCP&\n",
    "&includeAttributes=true"
   ]
  },
  {
   "cell_type": "code",
   "execution_count": 41,
   "metadata": {},
   "outputs": [
    {
     "name": "stdout",
     "output_type": "stream",
     "text": [
      "200\n"
     ]
    }
   ],
   "source": [
    "print(response.status_code)"
   ]
  },
  {
   "cell_type": "code",
   "execution_count": 42,
   "metadata": {},
   "outputs": [
    {
     "name": "stdout",
     "output_type": "stream",
     "text": [
      "[]\n"
     ]
    }
   ],
   "source": [
    "print(response.json())"
   ]
  },
  {
   "cell_type": "code",
   "execution_count": null,
   "metadata": {},
   "outputs": [],
   "source": [
    "https://www.ncei.noaa.gov/access/services/data/v1?dataset=global-summary-of-the-year&dataTypes=DP01,DP05,DP10,DSND,DSNW,DT00,DT32,DX32,DX70,DX90,SNOW,PRCP&stations=ASN00084027&startDate=1952-01-01&endDate=1970-12-31&includeAttributes=true&format=json\n",
    "    \n",
    "    "
   ]
  },
  {
   "cell_type": "code",
   "execution_count": null,
   "metadata": {},
   "outputs": [],
   "source": [
    "https://www.ncei.noaa.gov/access/services/data/v1?dataset=global-marine&dataTypes=WIND_DIR,WIND_SPEED&stations=AUCE&startDate=2016-01-01&endDate=2016-01-02&boundingBox=90,-180,-90,180"
   ]
  },
  {
   "cell_type": "code",
   "execution_count": null,
   "metadata": {},
   "outputs": [],
   "source": [
    "https://www.ncei.noaa.gov/access/services/data/v1?dataset=global-marine&dataTypes=WIND_DIR,WIND_SPEED&stations=AUCE&startDate=2016-01-01&endDate=2016-01-02&boundingBox=90,-180,-90,180"
   ]
  },
  {
   "cell_type": "code",
   "execution_count": 107,
   "metadata": {},
   "outputs": [],
   "source": [
    "mytoken = 'IvpgzMdsLTCumlCOPVDBwtUHxwQYXhNL'\n",
    "token = {\"token\": mytoken}\n",
    "\n",
    "base_url = 'https://www.ncdc.noaa.gov/cdo-web/api/v2/datasets'\n",
    "base_url_data = 'https://www.ncdc.noaa.gov/cdo-web/api/v2/data'\n",
    "base_url_stations = 'https://www.ncdc.noaa.gov/cdo-web/api/v2/stations'\n",
    "\n",
    "datasetid = 'GHCND'\n",
    "locationid = ''\n",
    "begin_date = '2009-01-01' \n",
    "end_date = '2009-01-02'\n",
    "\n",
    "params = 'datasetid='+str(datasetid)+'&'+'locationid='+str(locationid)+'&'+'startdate='+str(begin_date)+'&'+'enddate='+str(end_date)+'&'+'limit=25'+'&'+'units=standard'\n",
    "\n",
    "r = requests.get(base_url_data, params=params, headers=token)"
   ]
  },
  {
   "cell_type": "code",
   "execution_count": null,
   "metadata": {},
   "outputs": [],
   "source": [
    "print(r.status_code)"
   ]
  },
  {
   "cell_type": "code",
   "execution_count": 108,
   "metadata": {},
   "outputs": [
    {
     "data": {
      "text/plain": [
       "<Response [200]>"
      ]
     },
     "execution_count": 108,
     "metadata": {},
     "output_type": "execute_result"
    }
   ],
   "source": [
    "r"
   ]
  },
  {
   "cell_type": "code",
   "execution_count": 109,
   "metadata": {},
   "outputs": [
    {
     "name": "stdout",
     "output_type": "stream",
     "text": [
      "{'metadata': {'resultset': {'offset': 1, 'count': 209406, 'limit': 25}}, 'results': [{'date': '2009-01-01T00:00:00', 'datatype': 'TAVG', 'station': 'GHCND:AE000041196', 'attributes': 'H,,S,', 'value': 67.0}, {'date': '2009-01-01T00:00:00', 'datatype': 'TMAX', 'station': 'GHCND:AE000041196', 'attributes': ',,S,', 'value': 81.0}, {'date': '2009-01-01T00:00:00', 'datatype': 'PRCP', 'station': 'GHCND:AEM00041194', 'attributes': ',,S,', 'value': 0.0}, {'date': '2009-01-01T00:00:00', 'datatype': 'TAVG', 'station': 'GHCND:AEM00041194', 'attributes': 'H,,S,', 'value': 70.0}, {'date': '2009-01-01T00:00:00', 'datatype': 'TMAX', 'station': 'GHCND:AEM00041194', 'attributes': ',,S,', 'value': 80.0}, {'date': '2009-01-01T00:00:00', 'datatype': 'TAVG', 'station': 'GHCND:AEM00041217', 'attributes': 'H,,S,', 'value': 67.0}, {'date': '2009-01-01T00:00:00', 'datatype': 'TMIN', 'station': 'GHCND:AEM00041217', 'attributes': ',,S,', 'value': 57.0}, {'date': '2009-01-01T00:00:00', 'datatype': 'TAVG', 'station': 'GHCND:AEM00041218', 'attributes': 'H,,S,', 'value': 70.0}, {'date': '2009-01-01T00:00:00', 'datatype': 'TMAX', 'station': 'GHCND:AEM00041218', 'attributes': ',,S,', 'value': 85.0}, {'date': '2009-01-01T00:00:00', 'datatype': 'TMIN', 'station': 'GHCND:AEM00041218', 'attributes': ',,S,', 'value': 60.0}, {'date': '2009-01-01T00:00:00', 'datatype': 'TAVG', 'station': 'GHCND:AFM00040938', 'attributes': 'H,,S,', 'value': 55.0}, {'date': '2009-01-01T00:00:00', 'datatype': 'TAVG', 'station': 'GHCND:AFM00040948', 'attributes': 'H,,S,', 'value': 36.0}, {'date': '2009-01-01T00:00:00', 'datatype': 'TAVG', 'station': 'GHCND:AFM00040990', 'attributes': 'H,,S,', 'value': 49.0}, {'date': '2009-01-01T00:00:00', 'datatype': 'PRCP', 'station': 'GHCND:AG000060390', 'attributes': ',,S,', 'value': 0.0}, {'date': '2009-01-01T00:00:00', 'datatype': 'TAVG', 'station': 'GHCND:AG000060390', 'attributes': 'H,,S,', 'value': 57.0}, {'date': '2009-01-01T00:00:00', 'datatype': 'PRCP', 'station': 'GHCND:AG000060590', 'attributes': ',,S,', 'value': 0.0}, {'date': '2009-01-01T00:00:00', 'datatype': 'TAVG', 'station': 'GHCND:AG000060590', 'attributes': 'H,,S,', 'value': 54.0}, {'date': '2009-01-01T00:00:00', 'datatype': 'TMAX', 'station': 'GHCND:AG000060590', 'attributes': ',,S,', 'value': 63.0}, {'date': '2009-01-01T00:00:00', 'datatype': 'TMIN', 'station': 'GHCND:AG000060590', 'attributes': ',,S,', 'value': 46.0}, {'date': '2009-01-01T00:00:00', 'datatype': 'PRCP', 'station': 'GHCND:AG000060611', 'attributes': ',,S,', 'value': 0.0}, {'date': '2009-01-01T00:00:00', 'datatype': 'TAVG', 'station': 'GHCND:AG000060611', 'attributes': 'H,,S,', 'value': 53.0}, {'date': '2009-01-01T00:00:00', 'datatype': 'TMIN', 'station': 'GHCND:AG000060611', 'attributes': ',,S,', 'value': 38.0}, {'date': '2009-01-01T00:00:00', 'datatype': 'PRCP', 'station': 'GHCND:AGE00147708', 'attributes': ',,S,', 'value': 0.0}, {'date': '2009-01-01T00:00:00', 'datatype': 'TAVG', 'station': 'GHCND:AGE00147708', 'attributes': 'H,,S,', 'value': 54.0}, {'date': '2009-01-01T00:00:00', 'datatype': 'TMAX', 'station': 'GHCND:AGE00147708', 'attributes': ',,S,', 'value': 63.0}]}\n"
     ]
    }
   ],
   "source": [
    "print(r.json())"
   ]
  },
  {
   "cell_type": "code",
   "execution_count": null,
   "metadata": {},
   "outputs": [],
   "source": []
  }
 ],
 "metadata": {
  "kernelspec": {
   "display_name": "Python 3",
   "language": "python",
   "name": "python3"
  },
  "language_info": {
   "codemirror_mode": {
    "name": "ipython",
    "version": 3
   },
   "file_extension": ".py",
   "mimetype": "text/x-python",
   "name": "python",
   "nbconvert_exporter": "python",
   "pygments_lexer": "ipython3",
   "version": "3.8.5"
  }
 },
 "nbformat": 4,
 "nbformat_minor": 4
}

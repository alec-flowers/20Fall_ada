{
 "cells": [
  {
   "cell_type": "markdown",
   "metadata": {},
   "source": [
    "# Handling text exercise 1"
   ]
  },
  {
   "cell_type": "markdown",
   "metadata": {},
   "source": [
    "## Welcome! This exercise consists of:\n",
    "\n",
    "## Part 1: Hands on tutorial\n",
    "1. Implementing the natural language processing pipeline\n",
    "2. Solving four typical language processing tasks:\n",
    "   * Sentiment analysis\n",
    "   * Document classification\n",
    "   * Topic detection\n",
    "   * Semantic analysis\n",
    "\n",
    "\n",
    "### We will be working with four books in plain text:\n",
    "1. Moby-Dick, by Herman Melville\n",
    "2. Frankenstein; or, The Modern Prometheus, by Mary Shelley\n",
    "3. Pride and Prejudice, by Jane Austen\n",
    "4. Dracula, Bram Stoker\n",
    "\n",
    "#### To run this notebook, you need to install the following libraries:\n",
    "\n",
    "conda install nltk gensim spacy <br>\n",
    "pip install pyLDAvis  <br>\n",
    "pip install vaderSentiment  <br>\n",
    "pip install empath <br>\n",
    "python -m spacy download en  <br>\n",
    "python -m nltk.downloader punkt <br>\n",
    "python -m nltk.downloader all-corpora <br>\n",
    "\n",
    "## Part 2: Handling text comprehension questions\n",
    "- You can test your understanding of important NLP concepts. Solutions will be released next week."
   ]
  },
  {
   "cell_type": "markdown",
   "metadata": {},
   "source": [
    "## Part 1"
   ]
  },
  {
   "cell_type": "code",
   "execution_count": 4,
   "metadata": {
    "scrolled": true
   },
   "outputs": [
    {
     "name": "stdout",
     "output_type": "stream",
     "text": [
      "The autoreload extension is already loaded. To reload it, use:\n",
      "  %reload_ext autoreload\n"
     ]
    },
    {
     "name": "stderr",
     "output_type": "stream",
     "text": [
      "/Users/alecflowers/miniconda3/envs/ada_tutorial/lib/python3.7/site-packages/ipykernel/ipkernel.py:287: DeprecationWarning: `should_run_async` will not call `transform_cell` automatically in the future. Please pass the result to `transformed_cell` argument and any exception that happen during thetransform in `preprocessing_exc_tuple` in IPython 7.17 and above.\n",
      "  and should_run_async(code)\n"
     ]
    }
   ],
   "source": [
    "%load_ext autoreload\n",
    "%autoreload 2\n",
    "\n",
    "import warnings; warnings.simplefilter('ignore')\n",
    "import os, codecs, string, random\n",
    "import numpy as np\n",
    "from numpy.random import seed as random_seed\n",
    "from numpy.random import shuffle as random_shuffle\n",
    "import matplotlib.pyplot as plt\n",
    "%matplotlib inline  \n",
    "\n",
    "seed = 42\n",
    "random.seed(seed)\n",
    "np.random.seed(seed)\n",
    "\n",
    "#NLP libraries\n",
    "import spacy, nltk, gensim, sklearn\n",
    "import pyLDAvis.gensim\n",
    "\n",
    "#Vader\n",
    "import vaderSentiment\n",
    "from vaderSentiment.vaderSentiment import SentimentIntensityAnalyzer\n",
    "\n",
    "#Scikit imports\n",
    "from sklearn.feature_extraction.text import CountVectorizer\n",
    "from sklearn.model_selection import train_test_split\n",
    "from sklearn.model_selection import cross_val_score\n",
    "from sklearn.linear_model import LogisticRegression\n",
    "from sklearn import preprocessing\n",
    "from sklearn.preprocessing import StandardScaler\n",
    "from sklearn.utils import shuffle\n",
    "\n",
    "#The data\n",
    "corpus_root = 'books/'"
   ]
  },
  {
   "cell_type": "markdown",
   "metadata": {},
   "source": [
    "#### In this tutorial we will be working with text in English. The same principles apply, but the methods cannot be applied directly to the text in unknown or other languages. We will be working mainly with the Spacy library."
   ]
  },
  {
   "cell_type": "markdown",
   "metadata": {},
   "source": [
    "Initialize the Spacy analyzer in English"
   ]
  },
  {
   "cell_type": "code",
   "execution_count": 5,
   "metadata": {},
   "outputs": [],
   "source": [
    "nlp = spacy.load('en')"
   ]
  },
  {
   "cell_type": "markdown",
   "metadata": {},
   "source": [
    "Load the books"
   ]
  },
  {
   "cell_type": "code",
   "execution_count": 14,
   "metadata": {},
   "outputs": [
    {
     "name": "stdout",
     "output_type": "stream",
     "text": [
      "Moby_Dick.txt\n",
      "Frankenstein.txt\n",
      "DRACULA.txt\n",
      "PRIDE_AND_PREJUDICE.txt\n"
     ]
    }
   ],
   "source": [
    "books = list()\n",
    "\n",
    "for book_file in os.listdir(corpus_root):\n",
    "    if \".txt\" in book_file:\n",
    "        print(book_file)\n",
    "        with codecs.open(os.path.join(corpus_root,book_file),encoding=\"utf8\") as f:\n",
    "            books.append(f.read())"
   ]
  },
  {
   "cell_type": "markdown",
   "metadata": {},
   "source": [
    "Print the beginning of Pride and Prejudice"
   ]
  },
  {
   "cell_type": "code",
   "execution_count": 15,
   "metadata": {},
   "outputs": [
    {
     "name": "stdout",
     "output_type": "stream",
     "text": [
      "PRIDE AND PREJUDICE\n",
      "\n",
      "By Jane Austen\n",
      "\n",
      "\n",
      "\n",
      "Chapter 1\n",
      "\n",
      "\n",
      "It is a truth universally acknowledged, that a single man in possession\n",
      "of a good fortune, must be in want of a wife.\n",
      "\n",
      "However little known the feelings or views of such a man may be on his\n",
      "first entering a neighbourhood, this truth is so well fixed in the minds\n",
      "of the surrounding families, that he is considered the rightful property\n",
      "of some one or other of their daughters.\n",
      "\n",
      "“My dear Mr. Bennet,” said his lady to him one day, “have you heard that\n",
      "Netherfield Park is let at last?”\n",
      "\n",
      "Mr. Bennet replied that he had not.\n",
      "\n",
      "“But it is,” returned she;\n"
     ]
    }
   ],
   "source": [
    "print(books[3][0:600])"
   ]
  },
  {
   "cell_type": "markdown",
   "metadata": {},
   "source": [
    "#### Let's remove the new lines"
   ]
  },
  {
   "cell_type": "code",
   "execution_count": 17,
   "metadata": {
    "scrolled": false
   },
   "outputs": [
    {
     "data": {
      "text/plain": [
       "'MOBY DICK;\\n\\nor, THE WHALE.\\n\\nBy Herman Melville\\n\\nETYMOLOGY. (Supplied by a Late Consumptive Usher to a Grammar School.)\\n\\nThe pale Usher—threadbare in coat, heart, body, and brain; I see him\\nnow. He was ever dusting his old lexicons and grammars, with a queer\\nhandkerchief, mockingly embellished with all the gay flags of all\\nthe known nations of the world. He loved to dust his old grammars; it\\nsomehow mildly reminded him of his mortality.\\n\\n“While you take in hand to school others, and to teach them by what\\nname a whale-fish is to be called in our tongue, leaving out, through\\nignorance, the letter'"
      ]
     },
     "execution_count": 17,
     "metadata": {},
     "output_type": "execute_result"
    }
   ],
   "source": [
    "books[0][0:600]"
   ]
  },
  {
   "cell_type": "code",
   "execution_count": 8,
   "metadata": {},
   "outputs": [],
   "source": [
    "books = [\" \".join(b.split()) for b in books]"
   ]
  },
  {
   "cell_type": "code",
   "execution_count": 9,
   "metadata": {
    "scrolled": true
   },
   "outputs": [
    {
     "name": "stdout",
     "output_type": "stream",
     "text": [
      "PRIDE AND PREJUDICE By Jane Austen Chapter 1 It is a truth universally acknowledged, that a single man in possession of a good fortune, must be in want of a wife. However little known the feelings or views of such a man may be on his first entering a neighbourhood, this truth is so well fixed in the minds of the surrounding families, that he is considered the rightful property of some one or other of their daughters. “My dear Mr. Bennet,” said his lady to him one day, “have you heard that Netherfield Park is let at last?” Mr. Bennet replied that he had not. “But it is,” returned she; “for Mrs.\n"
     ]
    }
   ],
   "source": [
    "print(books[3][0:600])"
   ]
  },
  {
   "cell_type": "markdown",
   "metadata": {},
   "source": [
    "### Load Frankenstein"
   ]
  },
  {
   "cell_type": "code",
   "execution_count": 18,
   "metadata": {},
   "outputs": [],
   "source": [
    "#index all books\n",
    "book = books[1]\n",
    "\n",
    "#put in raw text, get a Spacy object\n",
    "doc = nlp(book)"
   ]
  },
  {
   "cell_type": "markdown",
   "metadata": {},
   "source": [
    "## Let's create our own NLP pipeline with Spacy!"
   ]
  },
  {
   "cell_type": "markdown",
   "metadata": {},
   "source": [
    "### Step 1: Sentence splitting\n",
    "\n",
    "#### May sound trivial, but it's not! (e.g., U.K. or Yahoo!) Spacy uses a statistical model to generate accurate predictions. This works well out of the box for general-purpose text or web text. For social media use dedicated libraries."
   ]
  },
  {
   "cell_type": "code",
   "execution_count": 22,
   "metadata": {},
   "outputs": [
    {
     "name": "stdout",
     "output_type": "stream",
     "text": [
      "Sentence 1: Frankenstein,\n",
      "\n",
      "or the Modern Prometheus\n",
      "\n",
      "\n",
      "by\n",
      "\n",
      "Mary Wollstonecraft (Godwin) \n",
      "\n",
      "Sentence 2: Shelley\n",
      "\n",
      "\n",
      "\n",
      "\n",
      "Letter 1\n",
      "\n",
      "\n",
      " \n",
      "\n",
      "Sentence 3: St. Petersburgh, Dec. 11th, 17--\n",
      "\n",
      "TO \n",
      "\n"
     ]
    }
   ],
   "source": [
    "sentences = [sent for sent in doc.sents]\n",
    "print('Sentence 1:',sentences[0],'\\n')\n",
    "print('Sentence 2:',sentences[1],'\\n')\n",
    "print('Sentence 3:',sentences[2],'\\n')"
   ]
  },
  {
   "cell_type": "markdown",
   "metadata": {},
   "source": [
    "### Step 2: Tokenization\n",
    "\n",
    "#### The task of splitting a text into meaningful segments called tokens. We segment the sentence into words, punctuation, etc. This is done by first splitting on whitespace characters and them applying rules specific to each language. For example, \"don't\" does not contain whitespace, but should be split into two tokens, \"do\" and \"n't\", while \"U.K.\" should always remain one token and \"but,\" shouldn't."
   ]
  },
  {
   "cell_type": "markdown",
   "metadata": {},
   "source": [
    "### We will analyze the methods on an example sentence first"
   ]
  },
  {
   "cell_type": "code",
   "execution_count": 23,
   "metadata": {},
   "outputs": [
    {
     "name": "stdout",
     "output_type": "stream",
     "text": [
      "I am already far north of London, and as I walk in the streets of Petersburgh, I feel a cold northern breeze play upon my cheeks, which braces my nerves and fills me with delight. \n",
      "\n",
      "['I', 'am', 'already', 'far', 'north', 'of', 'London', ',', 'and', 'as', 'I', 'walk', 'in', 'the', 'streets', 'of', 'Petersburgh', ',', 'I', 'feel', 'a', 'cold', 'northern', 'breeze', 'play', 'upon', 'my', 'cheeks', ',', 'which', 'braces', 'my', 'nerves', 'and', 'fills', 'me', 'with', 'delight', '.']\n"
     ]
    }
   ],
   "source": [
    "example = 'I am already far north of London, and as I walk in the streets of Petersburgh, I feel a cold northern breeze play upon my cheeks, which braces my nerves and fills me with delight.'\n",
    "\n",
    "doc = nlp(example)\n",
    "\n",
    "#strings are encoded to hashes\n",
    "tokens = [token.text for token in doc]\n",
    "\n",
    "print(example,'\\n')\n",
    "print(tokens)"
   ]
  },
  {
   "cell_type": "markdown",
   "metadata": {},
   "source": [
    "### Step 3: Part of speech tagging\n",
    "\n",
    "#### The model makes a prediction of which tag or label most likely applies in this context. For example, a word following \"the\" in English is most likely a noun."
   ]
  },
  {
   "cell_type": "code",
   "execution_count": 24,
   "metadata": {},
   "outputs": [
    {
     "name": "stdout",
     "output_type": "stream",
     "text": [
      "I am already far north of London, and as I walk in the streets of Petersburgh, I feel a cold northern breeze play upon my cheeks, which braces my nerves and fills me with delight. \n",
      "\n",
      "[('I', 'PRON'), ('am', 'AUX'), ('already', 'ADV'), ('far', 'ADV'), ('north', 'ADV'), ('of', 'ADP'), ('London', 'PROPN'), (',', 'PUNCT'), ('and', 'CCONJ'), ('as', 'SCONJ'), ('I', 'PRON'), ('walk', 'VERB'), ('in', 'ADP'), ('the', 'DET'), ('streets', 'NOUN'), ('of', 'ADP'), ('Petersburgh', 'PROPN'), (',', 'PUNCT'), ('I', 'PRON'), ('feel', 'VERB'), ('a', 'DET'), ('cold', 'ADJ'), ('northern', 'ADJ'), ('breeze', 'NOUN'), ('play', 'NOUN'), ('upon', 'SCONJ'), ('my', 'DET'), ('cheeks', 'NOUN'), (',', 'PUNCT'), ('which', 'DET'), ('braces', 'VERB'), ('my', 'DET'), ('nerves', 'NOUN'), ('and', 'CCONJ'), ('fills', 'VERB'), ('me', 'PRON'), ('with', 'ADP'), ('delight', 'NOUN'), ('.', 'PUNCT')]\n"
     ]
    }
   ],
   "source": [
    "pos_tagged = [(token.text, token.pos_) for token in doc]\n",
    "\n",
    "print(example,'\\n')\n",
    "print(pos_tagged)"
   ]
  },
  {
   "cell_type": "code",
   "execution_count": 25,
   "metadata": {},
   "outputs": [
    {
     "name": "stdout",
     "output_type": "stream",
     "text": [
      "coordinating conjunction\n",
      "adposition\n",
      "determiner\n"
     ]
    }
   ],
   "source": [
    "print(spacy.explain('CCONJ'))\n",
    "print(spacy.explain('ADP'))\n",
    "print(spacy.explain('DET'))"
   ]
  },
  {
   "cell_type": "markdown",
   "metadata": {},
   "source": [
    "### When unsure, see here for more details: http://universaldependencies.org/u/pos/all.html"
   ]
  },
  {
   "cell_type": "markdown",
   "metadata": {},
   "source": [
    "#### More detailed annotation:"
   ]
  },
  {
   "cell_type": "code",
   "execution_count": 26,
   "metadata": {},
   "outputs": [
    {
     "name": "stdout",
     "output_type": "stream",
     "text": [
      "[('I', 'PRP'), ('am', 'VBP'), ('already', 'RB'), ('far', 'RB'), ('north', 'RB'), ('of', 'IN'), ('London', 'NNP'), (',', ','), ('and', 'CC'), ('as', 'IN'), ('I', 'PRP'), ('walk', 'VBP'), ('in', 'IN'), ('the', 'DT'), ('streets', 'NNS'), ('of', 'IN'), ('Petersburgh', 'NNP'), (',', ','), ('I', 'PRP'), ('feel', 'VBP'), ('a', 'DT'), ('cold', 'JJ'), ('northern', 'JJ'), ('breeze', 'NN'), ('play', 'NN'), ('upon', 'IN'), ('my', 'PRP$'), ('cheeks', 'NNS'), (',', ','), ('which', 'WDT'), ('braces', 'VBZ'), ('my', 'PRP$'), ('nerves', 'NNS'), ('and', 'CC'), ('fills', 'VBZ'), ('me', 'PRP'), ('with', 'IN'), ('delight', 'NN'), ('.', '.')]\n"
     ]
    }
   ],
   "source": [
    "pos_tagged = [(token.text, token.tag_) for token in doc]\n",
    "\n",
    "print(pos_tagged)"
   ]
  },
  {
   "cell_type": "code",
   "execution_count": 27,
   "metadata": {},
   "outputs": [
    {
     "name": "stdout",
     "output_type": "stream",
     "text": [
      "pronoun, personal\n",
      "verb, non-3rd person singular present\n"
     ]
    }
   ],
   "source": [
    "print(spacy.explain('PRP'))\n",
    "print(spacy.explain('VBP'))"
   ]
  },
  {
   "cell_type": "markdown",
   "metadata": {},
   "source": [
    "### Step 4: Named entity recognition\n",
    "\n",
    "#### For example, a person, a country, a product or a book title. Spacy can recognise various types of named entities in a document. This doesn't always work perfectly and might need some tuning later, depending on your use case.\n",
    "\n",
    "Built in entity types: <br>\n",
    "\n",
    "PERSON  People, including fictional.  <br>\n",
    "NORP\tNationalities or religious or political groups. <br>\n",
    "FAC\tBuildings, airports, highways, bridges, etc. <br>\n",
    "ORG\tCompanies, agencies, institutions, etc. <br>\n",
    "GPE\tCountries, cities, states. <br>\n",
    "LOC\tNon-GPE locations, mountain ranges, bodies of water. <br>\n",
    "PRODUCT\tObjects, vehicles, foods, etc. (Not services.) <br>\n",
    "EVENT\tNamed hurricanes, battles, wars, sports events, etc. <br>\n",
    "WORK_OF_ART\tTitles of books, songs, etc. <br>\n",
    "LAW\tNamed documents made into laws. <br>\n",
    "LANGUAGE\tAny named language. <br>\n",
    "DATE\tAbsolute or relative dates or periods. <br>\n",
    "TIME\tTimes smaller than a day. <br>\n",
    "PERCENT\tPercentage, including \"%\". <br>\n",
    "MONEY\tMonetary values, including unit. <br>\n",
    "QUANTITY\tMeasurements, as of weight or distance. <br>\n",
    "ORDINAL\t\"first\", \"second\", etc. <br>\n",
    "CARDINAL\tNumerals that do not fall under another type. <br>"
   ]
  },
  {
   "cell_type": "code",
   "execution_count": 28,
   "metadata": {
    "scrolled": true
   },
   "outputs": [
    {
     "name": "stdout",
     "output_type": "stream",
     "text": [
      "I am already far north of London, and as I walk in the streets of Petersburgh, I feel a cold northern breeze play upon my cheeks, which braces my nerves and fills me with delight. \n",
      "\n",
      "London GPE\n",
      "Petersburgh GPE\n"
     ]
    }
   ],
   "source": [
    "print(example,'\\n')\n",
    "for ent in doc.ents:\n",
    "    print(ent.text, ent.label_)"
   ]
  },
  {
   "cell_type": "code",
   "execution_count": 35,
   "metadata": {},
   "outputs": [
    {
     "data": {
      "text/plain": [
       "[(London, Petersburgh)]"
      ]
     },
     "execution_count": 35,
     "metadata": {},
     "output_type": "execute_result"
    }
   ],
   "source": [
    "doc.ents"
   ]
  },
  {
   "cell_type": "code",
   "execution_count": 36,
   "metadata": {},
   "outputs": [
    {
     "data": {
      "text/plain": [
       "[('London', 'GPE'), ('Petersburgh', 'GPE')]"
      ]
     },
     "execution_count": 36,
     "metadata": {},
     "output_type": "execute_result"
    }
   ],
   "source": [
    "[(ent.text,ent.label_) for ent in doc.ents]"
   ]
  },
  {
   "cell_type": "markdown",
   "metadata": {},
   "source": [
    "### Step 5: Removing stop words"
   ]
  },
  {
   "cell_type": "markdown",
   "metadata": {},
   "source": [
    "Let's check out all the stopwords:"
   ]
  },
  {
   "cell_type": "code",
   "execution_count": 37,
   "metadata": {},
   "outputs": [
    {
     "name": "stdout",
     "output_type": "stream",
     "text": [
      "Number of stop words: 326\n",
      "First ten stop words: ['me', 'top', 'bottom', 'towards', 'amongst', 'serious', 'during', 'well', 'our', 'call']\n"
     ]
    }
   ],
   "source": [
    "spacy_stopwords = spacy.lang.en.stop_words.STOP_WORDS\n",
    "print('Number of stop words: %d' % len(spacy_stopwords))\n",
    "print('First ten stop words:',list(spacy_stopwords)[:10])"
   ]
  },
  {
   "cell_type": "markdown",
   "metadata": {},
   "source": [
    "Detecting stopwords in the example:"
   ]
  },
  {
   "cell_type": "code",
   "execution_count": 38,
   "metadata": {},
   "outputs": [
    {
     "name": "stdout",
     "output_type": "stream",
     "text": [
      "I am already far north of London, and as I walk in the streets of Petersburgh, I feel a cold northern breeze play upon my cheeks, which braces my nerves and fills me with delight. \n",
      "\n",
      "['I', 'am', 'already', 'of', 'and', 'as', 'I', 'in', 'the', 'of', 'I', 'a', 'upon', 'my', 'which', 'my', 'and', 'me', 'with']\n"
     ]
    }
   ],
   "source": [
    "print(example,'\\n')\n",
    "\n",
    "stop_words = [token.text for token in doc if token.is_stop]\n",
    "\n",
    "print(stop_words)"
   ]
  },
  {
   "cell_type": "code",
   "execution_count": 40,
   "metadata": {},
   "outputs": [
    {
     "data": {
      "text/plain": [
       "['far',\n",
       " 'north',\n",
       " 'London',\n",
       " ',',\n",
       " 'walk',\n",
       " 'streets',\n",
       " 'Petersburgh',\n",
       " ',',\n",
       " 'feel',\n",
       " 'cold',\n",
       " 'northern',\n",
       " 'breeze',\n",
       " 'play',\n",
       " 'cheeks',\n",
       " ',',\n",
       " 'braces',\n",
       " 'nerves',\n",
       " 'fills',\n",
       " 'delight',\n",
       " '.']"
      ]
     },
     "execution_count": 40,
     "metadata": {},
     "output_type": "execute_result"
    }
   ],
   "source": [
    "[token.text for token in doc if not token.is_stop]"
   ]
  },
  {
   "cell_type": "markdown",
   "metadata": {},
   "source": [
    "#### Sometimes it's useful to define a custom list of stopwords. Other solutions: https://www.ranks.nl/stopwords \n"
   ]
  },
  {
   "cell_type": "markdown",
   "metadata": {},
   "source": [
    "### Step 6: Lemmatization\n",
    "\n",
    "#### A rule-based deterministic lemmatizer maps the surface form of a token to a lemma."
   ]
  },
  {
   "cell_type": "code",
   "execution_count": 44,
   "metadata": {},
   "outputs": [
    {
     "data": {
      "text/plain": [
       "[('I', '-PRON-'),\n",
       " ('am', 'be'),\n",
       " ('I', '-PRON-'),\n",
       " ('streets', 'street'),\n",
       " ('I', '-PRON-'),\n",
       " ('my', '-PRON-'),\n",
       " ('cheeks', 'cheek'),\n",
       " ('braces', 'brace'),\n",
       " ('my', '-PRON-'),\n",
       " ('nerves', 'nerve'),\n",
       " ('fills', 'fill'),\n",
       " ('me', '-PRON-')]"
      ]
     },
     "execution_count": 44,
     "metadata": {},
     "output_type": "execute_result"
    }
   ],
   "source": [
    "[(token.text, token.lemma_) for token in doc if token.lemma_!= token.text]"
   ]
  },
  {
   "cell_type": "code",
   "execution_count": 41,
   "metadata": {},
   "outputs": [
    {
     "name": "stdout",
     "output_type": "stream",
     "text": [
      "I am already far north of London, and as I walk in the streets of Petersburgh, I feel a cold northern breeze play upon my cheeks, which braces my nerves and fills me with delight. \n",
      "\n",
      "I ---> -PRON-\n",
      "am ---> be\n",
      "I ---> -PRON-\n",
      "streets ---> street\n",
      "I ---> -PRON-\n",
      "my ---> -PRON-\n",
      "cheeks ---> cheek\n",
      "braces ---> brace\n",
      "my ---> -PRON-\n",
      "nerves ---> nerve\n",
      "fills ---> fill\n",
      "me ---> -PRON-\n"
     ]
    }
   ],
   "source": [
    "print(example,'\\n')\n",
    "for token in doc:\n",
    "    if token.text != token.lemma_:\n",
    "        print(token.text,'--->',token.lemma_)"
   ]
  },
  {
   "cell_type": "markdown",
   "metadata": {},
   "source": [
    "### Step 7: Chunking (shallow parsing)\n",
    "\n",
    "#### Noun chunks are \"base noun phrases\" – flat phrases that have a noun as their head -- a noun plus the words describing the noun – for example, \"the lavish green grass\" or \"the world’s largest tech fund\". "
   ]
  },
  {
   "cell_type": "code",
   "execution_count": 45,
   "metadata": {},
   "outputs": [
    {
     "name": "stdout",
     "output_type": "stream",
     "text": [
      "I am already far north of London, and as I walk in the streets of Petersburgh, I feel a cold northern breeze play upon my cheeks, which braces my nerves and fills me with delight. \n",
      "\n",
      "I\n",
      "London\n",
      "I\n",
      "the streets\n",
      "Petersburgh\n",
      "I\n",
      "a cold northern breeze\n",
      "my cheeks\n",
      "my nerves\n",
      "me\n",
      "delight\n"
     ]
    }
   ],
   "source": [
    "print(example,'\\n')\n",
    "\n",
    "for chunk in doc.noun_chunks:\n",
    "    print(chunk.text)"
   ]
  },
  {
   "cell_type": "markdown",
   "metadata": {},
   "source": [
    "### Step 8: Dependancy parsing\n",
    "\n",
    "#### The terms head and child describe the words connected by an arc in the dependency tree. The type of syntactic relation that connects the child to the head can be obtain through .dep_."
   ]
  },
  {
   "cell_type": "code",
   "execution_count": 46,
   "metadata": {},
   "outputs": [
    {
     "name": "stdout",
     "output_type": "stream",
     "text": [
      "I am already far north of London, and as I walk in the streets of Petersburgh, I feel a cold northern breeze play upon my cheeks, which braces my nerves and fills me with delight. \n",
      "\n",
      "Token: I Head: am Children: []\n",
      "Token: am Head: am Children: [I, already, north, ,, and, feel]\n",
      "Token: already Head: am Children: []\n",
      "Token: far Head: north Children: []\n",
      "Token: north Head: am Children: [far, of]\n",
      "Token: of Head: north Children: [London]\n",
      "Token: London Head: of Children: []\n",
      "Token: , Head: am Children: []\n",
      "Token: and Head: am Children: []\n",
      "Token: as Head: walk Children: []\n",
      "Token: I Head: walk Children: []\n",
      "Token: walk Head: feel Children: [as, I, in]\n",
      "Token: in Head: walk Children: [streets]\n",
      "Token: the Head: streets Children: []\n",
      "Token: streets Head: in Children: [the, of]\n",
      "Token: of Head: streets Children: [Petersburgh]\n",
      "Token: Petersburgh Head: of Children: []\n",
      "Token: , Head: feel Children: []\n",
      "Token: I Head: feel Children: []\n",
      "Token: feel Head: am Children: [walk, ,, I, play, .]\n",
      "Token: a Head: breeze Children: []\n",
      "Token: cold Head: breeze Children: []\n",
      "Token: northern Head: breeze Children: []\n",
      "Token: breeze Head: play Children: [a, cold, northern]\n",
      "Token: play Head: feel Children: [breeze, upon]\n",
      "Token: upon Head: play Children: [cheeks]\n",
      "Token: my Head: cheeks Children: []\n",
      "Token: cheeks Head: upon Children: [my, ,, braces]\n",
      "Token: , Head: cheeks Children: []\n",
      "Token: which Head: braces Children: []\n",
      "Token: braces Head: cheeks Children: [which, nerves, and, fills]\n",
      "Token: my Head: nerves Children: []\n",
      "Token: nerves Head: braces Children: [my]\n",
      "Token: and Head: braces Children: []\n",
      "Token: fills Head: braces Children: [me, with]\n",
      "Token: me Head: fills Children: []\n",
      "Token: with Head: fills Children: [delight]\n",
      "Token: delight Head: with Children: []\n",
      "Token: . Head: feel Children: []\n"
     ]
    }
   ],
   "source": [
    "print(example,'\\n')\n",
    "\n",
    "for token in doc:\n",
    "    print('Token:',token.text,'Head:',token.head.text, 'Children:',[child for child in token.children])"
   ]
  },
  {
   "cell_type": "markdown",
   "metadata": {},
   "source": [
    "### Counting word occurences"
   ]
  },
  {
   "cell_type": "code",
   "execution_count": 47,
   "metadata": {},
   "outputs": [
    {
     "name": "stdout",
     "output_type": "stream",
     "text": [
      "I am already far north of London, and as I walk in the streets of Petersburgh, I feel a cold northern breeze play upon my cheeks, which braces my nerves and fills me with delight. \n",
      "\n",
      "[('I', 3), (',', 3), ('of', 2), ('and', 2), ('my', 2), ('am', 1), ('already', 1), ('far', 1), ('north', 1), ('London', 1), ('as', 1), ('walk', 1), ('in', 1), ('the', 1), ('streets', 1), ('Petersburgh', 1), ('feel', 1), ('a', 1), ('cold', 1), ('northern', 1), ('breeze', 1), ('play', 1), ('upon', 1), ('cheeks', 1), ('which', 1), ('braces', 1), ('nerves', 1), ('fills', 1), ('me', 1), ('with', 1), ('delight', 1), ('.', 1)]\n"
     ]
    }
   ],
   "source": [
    "from collections import Counter\n",
    "\n",
    "print(example,'\\n')\n",
    "words = [token.text for token in doc]\n",
    "\n",
    "# five most common tokens\n",
    "word_freq = Counter(words)\n",
    "common_words = word_freq.most_common()\n",
    "\n",
    "print(common_words)"
   ]
  },
  {
   "cell_type": "markdown",
   "metadata": {},
   "source": [
    "### Without stop words and punctuation"
   ]
  },
  {
   "cell_type": "code",
   "execution_count": 48,
   "metadata": {},
   "outputs": [
    {
     "name": "stdout",
     "output_type": "stream",
     "text": [
      "[('far', 1), ('north', 1), ('London', 1), ('walk', 1), ('streets', 1), ('Petersburgh', 1), ('feel', 1), ('cold', 1), ('northern', 1), ('breeze', 1), ('play', 1), ('cheeks', 1), ('braces', 1), ('nerves', 1), ('fills', 1), ('delight', 1)]\n"
     ]
    }
   ],
   "source": [
    "words = [token.text for token in doc if token.is_stop != True and token.is_punct != True]\n",
    "\n",
    "# five most common tokens\n",
    "word_freq = Counter(words)\n",
    "common_words = word_freq.most_common()\n",
    "\n",
    "print(common_words)"
   ]
  },
  {
   "cell_type": "markdown",
   "metadata": {
    "collapsed": true
   },
   "source": [
    "## Putting all the components together"
   ]
  },
  {
   "cell_type": "markdown",
   "metadata": {},
   "source": [
    "### Under the hood: the pipeline [\"tokenizer\",\"tagger\", \"parser\", \"ner\"]."
   ]
  },
  {
   "cell_type": "markdown",
   "metadata": {},
   "source": [
    "#### The NLP pipeline with Spacy\n",
    "<img src=\"spacy.png\">"
   ]
  },
  {
   "cell_type": "code",
   "execution_count": 50,
   "metadata": {},
   "outputs": [],
   "source": [
    "nlp = spacy.load('en')"
   ]
  },
  {
   "cell_type": "markdown",
   "metadata": {},
   "source": [
    "### If you don't need a particular component of the pipeline – for example, the tagger or the parser, you can disable loading it. This can sometimes make a big difference and improve loading speed. "
   ]
  },
  {
   "cell_type": "code",
   "execution_count": 51,
   "metadata": {},
   "outputs": [
    {
     "data": {
      "text/plain": [
       "('tagger', <spacy.pipeline.pipes.Tagger at 0x7ffb4919ca90>)"
      ]
     },
     "execution_count": 51,
     "metadata": {},
     "output_type": "execute_result"
    }
   ],
   "source": [
    "nlp.remove_pipe('parser')\n",
    "nlp.remove_pipe('tagger')"
   ]
  },
  {
   "cell_type": "markdown",
   "metadata": {
    "collapsed": true
   },
   "source": [
    "# Task 1: Seniment analysis"
   ]
  },
  {
   "cell_type": "markdown",
   "metadata": {
    "collapsed": true
   },
   "source": [
    "### Initialize the analyzer. Typically used for data from social media (short sentences)."
   ]
  },
  {
   "cell_type": "code",
   "execution_count": 52,
   "metadata": {},
   "outputs": [],
   "source": [
    "analyzer = SentimentIntensityAnalyzer()\n",
    "vs = analyzer.polarity_scores(example)"
   ]
  },
  {
   "cell_type": "markdown",
   "metadata": {},
   "source": [
    "### The sentiment score consits of four values. Neutral, positive and negative sum to one. The final score is obtained by thresholding the compound value (e.g. +/-0.05)."
   ]
  },
  {
   "cell_type": "code",
   "execution_count": 53,
   "metadata": {},
   "outputs": [
    {
     "name": "stdout",
     "output_type": "stream",
     "text": [
      "I am already far north of London, and as I walk in the streets of Petersburgh, I feel a cold northern breeze play upon my cheeks, which braces my nerves and fills me with delight. \n",
      "\n",
      "Negative sentiment: 0.035\n",
      "Neutral sentiment: 0.806\n",
      "Positive sentiment: 0.159\n",
      "Compound sentiment: 0.7096\n"
     ]
    }
   ],
   "source": [
    "print(example, '\\n')\n",
    "print('Negative sentiment:',vs['neg'])\n",
    "print('Neutral sentiment:',vs['neu'])\n",
    "print('Positive sentiment:',vs['pos'])\n",
    "print('Compound sentiment:',vs['compound'])"
   ]
  },
  {
   "cell_type": "markdown",
   "metadata": {},
   "source": [
    "### We can now observe the distributions of sentiment across all sentences in the book Pride and Prejudice:"
   ]
  },
  {
   "cell_type": "code",
   "execution_count": 54,
   "metadata": {},
   "outputs": [],
   "source": [
    "nlp = spacy.load('en')\n",
    "doc = nlp(books[3])"
   ]
  },
  {
   "cell_type": "code",
   "execution_count": 55,
   "metadata": {},
   "outputs": [
    {
     "data": {
      "text/plain": [
       "Text(0, 0.5, 'Number of sentences')"
      ]
     },
     "execution_count": 55,
     "metadata": {},
     "output_type": "execute_result"
    },
    {
     "data": {
      "image/png": "[encoded data removed]",
      "text/plain": [
       "<Figure size 432x288 with 1 Axes>"
      ]
     },
     "metadata": {
      "needs_background": "light"
     },
     "output_type": "display_data"
    }
   ],
   "source": [
    "positive_sent = []\n",
    "#iterate through the sentences, get polarity scores, choose a value\n",
    "[positive_sent.append(analyzer.polarity_scores(sent.text)['pos']) for sent in doc.sents]\n",
    "plt.hist(positive_sent,bins=15)\n",
    "plt.xlim([0,1])\n",
    "plt.ylim([0,8000])\n",
    "plt.xlabel('Positive sentiment')\n",
    "plt.ylabel('Number of sentences')"
   ]
  },
  {
   "cell_type": "code",
   "execution_count": 56,
   "metadata": {},
   "outputs": [
    {
     "data": {
      "text/plain": [
       "Text(0, 0.5, 'Number of sentences')"
      ]
     },
     "execution_count": 56,
     "metadata": {},
     "output_type": "execute_result"
    },
    {
     "data": {
      "image/png": "[encoded data removed]",
      "text/plain": [
       "<Figure size 432x288 with 1 Axes>"
      ]
     },
     "metadata": {
      "needs_background": "light"
     },
     "output_type": "display_data"
    }
   ],
   "source": [
    "negative_sent = []\n",
    "[negative_sent.append(analyzer.polarity_scores(sent.text)['neg']) for sent in doc.sents]\n",
    "plt.hist(negative_sent,bins=15)\n",
    "plt.xlim([0,1])\n",
    "plt.ylim([0,8000])\n",
    "plt.xlabel('Negative sentiment')\n",
    "plt.ylabel('Number of sentences')"
   ]
  },
  {
   "cell_type": "code",
   "execution_count": 57,
   "metadata": {},
   "outputs": [
    {
     "data": {
      "text/plain": [
       "Text(0, 0.5, 'Number of sentences')"
      ]
     },
     "execution_count": 57,
     "metadata": {},
     "output_type": "execute_result"
    },
    {
     "data": {
      "image/png": "[encoded data removed]",
      "text/plain": [
       "<Figure size 432x288 with 1 Axes>"
      ]
     },
     "metadata": {
      "needs_background": "light"
     },
     "output_type": "display_data"
    }
   ],
   "source": [
    "total_sent = []\n",
    "[total_sent.append(analyzer.polarity_scores(sent.text)['compound']) for sent in doc.sents]\n",
    "plt.hist(total_sent,bins = 15)\n",
    "plt.xlim([-1,1])\n",
    "plt.ylim([0,8000])\n",
    "plt.xlabel('Compound sentiment')\n",
    "plt.ylabel('Number of sentences')"
   ]
  },
  {
   "cell_type": "code",
   "execution_count": 58,
   "metadata": {},
   "outputs": [
    {
     "name": "stdout",
     "output_type": "stream",
     "text": [
      "Number of positive sentences: 2955\n",
      "Number of negative sentences: 1485\n",
      "Number of neutral sentences: 2359\n"
     ]
    }
   ],
   "source": [
    "sents = [analyzer.polarity_scores(sent.text)['compound'] for sent in doc.sents]\n",
    "print('Number of positive sentences:',sum(np.array(sents)>=0.05))\n",
    "print('Number of negative sentences:',sum(np.array(sents)<=-0.05))\n",
    "print('Number of neutral sentences:',sum(np.abs(np.array(sents))<0.05))"
   ]
  },
  {
   "cell_type": "code",
   "execution_count": 61,
   "metadata": {},
   "outputs": [
    {
     "data": {
      "text/plain": [
       "6799"
      ]
     },
     "execution_count": 61,
     "metadata": {},
     "output_type": "execute_result"
    }
   ],
   "source": [
    "len(sents)"
   ]
  },
  {
   "cell_type": "code",
   "execution_count": 62,
   "metadata": {},
   "outputs": [
    {
     "data": {
      "text/plain": [
       "6799"
      ]
     },
     "execution_count": 62,
     "metadata": {},
     "output_type": "execute_result"
    }
   ],
   "source": [
    "len(positive_sent)"
   ]
  },
  {
   "cell_type": "code",
   "execution_count": 63,
   "metadata": {},
   "outputs": [
    {
     "data": {
      "text/plain": [
       "6799"
      ]
     },
     "execution_count": 63,
     "metadata": {},
     "output_type": "execute_result"
    }
   ],
   "source": [
    "len(negative_sent)"
   ]
  },
  {
   "cell_type": "markdown",
   "metadata": {
    "collapsed": true
   },
   "source": [
    "#### Most of the sentences are quite neutral in sentiment. This is not the case when working with data from other sources (e.g., in social media opinions are strong and polarized (bimodal distribution))."
   ]
  },
  {
   "cell_type": "markdown",
   "metadata": {
    "collapsed": true
   },
   "source": [
    "# Task 2: Document classification: Can we detect paragraphs from Frankenstein?"
   ]
  },
  {
   "cell_type": "code",
   "execution_count": 64,
   "metadata": {},
   "outputs": [
    {
     "name": "stdout",
     "output_type": "stream",
     "text": [
      "['DRACULA.txt', 'Frankenstein.txt', 'Moby_Dick.txt', 'PRIDE_AND_PREJUDICE.txt']\n"
     ]
    }
   ],
   "source": [
    "# Let's load our corpus via NLTK this time\n",
    "from nltk.corpus import PlaintextCorpusReader\n",
    "?PlaintextCorpusReader\n",
    "our_books = PlaintextCorpusReader(corpus_root, '.*.txt')\n",
    "print(our_books.fileids())"
   ]
  },
  {
   "cell_type": "markdown",
   "metadata": {},
   "source": [
    "### We will segment the books into equally long chunks"
   ]
  },
  {
   "cell_type": "code",
   "execution_count": 65,
   "metadata": {},
   "outputs": [
    {
     "name": "stdout",
     "output_type": "stream",
     "text": [
      "DRACULA.txt :\n",
      "Number of sentences: 9303\n",
      "Number of chunks: 187 \n",
      "\n",
      "Frankenstein.txt :\n",
      "Number of sentences: 3378\n",
      "Number of chunks: 68 \n",
      "\n",
      "Moby_Dick.txt :\n",
      "Number of sentences: 9609\n",
      "Number of chunks: 193 \n",
      "\n",
      "PRIDE_AND_PREJUDICE.txt :\n",
      "Number of sentences: 6055\n",
      "Number of chunks: 122 \n",
      "\n"
     ]
    }
   ],
   "source": [
    "def get_chunks(l, n):\n",
    "    \"\"\"Yield successive n-sized chunks from l.\"\"\"\n",
    "    for i in range(0, len(l), n):\n",
    "        yield l[i:i + n]\n",
    "\n",
    "\n",
    "# Get the data\n",
    "book_id = {f:n for n,f in enumerate(our_books.fileids())} # dictionary of books\n",
    "\n",
    "chunks = list()\n",
    "chunk_class = list() # this list contains the original book of the chunk, for evaluation\n",
    "\n",
    "limit = 500 # how many chunks total\n",
    "size = 50 # how many sentences per chunk/page\n",
    "\n",
    "for f in our_books.fileids():\n",
    "    sentences = our_books.sents(f)\n",
    "    print(f,\":\")\n",
    "    print('Number of sentences:',len(sentences))\n",
    "    \n",
    "    # create chunks\n",
    "    chunks_of_sents = [x for x in get_chunks(sentences,size)] # this is a list of lists of sentences, which are a list of tokens\n",
    "    chs = list()\n",
    "    \n",
    "    # regroup so to have a list of chunks which are strings\n",
    "    for c in chunks_of_sents:\n",
    "        grouped_chunk = list()\n",
    "        for s in c:\n",
    "            grouped_chunk.extend(s)\n",
    "        chs.append(\" \".join(grouped_chunk))\n",
    "    print(\"Number of chunks:\",len(chs),'\\n')\n",
    "    \n",
    "    # filter to the limit, to have the same number of chunks per book\n",
    "    chunks.extend(chs[:limit])\n",
    "    chunk_class.extend([book_id[f] for _ in range(len(chs[:limit]))])"
   ]
  },
  {
   "cell_type": "markdown",
   "metadata": {},
   "source": [
    "### Representing the chunks with bag-of-words"
   ]
  },
  {
   "cell_type": "code",
   "execution_count": 66,
   "metadata": {},
   "outputs": [
    {
     "name": "stdout",
     "output_type": "stream",
     "text": [
      "Number of samples: 570\n",
      "Number of features: 23116\n"
     ]
    }
   ],
   "source": [
    "vectorizer = CountVectorizer()\n",
    "\n",
    "#initialize and specify minumum number of occurences to avoid untractable number of features\n",
    "#vectorizer = CountVectorizer(min_df = 2) if we want high frequency\n",
    "\n",
    "#create bag of words features\n",
    "X = vectorizer.fit_transform(chunks)\n",
    "\n",
    "print('Number of samples:',X.toarray().shape[0])\n",
    "print('Number of features:',X.toarray().shape[1])\n",
    "\n",
    "#mask and convert to int Frankenstein\n",
    "Y = np.array(chunk_class) == 1\n",
    "Y = Y.astype(int)  \n",
    "\n",
    "#shuffle the data\n",
    "X, Y = shuffle(X, Y, random_state=0)\n",
    "\n",
    "#split into training and test set\n",
    "X_train, X_test, Y_train, Y_test = train_test_split(X, Y, test_size=0.2, random_state=42)"
   ]
  },
  {
   "cell_type": "code",
   "execution_count": 73,
   "metadata": {},
   "outputs": [
    {
     "data": {
      "text/plain": [
       "<570x23116 sparse matrix of type '<class 'numpy.int64'>'\n",
       "\twith 245464 stored elements in Compressed Sparse Row format>"
      ]
     },
     "execution_count": 73,
     "metadata": {},
     "output_type": "execute_result"
    }
   ],
   "source": [
    "X"
   ]
  },
  {
   "cell_type": "code",
   "execution_count": 75,
   "metadata": {},
   "outputs": [
    {
     "data": {
      "text/plain": [
       "array([1, 0, 0, 0, 0, 0, 0, 0, 0, 0, 0, 0, 0, 0, 0, 0, 0, 0, 0, 0, 0, 1,\n",
       "       0, 0, 0, 0, 1, 0, 0, 0, 0, 0, 0, 0, 1, 0, 0, 0, 0, 1, 1, 0, 0, 0,\n",
       "       0, 0, 1, 1, 0, 0, 0, 0, 0, 0, 0, 1, 0, 0, 0, 0, 0, 0, 0, 1, 0, 0,\n",
       "       0, 0, 0, 0, 0, 0, 0, 0, 0, 0, 0, 1, 0, 1, 0, 0, 0, 0, 1, 1, 0, 0,\n",
       "       0, 0, 0, 0, 0, 0, 0, 1, 0, 1, 0, 0, 0, 0, 0, 0, 0, 0, 0, 0, 0, 0,\n",
       "       0, 0, 0, 0, 0, 0, 0, 0, 0, 0, 0, 0, 0, 0, 0, 0, 1, 0, 0, 0, 0, 1,\n",
       "       0, 0, 0, 0, 0, 1, 0, 0, 0, 0, 0, 0, 0, 0, 0, 0, 0, 0, 0, 0, 0, 0,\n",
       "       0, 0, 0, 0, 0, 0, 1, 0, 0, 0, 0, 0, 1, 0, 0, 0, 0, 0, 0, 0, 0, 0,\n",
       "       0, 0, 0, 0, 0, 0, 0, 0, 0, 1, 0, 0, 0, 0, 0, 0, 0, 0, 0, 0, 0, 0,\n",
       "       1, 0, 0, 0, 0, 0, 0, 0, 0, 1, 1, 0, 0, 0, 0, 0, 0, 0, 0, 0, 0, 0,\n",
       "       1, 1, 0, 0, 0, 0, 0, 1, 0, 0, 0, 0, 0, 0, 1, 0, 0, 0, 0, 0, 0, 0,\n",
       "       0, 0, 0, 1, 0, 0, 0, 0, 0, 0, 1, 0, 0, 0, 0, 0, 1, 0, 0, 0, 0, 0,\n",
       "       0, 0, 0, 0, 1, 0, 0, 1, 1, 0, 0, 0, 0, 0, 0, 0, 0, 0, 0, 0, 0, 0,\n",
       "       0, 0, 0, 1, 0, 0, 0, 0, 0, 1, 0, 0, 0, 1, 0, 0, 0, 1, 0, 0, 0, 0,\n",
       "       0, 0, 0, 0, 0, 0, 0, 0, 0, 0, 1, 0, 0, 0, 0, 0, 1, 0, 0, 0, 0, 0,\n",
       "       0, 1, 0, 0, 0, 0, 1, 0, 0, 0, 0, 0, 0, 0, 0, 0, 0, 0, 0, 1, 0, 0,\n",
       "       0, 0, 0, 0, 0, 1, 0, 0, 0, 0, 1, 0, 1, 1, 0, 1, 1, 0, 0, 0, 1, 0,\n",
       "       0, 1, 0, 0, 0, 0, 0, 0, 0, 0, 0, 0, 0, 0, 0, 0, 0, 0, 0, 1, 1, 0,\n",
       "       0, 0, 0, 0, 0, 0, 0, 0, 0, 0, 0, 0, 0, 0, 0, 0, 1, 0, 0, 0, 0, 0,\n",
       "       0, 1, 0, 0, 0, 0, 0, 0, 0, 0, 0, 1, 0, 0, 0, 0, 0, 0, 0, 0, 0, 0,\n",
       "       0, 0, 0, 0, 0, 0, 0, 0, 0, 0, 0, 0, 0, 0, 0, 1, 0, 0, 0, 0, 0, 1,\n",
       "       0, 0, 0, 0, 0, 0, 1, 0, 0, 0, 0, 0, 1, 0, 0, 0, 0, 0, 0, 0, 0, 1,\n",
       "       0, 0, 0, 0, 0, 0, 0, 0, 0, 0, 0, 0, 0, 0, 1, 0, 0, 0, 0, 0, 0, 0,\n",
       "       0, 0, 0, 1, 0, 0, 1, 0, 0, 0, 0, 0, 1, 0, 0, 0, 0, 0, 0, 0, 0, 0,\n",
       "       0, 0, 0, 0, 0, 0, 0, 0, 0, 0, 0, 0, 0, 0, 0, 1, 0, 0, 0, 0, 0, 0,\n",
       "       0, 0, 0, 0, 0, 0, 0, 0, 0, 0, 0, 0, 0, 0, 0, 0, 0, 0, 1, 0])"
      ]
     },
     "execution_count": 75,
     "metadata": {},
     "output_type": "execute_result"
    }
   ],
   "source": [
    "Y"
   ]
  },
  {
   "cell_type": "markdown",
   "metadata": {},
   "source": [
    "### Let's fit the regularized logistic regression. We will crossvalidate the regularization parameter on the training set."
   ]
  },
  {
   "cell_type": "code",
   "execution_count": 69,
   "metadata": {},
   "outputs": [],
   "source": [
    "accs = []\n",
    "\n",
    "#the grid of regularization parameter \n",
    "grid = [0.01,0.1,1,10,100,1000,10000]\n",
    "\n",
    "for c in grid:\n",
    "    \n",
    "    #initialize the classifier\n",
    "    clf = LogisticRegression(random_state=0, solver='lbfgs',C = c)\n",
    "    \n",
    "    #crossvalidate\n",
    "    scores = cross_val_score(clf, X_train,Y_train, cv=10)\n",
    "    accs.append(np.mean(scores))"
   ]
  },
  {
   "cell_type": "code",
   "execution_count": 70,
   "metadata": {},
   "outputs": [
    {
     "data": {
      "text/plain": [
       "(0.986, 1.0)"
      ]
     },
     "execution_count": 70,
     "metadata": {},
     "output_type": "execute_result"
    },
    {
     "data": {
      "image/png": "[encoded data removed]",
      "text/plain": [
       "<Figure size 432x288 with 1 Axes>"
      ]
     },
     "metadata": {
      "needs_background": "light"
     },
     "output_type": "display_data"
    }
   ],
   "source": [
    "plt.plot(accs)\n",
    "plt.xticks(range(len(grid)), grid)\n",
    "plt.xlabel('Regularization parameter \\n (Low - strong regularization, High - weak regularization)')\n",
    "plt.ylabel('Crossvalidation accuracy')\n",
    "plt.ylim([0.986,1])"
   ]
  },
  {
   "cell_type": "markdown",
   "metadata": {},
   "source": [
    "### Let's train again, on the entire training set, with the chosen regularization parameter. We will test on the test set"
   ]
  },
  {
   "cell_type": "code",
   "execution_count": 71,
   "metadata": {},
   "outputs": [
    {
     "name": "stdout",
     "output_type": "stream",
     "text": [
      "Accuracy: 0.9824561403508771\n"
     ]
    }
   ],
   "source": [
    "clf = LogisticRegression(random_state=0, solver='lbfgs',C = 10).fit(X_train,Y_train)\n",
    "\n",
    "#predict on the test set\n",
    "print('Accuracy:',clf.score(X_test,Y_test))"
   ]
  },
  {
   "cell_type": "markdown",
   "metadata": {},
   "source": [
    "### What features characterize Frankenstein? BOW are interpretable!"
   ]
  },
  {
   "cell_type": "code",
   "execution_count": 72,
   "metadata": {},
   "outputs": [
    {
     "name": "stdout",
     "output_type": "stream",
     "text": [
      "['frankenstein' 'towards' 'death' 'creature' 'poor' 'misery' 'me' 'had'\n",
      " 'father' 'by' 'yet' 'my' 'who' 'and' 'which' 'of' 'justine' 'will' 'but'\n",
      " 'this']\n"
     ]
    }
   ],
   "source": [
    "coefs=clf.coef_[0]\n",
    "top_three = np.argpartition(coefs, -20)[-20:]\n",
    "\n",
    "print(np.array(vectorizer.get_feature_names())[top_three])"
   ]
  },
  {
   "cell_type": "markdown",
   "metadata": {
    "collapsed": true
   },
   "source": [
    "### We can perfectly predict paragraphs from Frankenstein! We saw issues of high dimensionality when using bag of words (more features than samples) and how regularization helps."
   ]
  },
  {
   "cell_type": "markdown",
   "metadata": {},
   "source": [
    "### Alternative text representation: word emdeddings, pretrained on intergraded in Spacy (300-dimensional word vectors trained on Common Crawl with GloVe.) Depending on the application, might be suitable or not"
   ]
  },
  {
   "cell_type": "code",
   "execution_count": 76,
   "metadata": {},
   "outputs": [
    {
     "name": "stdout",
     "output_type": "stream",
     "text": [
      "I am already far north of London, and as I walk in the streets of Petersburgh, I feel a cold northern breeze play upon my cheeks, which braces my nerves and fills me with delight. \n",
      "\n",
      "Embedding representation: [0.44159147, 0.47352052, 0.38473955, -0.8381282, 0.8601264, -0.7688055, 0.01724484, 1.2903913, -0.6650688, 0.7241268] ...\n"
     ]
    }
   ],
   "source": [
    "print(example,'\\n')\n",
    "print('Embedding representation:',list((nlp(example).vector)[0:10]),'...')"
   ]
  },
  {
   "cell_type": "markdown",
   "metadata": {},
   "source": [
    "# Task 3: Topic detection"
   ]
  },
  {
   "cell_type": "code",
   "execution_count": 77,
   "metadata": {},
   "outputs": [
    {
     "name": "stdout",
     "output_type": "stream",
     "text": [
      "DRACULA.txt\n",
      "Number of sentences: 9303\n",
      "Number of chunks: 187 \n",
      "\n",
      "Frankenstein.txt\n",
      "Number of sentences: 3378\n",
      "Number of chunks: 68 \n",
      "\n",
      "Moby_Dick.txt\n",
      "Number of sentences: 9609\n",
      "Number of chunks: 193 \n",
      "\n",
      "PRIDE_AND_PREJUDICE.txt\n",
      "Number of sentences: 6055\n",
      "Number of chunks: 122 \n",
      "\n"
     ]
    }
   ],
   "source": [
    "# Get the chunks again (into smaller chunks)\n",
    "book_id = {f:n for n,f in enumerate(our_books.fileids())} # dictionary of books\n",
    "chunks = list()\n",
    "chunk_class = list() # this list contains the original book of the chunk, for evaluation\n",
    "\n",
    "limit = 60 # how many chunks total\n",
    "size = 50 # how many sentences per chunk/page\n",
    "\n",
    "for f in our_books.fileids():\n",
    "    sentences = our_books.sents(f)\n",
    "    print(f)\n",
    "    print('Number of sentences:',len(sentences))\n",
    "    \n",
    "    # create chunks\n",
    "    chunks_of_sents = [x for x in get_chunks(sentences,size)] # this is a list of lists of sentences, which are a list of tokens\n",
    "    chs = list()\n",
    "    \n",
    "    # regroup so to have a list of chunks which are strings\n",
    "    for c in chunks_of_sents:\n",
    "        grouped_chunk = list()\n",
    "        for s in c:\n",
    "            grouped_chunk.extend(s)\n",
    "        chs.append(\" \".join(grouped_chunk))\n",
    "    print(\"Number of chunks:\",len(chs),'\\n')\n",
    "    \n",
    "    # filter to the limit, to have the same number of chunks per book\n",
    "    chunks.extend(chs[:limit])\n",
    "    chunk_class.extend([book_id[f] for _ in range(len(chs[:limit]))])"
   ]
  },
  {
   "cell_type": "code",
   "execution_count": 78,
   "metadata": {
    "scrolled": false
   },
   "outputs": [],
   "source": [
    "STOPWORDS = spacy.lang.en.stop_words.STOP_WORDS\n",
    "\n",
    "processed_docs = list()\n",
    "for doc in nlp.pipe(chunks, n_threads=5, batch_size=10):\n",
    "\n",
    "    # Process document using Spacy NLP pipeline.\n",
    "    ents = doc.ents  # Named entities\n",
    "\n",
    "    # Keep only words (no numbers, no punctuation).\n",
    "    # Lemmatize tokens, remove punctuation and remove stopwords.\n",
    "    doc = [token.lemma_ for token in doc if token.is_alpha and not token.is_stop]\n",
    "\n",
    "    # Remove common words from a stopword list and keep only words of length 3 or more.\n",
    "    doc = [token for token in doc if token not in STOPWORDS and len(token) > 2]\n",
    "\n",
    "    # Add named entities, but only if they are a compound of more than word.\n",
    "    doc.extend([str(entity) for entity in ents if len(entity) > 1])\n",
    "\n",
    "    processed_docs.append(doc)\n",
    "docs = processed_docs\n",
    "del processed_docs"
   ]
  },
  {
   "cell_type": "code",
   "execution_count": 79,
   "metadata": {},
   "outputs": [],
   "source": [
    "# Add bigrams too\n",
    "from gensim.models.phrases import Phrases\n",
    "\n",
    "# Add bigrams to docs (only ones that appear 15 times or more).\n",
    "bigram = Phrases(docs, min_count=15)\n",
    "\n",
    "for idx in range(len(docs)):\n",
    "    for token in bigram[docs[idx]]:\n",
    "        if '_' in token:\n",
    "            # Token is a bigram, add to document.\n",
    "            docs[idx].append(token)"
   ]
  },
  {
   "cell_type": "code",
   "execution_count": 80,
   "metadata": {},
   "outputs": [
    {
     "name": "stdout",
     "output_type": "stream",
     "text": [
      "Number of unique tokens: 3085\n",
      "Number of chunks: 240\n"
     ]
    }
   ],
   "source": [
    "# Create a dictionary representation of the documents, and filter out frequent and rare words.\n",
    "from gensim.corpora import Dictionary\n",
    "dictionary = Dictionary(docs)\n",
    "\n",
    "# Remove rare and common tokens.\n",
    "# Filter out words that occur too frequently or too rarely.\n",
    "max_freq = 0.5\n",
    "min_wordcount = 5\n",
    "dictionary.filter_extremes(no_below=min_wordcount, no_above=max_freq)\n",
    "\n",
    "# Bag-of-words representation of the documents.\n",
    "corpus = [dictionary.doc2bow(doc) for doc in docs]\n",
    "#MmCorpus.serialize(\"models/corpus.mm\", corpus)\n",
    "\n",
    "print('Number of unique tokens: %d' % len(dictionary))\n",
    "print('Number of chunks: %d' % len(corpus))"
   ]
  },
  {
   "cell_type": "code",
   "execution_count": 81,
   "metadata": {},
   "outputs": [],
   "source": [
    "# models\n",
    "from gensim.models import LdaMulticore\n",
    "params = {'passes': 10, 'random_state': seed}\n",
    "base_models = dict()\n",
    "model = LdaMulticore(corpus=corpus, num_topics=4, id2word=dictionary, workers=6,\n",
    "                passes=params['passes'], random_state=params['random_state'])"
   ]
  },
  {
   "cell_type": "code",
   "execution_count": 82,
   "metadata": {},
   "outputs": [
    {
     "data": {
      "text/plain": [
       "[(0,\n",
       "  '0.011*\"ship\" + 0.010*\"old\" + 0.007*\"sea\" + 0.007*\"Captain\" + 0.007*\"Ahab\"'),\n",
       " (1,\n",
       "  '0.005*\"father\" + 0.005*\"life\" + 0.004*\"dear\" + 0.004*\"mind\" + 0.004*\"pass\"'),\n",
       " (2,\n",
       "  '0.023*\"whale\" + 0.008*\"sea\" + 0.008*\"head\" + 0.007*\"room\" + 0.007*\"Queequeg\"'),\n",
       " (3,\n",
       "  '0.015*\"Elizabeth\" + 0.011*\"Darcy\" + 0.010*\"Bingley\" + 0.009*\"Miss\" + 0.008*\"Mrs\"')]"
      ]
     },
     "execution_count": 82,
     "metadata": {},
     "output_type": "execute_result"
    }
   ],
   "source": [
    "model.show_topics(num_words=5)"
   ]
  },
  {
   "cell_type": "code",
   "execution_count": 83,
   "metadata": {},
   "outputs": [
    {
     "data": {
      "text/plain": [
       "[('father', 0.0049368246),\n",
       " ('life', 0.0049256287),\n",
       " ('dear', 0.0038935468),\n",
       " ('mind', 0.0038345421),\n",
       " ('pass', 0.0037508796),\n",
       " ('fear', 0.0037421659),\n",
       " ('heart', 0.0036251082),\n",
       " ('feeling', 0.0035501479),\n",
       " ('love', 0.003524396),\n",
       " ('appear', 0.0032555046),\n",
       " ('sleep', 0.003096897),\n",
       " ('return', 0.0030752262),\n",
       " ('room', 0.0029766832),\n",
       " ('Lucy', 0.0029652594),\n",
       " ('word', 0.0028522157),\n",
       " ('old', 0.0027812514),\n",
       " ('remain', 0.0027675263),\n",
       " ('death', 0.0027245772),\n",
       " ('door', 0.0026066692),\n",
       " ('Elizabeth', 0.0026062431)]"
      ]
     },
     "execution_count": 83,
     "metadata": {},
     "output_type": "execute_result"
    }
   ],
   "source": [
    "model.show_topic(1,20)"
   ]
  },
  {
   "cell_type": "code",
   "execution_count": 84,
   "metadata": {},
   "outputs": [
    {
     "data": {
      "text/plain": [
       "[(2, 0.9972014)]"
      ]
     },
     "execution_count": 84,
     "metadata": {},
     "output_type": "execute_result"
    }
   ],
   "source": [
    "sorted(model[corpus[0]],key=lambda x:x[1],reverse=True)"
   ]
  },
  {
   "cell_type": "code",
   "execution_count": 85,
   "metadata": {},
   "outputs": [
    {
     "data": {
      "text/html": [
       "\n",
       "<link rel=\"stylesheet\" type=\"text/css\" href=\"https://cdn.rawgit.com/bmabey/pyLDAvis/files/ldavis.v1.0.0.css\">\n",
       "\n",
       "\n",
       "<div id=\"ldavis_el901911407177651532326394267984\"></div>\n",
       "<script type=\"text/javascript\">\n",
       "\n",
       "var ldavis_el901911407177651532326394267984_data = {\"mdsDat\": {\"x\": [0.031436465597646755, 0.17589978483341506, -0.10982836721175178, -0.09750788321931031], \"y\": [-0.11220123237811813, 0.05379422173435387, 0.019482828255095588, 0.038924182388668745], \"topics\": [1, 2, 3, 4], \"cluster\": [1, 1, 1, 1], \"Freq\": [36.80514927216005, 28.669524862620342, 20.33190886291781, 14.193417002301794]}, \"tinfo\": {\"Term\": [\"whale\", \"Elizabeth\", \"Darcy\", \"Bingley\", \"ship\", \"Miss\", \"Bennet\", \"sea\", \"Queequeg\", \"Jane\", \"Mrs\", \"Collins\", \"Ahab\", \"old\", \"sister\", \"Captain\", \"Whale\", \"head\", \"Bildad\", \"bed\", \"room\", \"Jonah\", \"Peleg\", \"Lady\", \"Mrs_Bennet\", \"door\", \"Catherine\", \"Wickham\", \"thou\", \"harpooneer\", \"Justine\", \"Felix\", \"Clerval\", \"Geneva\", \"Victor\", \"Safie\", \"Agatha\", \"wretch\", \"beheld\", \"creator\", \"labour\", \"victim\", \"fiend\", \"horrible\", \"inhabit\", \"Frankenstein\", \"hovel\", \"protector\", \"lake\", \"Ernest\", \"thirst\", \"Mont\", \"weep\", \"forever\", \"Ingolstadt\", \"contemplate\", \"unfortunate\", \"Arabian\", \"hatred\", \"desolate\", \"cottage\", \"sensation\", \"murderer\", \"crime\", \"cottager\", \"horror\", \"mountain\", \"gentle\", \"despair\", \"tale\", \"misery\", \"miserable\", \"murder\", \"scene\", \"destroy\", \"human\", \"Lucy\", \"tear\", \"fear\", \"father\", \"life\", \"cause\", \"appear\", \"mind\", \"Count\", \"heart\", \"death\", \"feeling\", \"remain\", \"pass\", \"creature\", \"child\", \"love\", \"discover\", \"dear\", \"return\", \"sleep\", \"work\", \"enter\", \"thought\", \"word\", \"happy\", \"room\", \"door\", \"hope\", \"hour\", \"spirit\", \"old\", \"wish\", \"letter\", \"Elizabeth\", \"moment\", \"Bingley\", \"Bennet\", \"Jane\", \"Collins\", \"Darcy\", \"Wickham\", \"Mrs_Bennet\", \"Catherine\", \"Lady_Catherine\", \"Miss_Bingley\", \"Netherfield\", \"Lady Catherine\", \"Charlotte\", \"Lucas\", \"Longbourn\", \"Lydia\", \"Lizzy\", \"Lady\", \"Miss\", \"Miss_Bennet\", \"Colonel\", \"Bourgh\", \"Fitzwilliam\", \"Hurst\", \"Meryton\", \"Hertfordshire\", \"Colonel_Fitzwilliam\", \"Miss_Lucas\", \"ladyship\", \"Phillips\", \"young_lady\", \"Mrs\", \"Sir_William\", \"sister\", \"Elizabeth\", \"dance\", \"lady\", \"daughter\", \"marry\", \"young\", \"family\", \"wish\", \"dear\", \"gentleman\", \"mother\", \"hope\", \"reply\", \"manner\", \"girl\", \"room\", \"believe\", \"walk\", \"love\", \"father\", \"Bildad\", \"Peleg\", \"Captain_Peleg\", \"Pequod\", \"Captain_Ahab\", \"Captain Ahab\", \"Ahab\", \"Stubb\", \"Starbuck\", \"Flask\", \"fishery\", \"dost\", \"Tashtego\", \"Thou\", \"bulwark\", \"fiery\", \"pulpit\", \"driver\", \"brave\", \"pious\", \"commander\", \"doesn\", \"beef\", \"kick\", \"aloft\", \"thou\", \"tar\", \"Bible\", \"Captain\", \"leg\", \"fight\", \"craft\", \"deck\", \"cabin\", \"mate\", \"ship\", \"passenger\", \"captain\", \"crew\", \"mast\", \"sailor\", \"queer\", \"thee\", \"whaling\", \"old\", \"don\", \"Queequeg\", \"voyage\", \"sail\", \"sea\", \"stand\", \"round\", \"lay\", \"sort\", \"whale\", \"God\", \"world\", \"head\", \"boat\", \"right\", \"white\", \"water\", \"young\", \"Whale\", \"Jonah\", \"landlord\", \"Folio\", \"fin\", \"Sperm\", \"entry\", \"Leviathan\", \"swing\", \"horn\", \"naturalist\", \"shoal\", \"spout\", \"oil\", \"lowly\", \"sperm\", \"sperm_whale\", \"crooked\", \"pier\", \"tomahawk\", \"South\", \"boot\", \"whale_ship\", \"Greenland\", \"West\", \"bedfellow\", \"leviathan\", \"available\", \"wrist\", \"shirt\", \"whale\", \"CHAPTER\", \"fish\", \"bed\", \"key\", \"harpooneer\", \"whaleman\", \"lock\", \"head\", \"Queequeg\", \"sea\", \"foot\", \"door\", \"room\", \"run\", \"open\", \"sleep\", \"sort\", \"light\", \"white\", \"ship\", \"wall\", \"old\", \"large\", \"God\", \"try\", \"window\", \"sit\", \"round\", \"stand\", \"book\", \"face\", \"world\"], \"Freq\": [323.0, 388.0, 222.0, 207.0, 208.0, 195.0, 176.0, 218.0, 160.0, 144.0, 194.0, 143.0, 105.0, 282.0, 179.0, 117.0, 63.0, 187.0, 74.0, 110.0, 256.0, 61.0, 69.0, 89.0, 84.0, 166.0, 79.0, 77.0, 70.0, 73.0, 52.06289890170892, 46.37312956637178, 45.18470560150793, 34.678666937104765, 25.176801186938796, 23.29515725778211, 24.110779930211354, 20.401157729900692, 19.411763969062793, 17.517781939442173, 33.187124208189616, 16.574958842799987, 30.365342028064845, 18.390761541982524, 15.592053719470158, 14.602639642570695, 13.686043018630937, 13.664501742279471, 31.866452059201677, 12.740922644258289, 13.638917569677188, 11.780519903269202, 28.083676409528554, 29.887014423555893, 15.394722250745575, 11.758847353904565, 11.75229854959879, 13.531553435418477, 10.820581306148105, 10.817544054944603, 53.151405350263474, 43.03009038088382, 26.86441578876169, 23.313840220549217, 23.272911170371845, 54.46802366358284, 58.051783174195705, 34.34709631022303, 38.634601067791756, 29.619451892785833, 49.36143781479745, 54.76666351744672, 39.090787290746185, 58.040412430816914, 39.6391334200412, 55.91435221610502, 79.61202535051696, 49.96416847811967, 100.47060702035338, 132.54509867549672, 132.2445084797229, 64.12296624929573, 87.4046039494954, 102.95074805815759, 63.12995466672585, 97.32781231426318, 73.15013003055456, 95.31525949827153, 74.30323842932799, 100.70455428310835, 62.11650825177264, 58.20415988700573, 94.62386954229322, 49.1183358221479, 104.53491952560321, 82.56444293203259, 83.14626367968573, 66.97677904463377, 69.77583849128855, 60.99698699108291, 76.57699953714274, 65.63036800842089, 79.91873536914281, 69.98450632236467, 69.6913424284787, 64.24956344275769, 60.9237991606932, 74.67173427948545, 68.94375512067228, 64.49245602369575, 69.97306681693136, 62.79711506738347, 205.5743939407981, 174.106840220202, 142.74739508124236, 141.74232904582144, 220.048712155144, 76.37982313048262, 82.9152113659311, 78.16950173204205, 71.44118627773861, 67.57547426564415, 48.74640876891681, 59.991439605366274, 72.16054025406126, 58.100863881021105, 40.23435771476041, 36.37930950744857, 36.33051164460424, 87.57243089739339, 189.93899676626634, 34.39991256710347, 29.738028229713443, 30.64717601923916, 28.754043903336516, 29.60321874692379, 29.584152935222257, 24.013761123525192, 23.06541533011814, 23.007684704774398, 21.10626014159102, 19.242941637895136, 34.53581277695764, 176.3046942097561, 38.037645580102016, 157.39947259120217, 313.1462209978842, 60.09807765319251, 103.35447243029664, 73.71258643507201, 45.296020302543404, 130.84071654722771, 77.20253810412068, 106.07288565002932, 112.47720647299658, 45.7605434297821, 71.47120561859929, 89.69619335563586, 69.16525278604328, 82.88332707656278, 69.36430560600166, 93.15738196767495, 71.94339305119317, 67.91279621829997, 70.32989121714063, 67.94903854660913, 73.30040440107034, 68.50276041352382, 28.633844028896945, 44.31682568977572, 38.425898877879675, 21.81297398283431, 100.8297823144727, 42.40653930349834, 38.70700575834079, 35.095988903602134, 14.28449271472843, 9.707930669398024, 12.3364763179366, 9.665638076383832, 13.11121404939663, 9.606353856357343, 16.510111825024616, 27.640318164435897, 11.183969705116885, 6.873527514288169, 7.705026016645687, 7.702322999463719, 7.701827460702157, 23.064815397956426, 8.532483374503432, 62.46080650938455, 5.8849781884874375, 5.877325395191507, 102.09148270634923, 32.347178414894785, 18.15650914453528, 18.12665422911311, 57.48004799982176, 41.53776489060648, 49.84920689836729, 159.78539971049017, 17.169984707524172, 40.01233428062548, 27.325069181287944, 42.84294837715608, 35.9897923404926, 21.325857653603247, 30.90278134204833, 28.091427645814665, 147.54181446433978, 49.057608762702905, 90.83646103058068, 49.71524567761981, 53.409751317294194, 109.7106933231421, 68.4111668935819, 61.561681642308955, 40.04492242900776, 60.77463486614101, 83.03949876073816, 47.159791996411585, 49.910028669847335, 52.37290120682232, 39.17990167906934, 41.14574020511845, 40.473174969182516, 40.35006380271257, 40.16513633400767, 62.209967863081005, 58.29530027738506, 25.35068264171587, 11.70151742450025, 11.652595650809124, 13.373492685816078, 8.628020371474436, 15.521389732392754, 5.995736534792311, 13.576287588293614, 5.93771153611345, 5.905482322879809, 12.608425234576025, 26.042843536208732, 4.822276895532442, 15.170070938135838, 13.472130543064853, 6.2970276687078215, 13.279447120815338, 13.994393498945161, 10.116152071786704, 14.572142434181368, 17.571128641488297, 18.327034409427224, 7.615649545395427, 5.307535739034599, 7.558634007282898, 5.8795009172229875, 5.059784585568309, 5.6837788680030545, 234.6341493424719, 27.13603810319011, 37.67615155957611, 66.18992072891409, 22.835094857153923, 43.044425486226665, 21.50907227852329, 23.71014228376716, 79.42380773038994, 69.00716305319543, 84.5045993410094, 44.33561896333521, 63.269449460461985, 77.56570602053307, 43.867451040549845, 47.34340887210661, 49.74024793428633, 43.875936535937285, 40.64381616416457, 31.610102329694815, 45.381383950274554, 21.683063504399446, 47.54058574986811, 25.770521811226388, 32.09395877633855, 32.06063151107395, 29.638278107081526, 33.08428599696398, 30.594371657253237, 29.305706954196243, 27.562846467917982, 26.903070273719127, 26.69367138981719], \"Total\": [323.0, 388.0, 222.0, 207.0, 208.0, 195.0, 176.0, 218.0, 160.0, 144.0, 194.0, 143.0, 105.0, 282.0, 179.0, 117.0, 63.0, 187.0, 74.0, 110.0, 256.0, 61.0, 69.0, 89.0, 84.0, 166.0, 79.0, 77.0, 70.0, 73.0, 53.05138238879296, 47.26437147482374, 46.29596556079453, 35.68482956084199, 26.038563264336116, 24.11010807184459, 25.072256007796017, 21.215713473600548, 20.250200564578318, 18.32122955367424, 34.71650869001307, 17.35665283678875, 31.817800319173283, 19.28433139571568, 16.3917647927023, 15.426297938862778, 14.462514858934233, 14.46219085438883, 33.74024061595675, 13.497765209341921, 14.461667106058586, 12.533172334663115, 29.89371326893438, 31.81515938123919, 16.38851281495523, 12.53279127647593, 12.532694872186351, 14.459561612892857, 11.568386567229924, 11.56843019962654, 56.88293253860246, 46.28732778472582, 28.926300597047263, 25.07386607933215, 25.06459819773309, 59.74394046940259, 64.57067176388777, 37.59563253062428, 43.352059674593484, 32.77245024717368, 56.8540194195316, 63.61369197137717, 44.31644130564213, 71.2760766025455, 46.25870523226338, 68.3942414588518, 104.91501719163867, 63.52127885459136, 149.10576295229566, 211.5626272652571, 214.35478350710986, 87.5717469618129, 132.7799752548651, 171.04412045204015, 89.65017751972523, 161.44298700518732, 109.61593029734279, 161.54364474739117, 113.4842045995448, 180.6313248855358, 89.52523417855427, 83.71142202551067, 182.49763385043934, 64.51062121191069, 235.19398848920602, 156.69275583668517, 160.76056618399556, 112.52786398709421, 123.0935715828643, 94.23044291645635, 169.931495184965, 118.2202454255645, 256.7778804176338, 166.5807552170162, 171.81637748912894, 123.03727969007578, 99.9857208323866, 282.34110534103235, 188.0641612620314, 138.3301676146777, 388.1509233722188, 137.35540239833162, 207.66628068260235, 176.0867655230117, 144.50573595685177, 143.5539222790566, 222.99029032422257, 77.51783798881333, 84.21458760432955, 79.43210155971103, 72.73392149185626, 68.9041678367857, 49.76302241350758, 61.24983888878173, 73.68980439037975, 59.33464497654308, 41.15067037448879, 37.322414992325, 37.322525799023296, 89.96698172888506, 195.24913995943558, 35.4095324431915, 30.62426325794804, 31.581372135407733, 29.667587298746543, 30.624501857357977, 30.62407898588683, 24.881941120258375, 23.925398148289577, 23.92529192142337, 22.011401516772757, 20.09708660605399, 36.37174648777614, 194.38921645279314, 40.20348836086448, 179.9826743859477, 388.1509233722188, 66.05395381610019, 126.45402124756241, 88.12927951178747, 51.674753830026596, 222.164974597325, 114.1000941170727, 188.0641612620314, 235.19398848920602, 54.57557717433184, 116.05886647751963, 171.81637748912894, 110.26198711635878, 154.52121505304802, 111.1728293148852, 256.7778804176338, 134.38578444420142, 130.48677680575673, 182.49763385043934, 211.5626272652571, 74.16415642778601, 69.41099219481339, 29.480362732910578, 45.648937896690995, 39.94667674341817, 22.826976354730814, 105.5879157671626, 44.70405411928072, 40.90636735610776, 37.09506802790782, 15.22024312275821, 10.46503962065215, 13.319154856435457, 10.465086721992725, 14.272600284545588, 10.465960666179406, 18.07111715802, 30.457274652597437, 12.36853805297556, 7.612691225161032, 8.564156435890158, 8.56405563869521, 8.564598117630178, 25.6869812239027, 9.516590462104155, 70.46145579903461, 6.661967562049887, 6.6620236584597725, 117.11963791661556, 37.14142628037314, 20.94780029891279, 20.951744275060445, 68.60741972344013, 49.54763343274961, 61.00236183237312, 208.93494804524647, 20.00158790408208, 50.538940794716105, 33.358381546992405, 56.287240295496886, 46.736906944809824, 25.725768400088914, 40.05594012400249, 36.24233179854464, 282.34110534103235, 72.57573887811412, 160.76697421949893, 75.47920634463526, 84.11185939022647, 218.37376626004402, 142.58383443527978, 122.52904956288846, 65.92061649298117, 148.38558483435494, 323.0190089296087, 119.87497835941349, 157.2298681851005, 187.22485544421335, 70.8094913595889, 99.53269358570569, 93.93337438248047, 95.8827876809226, 222.164974597325, 63.6900523033915, 61.73094782113305, 27.007842183054304, 12.540146742981783, 12.538215476021985, 14.465383890864675, 9.640560580502871, 17.353172557207312, 6.748890097945409, 15.41832808098252, 6.748061575464978, 6.74697336754128, 14.464712886138063, 30.821595385312573, 5.778409259934088, 18.29515284189623, 16.367726478598826, 7.702408728589091, 16.364949698704105, 17.326799764276164, 12.536046364001617, 18.286994747795042, 22.13453451462898, 23.09661933903204, 9.638615023728008, 6.737420742894778, 9.623178288895712, 7.7066981093386655, 6.745974247512269, 7.692922262229988, 323.0190089296087, 39.40505942334766, 55.78833281941901, 110.7403356738676, 34.71660193017957, 73.86476719622131, 33.603233085616395, 39.49793482102547, 187.22485544421335, 160.76697421949893, 218.37376626004402, 96.11252959272085, 166.5807552170162, 256.7778804176338, 115.13744672440856, 142.34312283980637, 160.76056618399556, 148.38558483435494, 140.34429608992104, 93.93337438248047, 208.93494804524647, 44.25972468413269, 282.34110534103235, 67.15801689666277, 119.87497835941349, 124.88814853201521, 104.04366319055643, 152.60373261795718, 122.52904956288846, 142.58383443527978, 105.61574723694336, 124.73165968036432, 157.2298681851005], \"Category\": [\"Default\", \"Default\", \"Default\", \"Default\", \"Default\", \"Default\", \"Default\", \"Default\", \"Default\", \"Default\", \"Default\", \"Default\", \"Default\", \"Default\", \"Default\", \"Default\", \"Default\", \"Default\", \"Default\", \"Default\", \"Default\", \"Default\", \"Default\", \"Default\", \"Default\", \"Default\", \"Default\", \"Default\", \"Default\", \"Default\", \"Topic1\", \"Topic1\", \"Topic1\", \"Topic1\", \"Topic1\", \"Topic1\", \"Topic1\", \"Topic1\", \"Topic1\", \"Topic1\", \"Topic1\", \"Topic1\", \"Topic1\", \"Topic1\", \"Topic1\", \"Topic1\", \"Topic1\", \"Topic1\", \"Topic1\", \"Topic1\", \"Topic1\", \"Topic1\", \"Topic1\", \"Topic1\", \"Topic1\", \"Topic1\", \"Topic1\", \"Topic1\", \"Topic1\", \"Topic1\", \"Topic1\", \"Topic1\", \"Topic1\", \"Topic1\", \"Topic1\", \"Topic1\", \"Topic1\", \"Topic1\", \"Topic1\", \"Topic1\", \"Topic1\", \"Topic1\", \"Topic1\", \"Topic1\", \"Topic1\", \"Topic1\", \"Topic1\", \"Topic1\", \"Topic1\", \"Topic1\", \"Topic1\", \"Topic1\", \"Topic1\", \"Topic1\", \"Topic1\", \"Topic1\", \"Topic1\", \"Topic1\", \"Topic1\", \"Topic1\", \"Topic1\", \"Topic1\", \"Topic1\", \"Topic1\", \"Topic1\", \"Topic1\", \"Topic1\", \"Topic1\", \"Topic1\", \"Topic1\", \"Topic1\", \"Topic1\", \"Topic1\", \"Topic1\", \"Topic1\", \"Topic1\", \"Topic1\", \"Topic1\", \"Topic1\", \"Topic1\", \"Topic1\", \"Topic1\", \"Topic2\", \"Topic2\", \"Topic2\", \"Topic2\", \"Topic2\", \"Topic2\", \"Topic2\", \"Topic2\", \"Topic2\", \"Topic2\", \"Topic2\", \"Topic2\", \"Topic2\", \"Topic2\", \"Topic2\", \"Topic2\", \"Topic2\", \"Topic2\", \"Topic2\", \"Topic2\", \"Topic2\", \"Topic2\", \"Topic2\", \"Topic2\", \"Topic2\", \"Topic2\", \"Topic2\", \"Topic2\", \"Topic2\", \"Topic2\", \"Topic2\", \"Topic2\", \"Topic2\", \"Topic2\", \"Topic2\", \"Topic2\", \"Topic2\", \"Topic2\", \"Topic2\", \"Topic2\", \"Topic2\", \"Topic2\", \"Topic2\", \"Topic2\", \"Topic2\", \"Topic2\", \"Topic2\", \"Topic2\", \"Topic2\", \"Topic2\", \"Topic2\", \"Topic2\", \"Topic2\", \"Topic2\", \"Topic3\", \"Topic3\", \"Topic3\", \"Topic3\", \"Topic3\", \"Topic3\", \"Topic3\", \"Topic3\", \"Topic3\", \"Topic3\", \"Topic3\", \"Topic3\", \"Topic3\", \"Topic3\", \"Topic3\", \"Topic3\", \"Topic3\", \"Topic3\", \"Topic3\", \"Topic3\", \"Topic3\", \"Topic3\", \"Topic3\", \"Topic3\", \"Topic3\", \"Topic3\", \"Topic3\", \"Topic3\", \"Topic3\", \"Topic3\", \"Topic3\", \"Topic3\", \"Topic3\", \"Topic3\", \"Topic3\", \"Topic3\", \"Topic3\", \"Topic3\", \"Topic3\", \"Topic3\", \"Topic3\", \"Topic3\", \"Topic3\", \"Topic3\", \"Topic3\", \"Topic3\", \"Topic3\", \"Topic3\", \"Topic3\", \"Topic3\", \"Topic3\", \"Topic3\", \"Topic3\", \"Topic3\", \"Topic3\", \"Topic3\", \"Topic3\", \"Topic3\", \"Topic3\", \"Topic3\", \"Topic3\", \"Topic3\", \"Topic3\", \"Topic4\", \"Topic4\", \"Topic4\", \"Topic4\", \"Topic4\", \"Topic4\", \"Topic4\", \"Topic4\", \"Topic4\", \"Topic4\", \"Topic4\", \"Topic4\", \"Topic4\", \"Topic4\", \"Topic4\", \"Topic4\", \"Topic4\", \"Topic4\", \"Topic4\", \"Topic4\", \"Topic4\", \"Topic4\", \"Topic4\", \"Topic4\", \"Topic4\", \"Topic4\", \"Topic4\", \"Topic4\", \"Topic4\", \"Topic4\", \"Topic4\", \"Topic4\", \"Topic4\", \"Topic4\", \"Topic4\", \"Topic4\", \"Topic4\", \"Topic4\", \"Topic4\", \"Topic4\", \"Topic4\", \"Topic4\", \"Topic4\", \"Topic4\", \"Topic4\", \"Topic4\", \"Topic4\", \"Topic4\", \"Topic4\", \"Topic4\", \"Topic4\", \"Topic4\", \"Topic4\", \"Topic4\", \"Topic4\", \"Topic4\", \"Topic4\", \"Topic4\", \"Topic4\", \"Topic4\", \"Topic4\", \"Topic4\", \"Topic4\"], \"logprob\": [30.0, 29.0, 28.0, 27.0, 26.0, 25.0, 24.0, 23.0, 22.0, 21.0, 20.0, 19.0, 18.0, 17.0, 16.0, 15.0, 14.0, 13.0, 12.0, 11.0, 10.0, 9.0, 8.0, 7.0, 6.0, 5.0, 4.0, 3.0, 2.0, 1.0, -6.245500087738037, -6.361199855804443, -6.387199878692627, -6.651800155639648, -6.9720001220703125, -7.049699783325195, -7.0152997970581055, -7.182400226593018, -7.232100009918213, -7.334700107574463, -6.695799827575684, -7.390100002288818, -6.7846999168396, -7.286099910736084, -7.451200008392334, -7.5167999267578125, -7.581600189208984, -7.583199977874756, -6.736400127410889, -7.65310001373291, -7.585000038146973, -7.731500148773193, -6.862800121307373, -6.80049991607666, -7.463900089263916, -7.733399868011475, -7.73390007019043, -7.592899799346924, -7.816500186920166, -7.816800117492676, -6.224800109863281, -6.436100006103516, -6.907199859619141, -7.048900127410889, -7.0507001876831055, -6.200300216674805, -6.136600017547607, -6.661399841308594, -6.543799877166748, -6.809500217437744, -6.298799991607666, -6.194900035858154, -6.532100200653076, -6.1367998123168945, -6.518099784851074, -6.174099922180176, -5.820799827575684, -6.286600112915039, -5.588099956512451, -5.310999870300293, -5.313300132751465, -6.037199974060059, -5.727399826049805, -5.563700199127197, -6.052800178527832, -5.619900226593018, -5.905399799346924, -5.6407999992370605, -5.889800071716309, -5.5858001708984375, -6.068900108337402, -6.133999824523926, -5.6479997634887695, -6.303699970245361, -5.548399925231934, -5.78439998626709, -5.777400016784668, -5.993599891662598, -5.952700138092041, -6.087100028991699, -5.8597002029418945, -6.013899803161621, -5.81689977645874, -5.949699878692627, -5.95389986038208, -6.035200119018555, -6.0883002281188965, -5.884900093078613, -5.964700222015381, -6.031400203704834, -5.94980001449585, -6.058000087738037, -4.622300148010254, -4.78849983215332, -4.987100124359131, -4.994100093841553, -4.554299831390381, -5.612400054931641, -5.530300140380859, -5.589300155639648, -5.679299831390381, -5.734899997711182, -6.061500072479248, -5.854000091552734, -5.669300079345703, -5.886000156402588, -6.253399848937988, -6.3541998863220215, -6.355500221252441, -5.4756999015808105, -4.701399803161621, -6.410099983215332, -6.555699825286865, -6.525599956512451, -6.589399814605713, -6.560299873352051, -6.5609002113342285, -6.769499778747559, -6.809800148010254, -6.812300205230713, -6.898600101470947, -6.991000175476074, -6.406199932098389, -4.775899887084961, -6.309599876403809, -4.889400005340576, -4.201499938964844, -5.852200031280518, -5.309999942779541, -5.6479997634887695, -6.134900093078613, -5.07420015335083, -5.6016998291015625, -5.283999919891357, -5.225399971008301, -6.12470006942749, -5.678899765014648, -5.451700210571289, -5.711699962615967, -5.530700206756592, -5.708799839019775, -5.413899898529053, -5.672299861907959, -5.729899883270264, -5.695000171661377, -5.729400157928467, -5.309899806976318, -5.377600193023682, -6.249899864196777, -5.8130998611450195, -5.9558000564575195, -6.521999835968018, -4.991099834442139, -5.8572001457214355, -5.948500156402588, -6.04640007019043, -6.945300102233887, -7.331600189208984, -7.091899871826172, -7.335899829864502, -7.031000137329102, -7.342100143432617, -6.80049991607666, -6.285200119018555, -7.190000057220459, -7.676799774169922, -7.562600135803223, -7.563000202178955, -7.5630998611450195, -6.46619987487793, -7.460599899291992, -5.46999979019165, -7.832099914550781, -7.833399772644043, -4.978600025177002, -6.127999782562256, -6.70550012588501, -6.707099914550781, -5.553100109100342, -5.877900123596191, -5.695499897003174, -4.530700206756592, -6.761300086975098, -5.915299892425537, -6.2967000007629395, -5.8470001220703125, -6.021299839019775, -6.544600009918213, -6.173699855804443, -6.269000053405762, -4.610400199890137, -5.71150016784668, -5.095399856567383, -5.698200225830078, -5.626500129699707, -4.906700134277344, -5.379000186920166, -5.484499931335449, -5.9145002365112305, -5.497300148010254, -5.185200214385986, -5.750999927520752, -5.694300174713135, -5.646100044250488, -5.936299800872803, -5.887400150299072, -5.903900146484375, -5.906899929046631, -5.911499977111816, -5.11460018157959, -5.179599761962891, -6.01230001449585, -6.785399913787842, -6.789599895477295, -6.651800155639648, -7.090099811553955, -6.502900123596191, -7.453999996185303, -6.6367998123168945, -7.463799953460693, -7.469200134277344, -6.710700035095215, -5.985400199890137, -7.671800136566162, -6.5258002281188965, -6.644499778747559, -7.40500020980835, -6.658899784088135, -6.606400012969971, -6.931000232696533, -6.565999984741211, -6.378799915313721, -6.336699962615967, -7.214900016784668, -7.576000213623047, -7.222400188446045, -7.473599910736084, -7.623799800872803, -7.507500171661377, -3.787100076675415, -5.944200038909912, -5.616099834442139, -5.052599906921387, -6.116799831390381, -5.482900142669678, -6.176599979400635, -6.07919979095459, -4.870299816131592, -5.010900020599365, -4.808300018310547, -5.4532999992370605, -5.097700119018555, -4.894000053405762, -5.463900089263916, -5.387700080871582, -5.3383002281188965, -5.463699817657471, -5.540200233459473, -5.791600227355957, -5.429999828338623, -6.168600082397461, -5.383500099182129, -5.9959001541137695, -5.776400089263916, -5.777500152587891, -5.855999946594238, -5.745999813079834, -5.8242998123168945, -5.867300033569336, -5.928599834442139, -5.952899932861328, -5.960700035095215], \"loglift\": [30.0, 29.0, 28.0, 27.0, 26.0, 25.0, 24.0, 23.0, 22.0, 21.0, 20.0, 19.0, 18.0, 17.0, 16.0, 15.0, 14.0, 13.0, 12.0, 11.0, 10.0, 9.0, 8.0, 7.0, 6.0, 5.0, 4.0, 3.0, 2.0, 1.0, 0.9807, 0.9805, 0.9752, 0.9709, 0.9659, 0.9651, 0.9604, 0.9604, 0.9572, 0.9547, 0.9545, 0.9534, 0.9528, 0.9521, 0.9495, 0.9447, 0.9443, 0.9428, 0.9424, 0.9418, 0.941, 0.9376, 0.9371, 0.937, 0.937, 0.9358, 0.9352, 0.9332, 0.9327, 0.9324, 0.9317, 0.9266, 0.9256, 0.9268, 0.9254, 0.9071, 0.8931, 0.9092, 0.8843, 0.8984, 0.8582, 0.8498, 0.8741, 0.7941, 0.8451, 0.7981, 0.7235, 0.7595, 0.6047, 0.5319, 0.5166, 0.6879, 0.5814, 0.4919, 0.6488, 0.4935, 0.5951, 0.4719, 0.576, 0.4153, 0.634, 0.6361, 0.3427, 0.7269, 0.1886, 0.3588, 0.3402, 0.4807, 0.4319, 0.5646, 0.2024, 0.411, -0.1677, 0.1323, 0.0972, 0.3498, 0.5041, -0.3305, -0.004, 0.2364, -0.7138, 0.2169, 1.2392, 1.238, 1.2371, 1.2366, 1.2361, 1.2345, 1.2338, 1.2333, 1.2314, 1.2299, 1.2287, 1.2286, 1.2284, 1.2283, 1.2268, 1.2237, 1.2224, 1.2224, 1.2218, 1.2204, 1.22, 1.2193, 1.2181, 1.2154, 1.2148, 1.2138, 1.2127, 1.2102, 1.2073, 1.2059, 1.1975, 1.1517, 1.194, 1.1153, 1.0346, 1.1548, 1.0476, 1.0707, 1.1176, 0.7199, 0.8587, 0.6767, 0.5117, 1.0732, 0.7645, 0.5993, 0.783, 0.6264, 0.7776, 0.2354, 0.6245, 0.5963, 0.2958, 0.1136, 1.5813, 1.5798, 1.5638, 1.5634, 1.5542, 1.5475, 1.5469, 1.5402, 1.5377, 1.5376, 1.5295, 1.5179, 1.5163, 1.5135, 1.5081, 1.5073, 1.5026, 1.4959, 1.4923, 1.4908, 1.4873, 1.4869, 1.4868, 1.4853, 1.4838, 1.4725, 1.469, 1.4677, 1.4557, 1.4548, 1.45, 1.4481, 1.416, 1.4166, 1.3911, 1.3248, 1.4403, 1.3594, 1.3935, 1.3201, 1.3317, 1.4054, 1.3335, 1.3382, 0.944, 1.2013, 1.0221, 1.1754, 1.1388, 0.9046, 0.8586, 0.9047, 1.0945, 0.7003, 0.2346, 0.6601, 0.4455, 0.3191, 1.0011, 0.7096, 0.751, 0.7274, -0.1174, 1.9289, 1.8951, 1.8891, 1.8832, 1.8791, 1.8739, 1.8414, 1.8408, 1.8341, 1.8252, 1.8245, 1.8192, 1.815, 1.7839, 1.7715, 1.7651, 1.7577, 1.7509, 1.7435, 1.7388, 1.7379, 1.7253, 1.7215, 1.7211, 1.7168, 1.7138, 1.7109, 1.6818, 1.6648, 1.6497, 1.6327, 1.5794, 1.5599, 1.4377, 1.5335, 1.4124, 1.5062, 1.442, 1.0949, 1.1066, 1.003, 1.1787, 0.9843, 0.7553, 0.9874, 0.8516, 0.7793, 0.7339, 0.7131, 0.8633, 0.4255, 1.2388, 0.1709, 0.9946, 0.6346, 0.5926, 0.6966, 0.4236, 0.5649, 0.3702, 0.6091, 0.4185, 0.1791]}, \"token.table\": {\"Topic\": [1, 1, 2, 3, 4, 1, 2, 3, 4, 3, 3, 2, 3, 4, 2, 1, 2, 3, 4, 1, 2, 3, 4, 3, 3, 4, 3, 2, 4, 2, 3, 4, 1, 2, 4, 2, 2, 1, 2, 3, 4, 2, 3, 4, 1, 2, 3, 4, 1, 1, 2, 2, 3, 4, 1, 1, 1, 2, 3, 4, 3, 4, 2, 2, 1, 2, 3, 4, 3, 4, 1, 2, 4, 2, 4, 2, 4, 2, 3, 4, 2, 2, 2, 4, 1, 2, 3, 4, 2, 2, 1, 2, 3, 4, 2, 2, 4, 2, 1, 1, 2, 3, 4, 2, 3, 2, 3, 3, 4, 2, 3, 4, 1, 2, 4, 1, 4, 3, 4, 1, 2, 3, 4, 1, 2, 3, 3, 3, 1, 1, 4, 3, 4, 2, 4, 3, 1, 2, 3, 4, 1, 4, 1, 2, 3, 4, 3, 4, 3, 1, 1, 2, 3, 4, 1, 2, 3, 4, 1, 2, 3, 4, 3, 4, 2, 3, 3, 4, 1, 3, 4, 1, 3, 4, 1, 2, 3, 4, 1, 2, 3, 4, 3, 1, 1, 3, 4, 1, 2, 3, 4, 1, 1, 2, 3, 4, 1, 3, 4, 1, 4, 3, 4, 1, 2, 3, 4, 1, 2, 3, 4, 1, 2, 3, 4, 1, 2, 3, 4, 1, 2, 3, 4, 1, 1, 2, 3, 1, 2, 3, 4, 1, 2, 3, 4, 3, 1, 2, 3, 4, 1, 2, 3, 4, 3, 1, 3, 4, 1, 2, 3, 4, 4, 1, 2, 3, 4, 1, 2, 3, 4, 1, 2, 3, 4, 1, 2, 3, 4, 1, 2, 3, 4, 1, 3, 3, 1, 3, 4, 4, 1, 2, 3, 4, 3, 1, 2, 3, 4, 1, 2, 1, 2, 4, 1, 2, 3, 4, 1, 2, 3, 4, 1, 2, 3, 4, 1, 2, 3, 4, 1, 1, 2, 3, 4, 1, 2, 3, 4, 1, 2, 3, 4, 3, 4, 1, 1, 3, 4, 1, 2, 3, 4, 1, 1, 2, 3, 4, 1, 1, 3, 4, 2, 3, 1, 3, 4, 1, 2, 3, 4, 2, 1, 3, 2, 3, 4, 1, 2, 3, 4, 1, 2, 3, 4, 2, 3, 4, 1, 2, 3, 4, 3, 4, 1, 2, 3, 4, 1, 2, 3, 4, 1, 3, 4, 1, 2, 3, 4, 4, 1, 2, 3, 4, 1, 2, 3, 4, 1, 3, 4, 1, 3, 4, 1, 2, 3, 4, 1, 2, 3, 4, 1, 2, 3, 4, 1, 2, 3, 4, 1, 2, 3, 4, 1, 3, 4, 1, 3, 4, 1, 3, 4, 4, 2, 3, 4, 1, 2, 3, 4, 1, 2, 3, 4, 1, 2, 3, 4, 1, 3, 4, 3, 4, 3, 1, 1, 3, 2, 3, 4, 1, 2, 3, 4, 1, 2, 3, 4, 1, 2, 3, 4, 1, 2, 3, 4, 1, 2, 3, 4, 1, 2, 3, 4, 1, 2, 3, 4, 1, 3, 4, 1, 2, 3, 4, 1, 2, 3, 4, 1, 2, 3, 4, 1, 2, 4, 1, 2, 3, 4, 3, 4, 4, 1, 2, 3, 4, 1, 2, 3, 4, 1, 2, 3, 4, 1, 2, 3, 4, 3, 4, 3, 4, 1, 2, 3, 4, 1, 4, 1, 2, 3, 4, 4, 1, 3, 4, 3, 1, 2, 3, 4, 1, 3, 4, 1, 1, 3, 4, 1, 2, 3, 4, 3, 4, 1, 2, 3, 4, 1, 1, 1, 2, 3, 4, 1, 2, 3, 4, 1, 3, 4, 1, 3, 4, 1, 4, 1, 2, 3, 4, 3, 4, 3, 4, 2, 3, 4, 1, 2, 3, 4, 1, 2, 3, 4, 1, 2, 3, 4, 1, 2, 3, 4, 1, 2, 3, 4, 1, 2, 3, 4, 1, 1, 4, 1, 2, 3, 4, 2, 4], \"Freq\": [0.95723336553908, 0.009470780749239828, 0.009470780749239828, 0.9565488556732226, 0.018941561498479656, 0.9682174587863653, 0.9881492199779262, 0.005679018505620265, 0.005679018505620265, 0.9006272429520569, 0.9843029775587139, 0.9919761615745933, 0.004815418260070842, 0.004815418260070842, 0.9815912958779925, 0.02537745189663376, 0.02537745189663376, 0.25377451896633757, 0.6851912012091115, 0.00853827776270927, 0.03415311105083708, 0.8709043317963454, 0.07684449986438342, 0.963771971290476, 0.9512681178481532, 0.02503337152231982, 0.9837056708812364, 0.9819707456860564, 0.01258936853443662, 0.9770686812869277, 0.01357039835120733, 0.01357039835120733, 0.9720069439076132, 0.9891753408448436, 0.0069660235270763635, 0.9796154032281569, 0.9613215152134998, 0.7027314584640779, 0.011154467594667903, 0.05577233797333951, 0.23424381948802594, 0.9865900424638456, 0.00448450019301748, 0.00896900038603496, 0.18034222201984365, 0.8063873641744437, 0.005152634914852675, 0.007728952372279013, 0.9631223982917251, 0.973248951898213, 0.9774977556474655, 0.02695776158835098, 0.9435216555922843, 0.9569266010954711, 0.9723655059332917, 0.9808089440451335, 0.3086549045211526, 0.03336809778607055, 0.39207514898632895, 0.2669447822885644, 0.17318551868065887, 0.7793348340629649, 0.9645549711738399, 0.9796077709192866, 0.9152752400029762, 0.9895800955797259, 0.006920140528529552, 0.006920140528529552, 0.048597990244578365, 0.939561144728515, 0.980181809757797, 0.9781366264479946, 0.02223037787381806, 0.9795944134473364, 0.016326573557455606, 0.9761607588826294, 0.013748743082853935, 0.05762635026554086, 0.05762635026554086, 0.9220216042486538, 0.9645649438051187, 0.9720376274792806, 0.9775064807909324, 0.016853560013636765, 0.7625219167039864, 0.04765761979399915, 0.12390981146439779, 0.0667206677115988, 0.9645678075066433, 0.9796212977972517, 0.005121661484438585, 0.9731156820433312, 0.005121661484438585, 0.015364984453315756, 0.9601934183837967, 0.9868778933819008, 0.014512910196792659, 0.9613257834235729, 0.9574591076842919, 0.005144318281888065, 0.9054000176122995, 0.01028863656377613, 0.07716477422832098, 0.9855774677656071, 0.011874427322477194, 0.9846668796125924, 0.9940788601082107, 0.9638778474885278, 0.02190631471564836, 0.9454106643634852, 0.5660366529991139, 0.4291926269993281, 0.9539567359658185, 0.9451916127007168, 0.049746926984248256, 0.15953993323949245, 0.7976996661974622, 0.06913055384804064, 0.8986972000245282, 0.02444607195976519, 0.02444607195976519, 0.9533968064308425, 0.02444607195976519, 0.022369335839916654, 0.022369335839916654, 0.9395121052764995, 0.9009580659843386, 0.9555582543797435, 0.9601144174587163, 0.10374934547528195, 0.8299947638022556, 0.015701039076501905, 0.9734644227431181, 0.9804195004892633, 0.012900256585385043, 0.9457168547746947, 0.655219281619894, 0.27112521998064576, 0.030125024442293976, 0.03765628055286747, 0.12975725606641325, 0.7785435363984794, 0.24381360085015016, 0.027090400094461127, 0.12642186710748526, 0.5959888020781449, 0.14842475157197074, 0.7421237578598537, 0.9340776870232876, 0.9382623119908664, 0.409269479115454, 0.5357709544784125, 0.04464757953986771, 0.014882526513289238, 0.25420320997069934, 0.014122400553927742, 0.5507736216031819, 0.18359120720106065, 0.28404855132726164, 0.28404855132726164, 0.170429130796357, 0.26511198123877755, 0.16405101228356428, 0.8202550614178215, 0.08085029901811436, 0.8893532891992579, 0.9108361294246037, 0.07006431764804644, 0.060547795972371976, 0.8476691436132077, 0.0807303946298293, 0.019786722560369747, 0.7914689024147898, 0.1780805030433277, 0.7308293167647809, 0.1598689130422958, 0.0799344565211479, 0.034257624223349104, 0.6928564656603823, 0.17918701698113335, 0.07167480679245333, 0.047783204528302224, 0.9341258604845277, 0.9574882191267335, 0.9317381793569207, 0.035159931296487576, 0.017579965648243788, 0.9176289130411905, 0.03989690926266046, 0.8591170149697749, 0.09545744610775277, 0.9824668124629322, 0.6925421705833646, 0.12287038510350018, 0.07819024506586375, 0.10053031508468196, 0.02997747353513798, 0.8093917854487255, 0.11990989414055192, 0.9172897361431793, 0.0398821624410078, 0.12982951635483742, 0.7789770981290246, 0.06055655670720846, 0.9083483506081269, 0.015139139176802116, 0.015139139176802116, 0.13616360041154058, 0.839675535871167, 0.02269393340192343, 0.011346966700961716, 0.44643998205259766, 0.47620264752277086, 0.072280758998992, 0.004251809352881882, 0.6659615970231801, 0.05473656961834358, 0.1915779936642025, 0.08210485442751536, 0.058302731922060265, 0.014575682980515066, 0.8308139298893588, 0.0874540978830904, 0.9508636703668842, 0.8996112362997135, 0.02306695477691573, 0.0692008643307472, 0.8647021095631917, 0.021617552739079792, 0.043235105478159584, 0.06485265821723937, 0.7595648449739787, 0.12401058693452713, 0.062005293467263564, 0.04650397010044767, 0.9341368549561236, 0.08267225511925659, 0.041336127559628295, 0.6751567501405955, 0.19290192861159872, 0.4202166085080248, 0.13206807695966494, 0.07203713288708996, 0.37819494765722234, 0.9555625551828375, 0.06566575712411739, 0.9193205997376434, 0.032832878562058694, 0.5686730760986759, 0.20309752717809854, 0.10561071413261124, 0.12185851630685912, 0.9335556708394795, 0.360774482720076, 0.10422373945246641, 0.320688429084512, 0.21646468963204563, 0.2541628052492619, 0.6748460691101091, 0.04382117331883825, 0.026292703991302954, 0.6286554563970539, 0.3214178273308245, 0.0425405947937856, 0.009453465509730134, 0.6706648892705349, 0.1073063822832856, 0.14083962674681233, 0.0804797867124642, 0.5880763687643255, 0.346655543692655, 0.03095138782970134, 0.03095138782970134, 0.9428684478204521, 0.03142894826068174, 0.9554784619356396, 0.047737709245390364, 0.8592787664170265, 0.047737709245390364, 0.9570739969295259, 0.07169957942546125, 0.07169957942546125, 0.17924894856365312, 0.6811460045418819, 0.9198276195119622, 0.2601117680071277, 0.020808941440570217, 0.2601117680071277, 0.45779671169254477, 0.9429467141909226, 0.03143155713969742, 0.9043603661224376, 0.05319766859543751, 0.026598834297718754, 0.03664642874250071, 0.8428678610775163, 0.05496964311375106, 0.07329285748500142, 0.26085510442358706, 0.620655248456121, 0.09894503960894681, 0.008995003600813347, 0.558280011705405, 0.4144806147509825, 0.0253763641684275, 0.0084587880561425, 0.013538254271397161, 0.013538254271397161, 0.39260937387051764, 0.5821449336700779, 0.9508672567322389, 0.18694099091148084, 0.10682342337798904, 0.2777409007827715, 0.42195252234305675, 0.6008313014976816, 0.16104756534989403, 0.17962997673642028, 0.05574723415957871, 0.4074116857947898, 0.5238150245933012, 0.05820166939925569, 0.01746050081977671, 0.06485787529929612, 0.9080102541901458, 0.9334002631794114, 0.9038573548334278, 0.06695239665432798, 0.016738099163581995, 0.5201675472768296, 0.23570091985981342, 0.12191426889300694, 0.12191426889300694, 0.968019748747327, 0.8187823829246125, 0.07310556990398326, 0.05848445592318661, 0.04386334194238996, 0.9760999015263618, 0.28804662449716534, 0.028804662449716533, 0.6625072363434803, 0.0778604532220752, 0.8953952120538647, 0.9505564137989815, 0.028804739812090346, 0.028804739812090346, 0.10280416448401869, 0.8145253032195326, 0.023724037957850466, 0.05535608856831776, 0.9540510168785906, 0.9484224005464341, 0.029638200017076066, 0.037026282707895715, 0.037026282707895715, 0.9256570676973929, 0.11912204037099162, 0.2680245908347311, 0.23824408074198325, 0.38714663120572274, 0.1972068935578623, 0.09101856625747491, 0.6067904417164994, 0.09101856625747491, 0.0269241141266682, 0.8615716520533824, 0.1076964565066728, 0.4626611902782745, 0.4409739469839804, 0.04337448658858824, 0.04337448658858824, 0.20783154379544452, 0.8313261751817781, 0.6158015129884972, 0.1772761931330522, 0.1539503782471243, 0.05598195572622701, 0.42752004656859693, 0.057002672875812926, 0.22088535739377507, 0.29213869848854124, 0.27849557324562957, 0.1012711175438653, 0.6076267052631917, 0.5205546943028012, 0.3835666168546956, 0.08767236956678758, 0.010959046195848447, 0.86529004351918, 0.33005176656481383, 0.5371430710760695, 0.058244429393790674, 0.0776592391917209, 0.05805542895991104, 0.8708314343986656, 0.05805542895991104, 0.01935180965330368, 0.017766015792392693, 0.7639386790728858, 0.2131921895087123, 0.08196403958488323, 0.8196403958488323, 0.09835684750185987, 0.6021838092288044, 0.1637004529942381, 0.18123978724362078, 0.052618002748147964, 0.8645937422520158, 0.07859943111381962, 0.015719886222763924, 0.04715965866829177, 0.8618563911624965, 0.08794452971045882, 0.017588905942091764, 0.017588905942091764, 0.45866415808895206, 0.2548134211605289, 0.16016843615804674, 0.13104690231112917, 0.2929547826196091, 0.6117585166468308, 0.051697902815225134, 0.04308158567935428, 0.8982406162984581, 0.06194762871023849, 0.030973814355119245, 0.8800345616883892, 0.090259955044963, 0.02256498876124075, 0.9334066037727653, 0.034570614954546865, 0.034570614954546865, 0.8891442279980333, 0.03244478384388014, 0.12977913537552055, 0.8435643799408836, 0.26563613509060074, 0.04604359674903746, 0.5241886399121187, 0.17000712645798446, 0.38639028639196893, 0.14753083662238814, 0.1405055586879887, 0.3301880629167735, 0.5591499706045042, 0.25466236284957616, 0.13840345807042184, 0.04982524490535186, 0.0499960305549497, 0.8499325194341449, 0.0999920611098994, 0.18331862029722962, 0.7943806879546617, 0.9195171317160481, 0.9680414358348363, 0.055336921965347216, 0.9407276734109027, 0.03887153084984407, 0.8163021478467255, 0.11661459254953221, 0.6520731256048018, 0.17623597989318968, 0.11455338693057329, 0.0528707939679569, 0.2811485699716793, 0.6257823009047055, 0.0725544696701108, 0.0181386174175277, 0.5296990250558087, 0.414824537694308, 0.012763831929055629, 0.0446734117516947, 0.15070425062980727, 0.24112680100769163, 0.4119249517214732, 0.19089205079775587, 0.311553315534363, 0.362180729308697, 0.023366498665077225, 0.3037644826460039, 0.18771058848534666, 0.05712930953901855, 0.5060024559170214, 0.2530012279585107, 0.1910759759390783, 0.09553798796953915, 0.3300403220765898, 0.3821519518781566, 0.11888929899416738, 0.6301132846690871, 0.23777859798833476, 0.021396366712518423, 0.021396366712518423, 0.7702692016506631, 0.21396366712518422, 0.8137372701281461, 0.11223962346595118, 0.04208985879973169, 0.028059905866487794, 0.10532400660531321, 0.004579304635013618, 0.5037235098514979, 0.3892408939761575, 0.9289799618587922, 0.021604185159506795, 0.04320837031901359, 0.01435853612843327, 0.004786178709477757, 0.7657885935164411, 0.21537804192649906, 0.12998961459804545, 0.7799376875882726, 0.8892876365668106, 0.07778526487487877, 0.8723061846682834, 0.03889263243743939, 0.005556090348205626, 0.314540143786442, 0.24901094716426658, 0.22279926851539641, 0.21624634885317887, 0.516295768111465, 0.03732258564661193, 0.13684948070424374, 0.31102154705509943, 0.07413119011714962, 0.22239357035144885, 0.4110911451951024, 0.2965247604685985, 0.10931857291839421, 0.8198892968879565, 0.1221916802321352, 0.7942459215088788, 0.6100871153617903, 0.26003713113781224, 0.09001285308616577, 0.040005712482740347, 0.0691337607508496, 0.8987388897610448, 0.1753354445755753, 0.14026835566046023, 0.4769124092455648, 0.20338911570766732, 0.889035072867256, 0.9154030221645457, 0.030513434072151523, 0.030513434072151523, 0.9006348265907498, 0.7871378048678245, 0.04722826829206947, 0.12594204877885193, 0.03148551219471298, 0.1747556037464074, 0.7739176737340899, 0.049930172498973545, 0.9680764947310138, 0.08515293832578187, 0.8799136960330795, 0.014192156387630312, 0.647349180498726, 0.14857194306528138, 0.13795966141776128, 0.0636736898851206, 0.17314218671732465, 0.807996871347515, 0.33630092601807815, 0.24822211206096242, 0.1521361331986544, 0.2562292769661548, 0.9574955843400804, 0.979451519821103, 0.11923813770518908, 0.01324868196724323, 0.6624340983621615, 0.21197891147589168, 0.3218716948041518, 0.5211256011114838, 0.08429972959156355, 0.06897250602946109, 0.3163146653060646, 0.18075123731775122, 0.49706590262381584, 0.3233114175107358, 0.41717602259449776, 0.25030561355669867, 0.9366517885584213, 0.03345184959137219, 0.0030957930411393128, 0.012383172164557251, 0.25695082241456296, 0.7275113646677385, 0.1807130842239466, 0.8132088790077596, 0.3273494539044359, 0.6546989078088719, 0.027592043623422605, 0.772577221455833, 0.19314430536395824, 0.20227102587239423, 0.03193753040090435, 0.4258337386787247, 0.34066699094297975, 0.5670696147245531, 0.10572484342322176, 0.048056747010555345, 0.28834048206333207, 0.3668960610940737, 0.5636374271879973, 0.0584906764063016, 0.010634668437509383, 0.45312377153033323, 0.2589278694459047, 0.18831117777883977, 0.10004031319500863, 0.5954080849493794, 0.10664025402078438, 0.1510736931961112, 0.14218700536104584, 0.31164562157054176, 0.20352367122974158, 0.3180057362964712, 0.17172309760009444, 0.9426974975358098, 0.1482365575837727, 0.7411827879188634, 0.18904870165121745, 0.5896519027692735, 0.18004638252496902, 0.04051043606811803, 0.9622853830173604, 0.027493868086210297], \"Term\": [\"Agatha\", \"Ahab\", \"Ahab\", \"Ahab\", \"Ahab\", \"Arabian\", \"Bennet\", \"Bennet\", \"Bennet\", \"Bible\", \"Bildad\", \"Bingley\", \"Bingley\", \"Bingley\", \"Bourgh\", \"CHAPTER\", \"CHAPTER\", \"CHAPTER\", \"CHAPTER\", \"Captain\", \"Captain\", \"Captain\", \"Captain\", \"Captain Ahab\", \"Captain_Ahab\", \"Captain_Ahab\", \"Captain_Peleg\", \"Catherine\", \"Catherine\", \"Charlotte\", \"Charlotte\", \"Charlotte\", \"Clerval\", \"Collins\", \"Collins\", \"Colonel\", \"Colonel_Fitzwilliam\", \"Count\", \"Count\", \"Count\", \"Count\", \"Darcy\", \"Darcy\", \"Darcy\", \"Elizabeth\", \"Elizabeth\", \"Elizabeth\", \"Elizabeth\", \"Ernest\", \"Felix\", \"Fitzwilliam\", \"Flask\", \"Flask\", \"Folio\", \"Frankenstein\", \"Geneva\", \"God\", \"God\", \"God\", \"God\", \"Greenland\", \"Greenland\", \"Hertfordshire\", \"Hurst\", \"Ingolstadt\", \"Jane\", \"Jane\", \"Jane\", \"Jonah\", \"Jonah\", \"Justine\", \"Lady\", \"Lady\", \"Lady Catherine\", \"Lady Catherine\", \"Lady_Catherine\", \"Lady_Catherine\", \"Leviathan\", \"Leviathan\", \"Leviathan\", \"Lizzy\", \"Longbourn\", \"Lucas\", \"Lucas\", \"Lucy\", \"Lucy\", \"Lucy\", \"Lucy\", \"Lydia\", \"Meryton\", \"Miss\", \"Miss\", \"Miss\", \"Miss\", \"Miss_Bennet\", \"Miss_Bingley\", \"Miss_Bingley\", \"Miss_Lucas\", \"Mont\", \"Mrs\", \"Mrs\", \"Mrs\", \"Mrs\", \"Mrs_Bennet\", \"Mrs_Bennet\", \"Netherfield\", \"Peleg\", \"Pequod\", \"Pequod\", \"Phillips\", \"Queequeg\", \"Queequeg\", \"Safie\", \"Sir_William\", \"Sir_William\", \"South\", \"South\", \"Sperm\", \"Sperm\", \"Starbuck\", \"Starbuck\", \"Starbuck\", \"Starbuck\", \"Stubb\", \"Stubb\", \"Stubb\", \"Tashtego\", \"Thou\", \"Victor\", \"West\", \"West\", \"Whale\", \"Whale\", \"Wickham\", \"Wickham\", \"aloft\", \"appear\", \"appear\", \"appear\", \"appear\", \"available\", \"available\", \"bed\", \"bed\", \"bed\", \"bed\", \"bedfellow\", \"bedfellow\", \"beef\", \"beheld\", \"believe\", \"believe\", \"believe\", \"believe\", \"boat\", \"boat\", \"boat\", \"boat\", \"book\", \"book\", \"book\", \"book\", \"boot\", \"boot\", \"brave\", \"brave\", \"bulwark\", \"bulwark\", \"cabin\", \"cabin\", \"cabin\", \"captain\", \"captain\", \"captain\", \"cause\", \"cause\", \"cause\", \"cause\", \"child\", \"child\", \"child\", \"child\", \"commander\", \"contemplate\", \"cottage\", \"cottage\", \"cottage\", \"cottager\", \"cottager\", \"craft\", \"craft\", \"creator\", \"creature\", \"creature\", \"creature\", \"creature\", \"crew\", \"crew\", \"crew\", \"crime\", \"crime\", \"crooked\", \"crooked\", \"dance\", \"dance\", \"dance\", \"dance\", \"daughter\", \"daughter\", \"daughter\", \"daughter\", \"dear\", \"dear\", \"dear\", \"dear\", \"death\", \"death\", \"death\", \"death\", \"deck\", \"deck\", \"deck\", \"deck\", \"desolate\", \"despair\", \"despair\", \"despair\", \"destroy\", \"destroy\", \"destroy\", \"destroy\", \"discover\", \"discover\", \"discover\", \"discover\", \"doesn\", \"don\", \"don\", \"don\", \"don\", \"door\", \"door\", \"door\", \"door\", \"dost\", \"driver\", \"driver\", \"driver\", \"enter\", \"enter\", \"enter\", \"enter\", \"entry\", \"face\", \"face\", \"face\", \"face\", \"family\", \"family\", \"family\", \"family\", \"father\", \"father\", \"father\", \"father\", \"fear\", \"fear\", \"fear\", \"fear\", \"feeling\", \"feeling\", \"feeling\", \"feeling\", \"fiend\", \"fiend\", \"fiery\", \"fight\", \"fight\", \"fight\", \"fin\", \"fish\", \"fish\", \"fish\", \"fish\", \"fishery\", \"foot\", \"foot\", \"foot\", \"foot\", \"forever\", \"forever\", \"gentle\", \"gentle\", \"gentle\", \"gentleman\", \"gentleman\", \"gentleman\", \"gentleman\", \"girl\", \"girl\", \"girl\", \"girl\", \"happy\", \"happy\", \"happy\", \"happy\", \"harpooneer\", \"harpooneer\", \"harpooneer\", \"harpooneer\", \"hatred\", \"head\", \"head\", \"head\", \"head\", \"heart\", \"heart\", \"heart\", \"heart\", \"hope\", \"hope\", \"hope\", \"hope\", \"horn\", \"horn\", \"horrible\", \"horror\", \"horror\", \"horror\", \"hour\", \"hour\", \"hour\", \"hour\", \"hovel\", \"human\", \"human\", \"human\", \"human\", \"inhabit\", \"key\", \"key\", \"key\", \"kick\", \"kick\", \"labour\", \"labour\", \"labour\", \"lady\", \"lady\", \"lady\", \"lady\", \"ladyship\", \"lake\", \"lake\", \"landlord\", \"landlord\", \"landlord\", \"large\", \"large\", \"large\", \"large\", \"lay\", \"lay\", \"lay\", \"lay\", \"leg\", \"leg\", \"leg\", \"letter\", \"letter\", \"letter\", \"letter\", \"leviathan\", \"leviathan\", \"life\", \"life\", \"life\", \"life\", \"light\", \"light\", \"light\", \"light\", \"lock\", \"lock\", \"lock\", \"love\", \"love\", \"love\", \"love\", \"lowly\", \"manner\", \"manner\", \"manner\", \"manner\", \"marry\", \"marry\", \"marry\", \"marry\", \"mast\", \"mast\", \"mast\", \"mate\", \"mate\", \"mate\", \"mind\", \"mind\", \"mind\", \"mind\", \"miserable\", \"miserable\", \"miserable\", \"miserable\", \"misery\", \"misery\", \"misery\", \"misery\", \"moment\", \"moment\", \"moment\", \"moment\", \"mother\", \"mother\", \"mother\", \"mother\", \"mountain\", \"mountain\", \"mountain\", \"murder\", \"murder\", \"murder\", \"murderer\", \"murderer\", \"murderer\", \"naturalist\", \"oil\", \"oil\", \"oil\", \"old\", \"old\", \"old\", \"old\", \"open\", \"open\", \"open\", \"open\", \"pass\", \"pass\", \"pass\", \"pass\", \"passenger\", \"passenger\", \"passenger\", \"pier\", \"pier\", \"pious\", \"protector\", \"pulpit\", \"pulpit\", \"queer\", \"queer\", \"queer\", \"remain\", \"remain\", \"remain\", \"remain\", \"reply\", \"reply\", \"reply\", \"reply\", \"return\", \"return\", \"return\", \"return\", \"right\", \"right\", \"right\", \"right\", \"room\", \"room\", \"room\", \"room\", \"round\", \"round\", \"round\", \"round\", \"run\", \"run\", \"run\", \"run\", \"sail\", \"sail\", \"sail\", \"sailor\", \"sailor\", \"sailor\", \"sailor\", \"scene\", \"scene\", \"scene\", \"scene\", \"sea\", \"sea\", \"sea\", \"sea\", \"sensation\", \"sensation\", \"sensation\", \"ship\", \"ship\", \"ship\", \"ship\", \"shirt\", \"shirt\", \"shoal\", \"sister\", \"sister\", \"sister\", \"sister\", \"sit\", \"sit\", \"sit\", \"sit\", \"sleep\", \"sleep\", \"sleep\", \"sleep\", \"sort\", \"sort\", \"sort\", \"sort\", \"sperm\", \"sperm\", \"sperm_whale\", \"sperm_whale\", \"spirit\", \"spirit\", \"spirit\", \"spirit\", \"spout\", \"spout\", \"stand\", \"stand\", \"stand\", \"stand\", \"swing\", \"tale\", \"tale\", \"tale\", \"tar\", \"tear\", \"tear\", \"tear\", \"tear\", \"thee\", \"thee\", \"thee\", \"thirst\", \"thou\", \"thou\", \"thou\", \"thought\", \"thought\", \"thought\", \"thought\", \"tomahawk\", \"tomahawk\", \"try\", \"try\", \"try\", \"try\", \"unfortunate\", \"victim\", \"voyage\", \"voyage\", \"voyage\", \"voyage\", \"walk\", \"walk\", \"walk\", \"walk\", \"wall\", \"wall\", \"wall\", \"water\", \"water\", \"water\", \"weep\", \"weep\", \"whale\", \"whale\", \"whale\", \"whale\", \"whale_ship\", \"whale_ship\", \"whaleman\", \"whaleman\", \"whaling\", \"whaling\", \"whaling\", \"white\", \"white\", \"white\", \"white\", \"window\", \"window\", \"window\", \"window\", \"wish\", \"wish\", \"wish\", \"wish\", \"word\", \"word\", \"word\", \"word\", \"work\", \"work\", \"work\", \"work\", \"world\", \"world\", \"world\", \"world\", \"wretch\", \"wrist\", \"wrist\", \"young\", \"young\", \"young\", \"young\", \"young_lady\", \"young_lady\"]}, \"R\": 30, \"lambda.step\": 0.01, \"plot.opts\": {\"xlab\": \"PC1\", \"ylab\": \"PC2\"}, \"topic.order\": [2, 4, 1, 3]};\n",
       "\n",
       "function LDAvis_load_lib(url, callback){\n",
       "  var s = document.createElement('script');\n",
       "  s.src = url;\n",
       "  s.async = true;\n",
       "  s.onreadystatechange = s.onload = callback;\n",
       "  s.onerror = function(){console.warn(\"failed to load library \" + url);};\n",
       "  document.getElementsByTagName(\"head\")[0].appendChild(s);\n",
       "}\n",
       "\n",
       "if(typeof(LDAvis) !== \"undefined\"){\n",
       "   // already loaded: just create the visualization\n",
       "   !function(LDAvis){\n",
       "       new LDAvis(\"#\" + \"ldavis_el901911407177651532326394267984\", ldavis_el901911407177651532326394267984_data);\n",
       "   }(LDAvis);\n",
       "}else if(typeof define === \"function\" && define.amd){\n",
       "   // require.js is available: use it to load d3/LDAvis\n",
       "   require.config({paths: {d3: \"https://cdnjs.cloudflare.com/ajax/libs/d3/3.5.5/d3.min\"}});\n",
       "   require([\"d3\"], function(d3){\n",
       "      window.d3 = d3;\n",
       "      LDAvis_load_lib(\"https://cdn.rawgit.com/bmabey/pyLDAvis/files/ldavis.v1.0.0.js\", function(){\n",
       "        new LDAvis(\"#\" + \"ldavis_el901911407177651532326394267984\", ldavis_el901911407177651532326394267984_data);\n",
       "      });\n",
       "    });\n",
       "}else{\n",
       "    // require.js not available: dynamically load d3 & LDAvis\n",
       "    LDAvis_load_lib(\"https://cdnjs.cloudflare.com/ajax/libs/d3/3.5.5/d3.min.js\", function(){\n",
       "         LDAvis_load_lib(\"https://cdn.rawgit.com/bmabey/pyLDAvis/files/ldavis.v1.0.0.js\", function(){\n",
       "                 new LDAvis(\"#\" + \"ldavis_el901911407177651532326394267984\", ldavis_el901911407177651532326394267984_data);\n",
       "            })\n",
       "         });\n",
       "}\n",
       "</script>"
      ],
      "text/plain": [
       "<IPython.core.display.HTML object>"
      ]
     },
     "execution_count": 85,
     "metadata": {},
     "output_type": "execute_result"
    }
   ],
   "source": [
    "# plot topics\n",
    "data =  pyLDAvis.gensim.prepare(model, corpus, dictionary)\n",
    "pyLDAvis.display(data)"
   ]
  },
  {
   "cell_type": "code",
   "execution_count": 86,
   "metadata": {},
   "outputs": [],
   "source": [
    "# assignment\n",
    "sent_to_cluster = list()\n",
    "for n,doc in enumerate(corpus):\n",
    "    if doc:\n",
    "        cluster = max(model[doc],key=lambda x:x[1])\n",
    "        sent_to_cluster.append(cluster[0])"
   ]
  },
  {
   "cell_type": "code",
   "execution_count": 87,
   "metadata": {},
   "outputs": [
    {
     "name": "stdout",
     "output_type": "stream",
     "text": [
      "DRACULA.txt : 1 - 31\n",
      "Accuracy: 0.5166666666666667\n",
      "------\n",
      "Frankenstein.txt : 1 - 60\n",
      "Accuracy: 1.0\n",
      "------\n",
      "Moby_Dick.txt : 0 - 35\n",
      "Accuracy: 0.5833333333333334\n",
      "------\n",
      "PRIDE_AND_PREJUDICE.txt : 3 - 60\n",
      "Accuracy: 1.0\n",
      "------\n"
     ]
    }
   ],
   "source": [
    "# accuracy\n",
    "from collections import Counter\n",
    "for book, cluster in book_id.items():\n",
    "    assignments = list()\n",
    "    for real,given in zip(chunk_class,sent_to_cluster):\n",
    "        if real == cluster:\n",
    "            assignments.append(given)\n",
    "    most_common,num_most_common = Counter(assignments).most_common(1)[0] # 4, 6 times\n",
    "    print(book,\":\",most_common,\"-\",num_most_common)\n",
    "    print(\"Accuracy:\",num_most_common/limit)\n",
    "    print(\"------\")"
   ]
  },
  {
   "cell_type": "markdown",
   "metadata": {},
   "source": [
    "# Task 4: Semantic analysis based on lexical categories"
   ]
  },
  {
   "cell_type": "code",
   "execution_count": 89,
   "metadata": {},
   "outputs": [],
   "source": [
    "from empath import Empath\n",
    "lexicon = Empath()"
   ]
  },
  {
   "cell_type": "markdown",
   "metadata": {},
   "source": [
    "### Let's see what pre-build categories we can study! More information: https://hci.stanford.edu/publications/2016/ethan/empath-chi-2016.pdf"
   ]
  },
  {
   "cell_type": "code",
   "execution_count": 90,
   "metadata": {},
   "outputs": [
    {
     "name": "stdout",
     "output_type": "stream",
     "text": [
      "help\n",
      "office\n",
      "dance\n",
      "money\n",
      "wedding\n",
      "domestic_work\n",
      "sleep\n",
      "medical_emergency\n",
      "cold\n",
      "hate\n",
      "cheerfulness\n",
      "aggression\n",
      "occupation\n",
      "envy\n",
      "anticipation\n"
     ]
    }
   ],
   "source": [
    "for cat in list(lexicon.cats.keys())[:15]:\n",
    "    print(cat)"
   ]
  },
  {
   "cell_type": "markdown",
   "metadata": {},
   "source": [
    "### For each category, we can examine representative terms"
   ]
  },
  {
   "cell_type": "code",
   "execution_count": 91,
   "metadata": {},
   "outputs": [
    {
     "data": {
      "text/plain": [
       "['trimester',\n",
       " 'flu',\n",
       " 'doctor',\n",
       " 'miscarriage',\n",
       " 'complication',\n",
       " 'poisoning',\n",
       " 'ailment',\n",
       " 'insulin',\n",
       " 'malnutrition',\n",
       " 'unwell',\n",
       " 'heartburn',\n",
       " 'antibiotic',\n",
       " 'institution',\n",
       " 'nursing',\n",
       " 'rehab']"
      ]
     },
     "execution_count": 91,
     "metadata": {},
     "output_type": "execute_result"
    }
   ],
   "source": [
    "lexicon.cats[\"health\"][:15]"
   ]
  },
  {
   "cell_type": "markdown",
   "metadata": {},
   "source": [
    "### Studying Pride and Prejudice"
   ]
  },
  {
   "cell_type": "code",
   "execution_count": 95,
   "metadata": {},
   "outputs": [],
   "source": [
    "nlp = spacy.load('en')\n",
    "doc = nlp(books[3])"
   ]
  },
  {
   "cell_type": "code",
   "execution_count": 96,
   "metadata": {},
   "outputs": [],
   "source": [
    "empath_features = lexicon.analyze(doc.text,categories = [\"disappointment\", \"pain\", \"joy\", \"beauty\", \"affection\"])"
   ]
  },
  {
   "cell_type": "code",
   "execution_count": 97,
   "metadata": {},
   "outputs": [
    {
     "data": {
      "text/plain": [
       "{'disappointment': 149.0,\n",
       " 'pain': 228.0,\n",
       " 'joy': 278.0,\n",
       " 'beauty': 136.0,\n",
       " 'affection': 439.0}"
      ]
     },
     "execution_count": 97,
     "metadata": {},
     "output_type": "execute_result"
    }
   ],
   "source": [
    "empath_features"
   ]
  },
  {
   "cell_type": "code",
   "execution_count": 98,
   "metadata": {},
   "outputs": [],
   "source": [
    "empath_features = lexicon.analyze(doc.text,categories = [\"disappointment\", \"pain\", \"joy\", \"beauty\", \"affection\"], normalize = True)"
   ]
  },
  {
   "cell_type": "code",
   "execution_count": 99,
   "metadata": {},
   "outputs": [
    {
     "data": {
      "text/plain": [
       "{'disappointment': 0.0012256615693403638,\n",
       " 'pain': 0.001875508978587939,\n",
       " 'joy': 0.002286804807225645,\n",
       " 'beauty': 0.0011187246538945602,\n",
       " 'affection': 0.0036111773754390585}"
      ]
     },
     "execution_count": 99,
     "metadata": {},
     "output_type": "execute_result"
    }
   ],
   "source": [
    "empath_features"
   ]
  },
  {
   "cell_type": "markdown",
   "metadata": {},
   "source": [
    "### Usecase: the evolution of topics"
   ]
  },
  {
   "cell_type": "code",
   "execution_count": 100,
   "metadata": {},
   "outputs": [],
   "source": [
    "bins = range(0,len(doc.text),150000)\n"
   ]
  },
  {
   "cell_type": "code",
   "execution_count": 101,
   "metadata": {},
   "outputs": [],
   "source": [
    "love = []\n",
    "pain = []\n",
    "beauty = []\n",
    "affection = []\n",
    "\n",
    "\n",
    "for cnt,i in enumerate(bins[:-1]):\n",
    "    empath_features = lexicon.analyze(doc.text[bins[cnt]:bins[cnt+1]],\n",
    "                                      categories = [\"love\", \"pain\", \"joy\", \"beauty\", \"affection\"], normalize = True)\n",
    "    love.append(empath_features[\"love\"])\n",
    "    pain.append(empath_features[\"pain\"])\n",
    "    beauty.append(empath_features[\"beauty\"])\n",
    "    affection.append(empath_features[\"affection\"])"
   ]
  },
  {
   "cell_type": "code",
   "execution_count": 102,
   "metadata": {},
   "outputs": [
    {
     "data": {
      "text/plain": [
       "<matplotlib.legend.Legend at 0x7ffb5ff58b50>"
      ]
     },
     "execution_count": 102,
     "metadata": {},
     "output_type": "execute_result"
    },
    {
     "data": {
      "image/png": "[encoded data removed]",
      "text/plain": [
       "<Figure size 432x288 with 1 Axes>"
      ]
     },
     "metadata": {
      "needs_background": "light"
     },
     "output_type": "display_data"
    }
   ],
   "source": [
    "plt.plot(love,label = \"love\")\n",
    "plt.plot(beauty, label = \"beauty\")\n",
    "plt.plot(affection, label = \"affection\")\n",
    "plt.plot(pain,label = \"pain\")\n",
    "\n",
    "plt.xlabel(\"progression in the book\")\n",
    "plt.ylabel(\"frequency of a category\")\n",
    "plt.legend()"
   ]
  },
  {
   "cell_type": "code",
   "execution_count": 103,
   "metadata": {},
   "outputs": [],
   "source": [
    "# We can observe how as the story progresses, beauty and affection categories decrease, while love and pain intensify!"
   ]
  },
  {
   "cell_type": "markdown",
   "metadata": {},
   "source": [
    "### We can create custom categories based on seed terms!\n",
    "### Models trained on: fiction, nytimes or reddit"
   ]
  },
  {
   "cell_type": "code",
   "execution_count": 104,
   "metadata": {},
   "outputs": [
    {
     "name": "stdout",
     "output_type": "stream",
     "text": [
      "[\"avocado\", \"kale\", \"Swiss_chard\", \"escarole\", \"black_beans\", \"cucumber\", \"dill\", \"leek\", \"mango\", \"red_peppers\", \"chicory\", \"chanterelles\", \"chutney\", \"tamarind\", \"papaya\", \"black_olives\", \"endive\", \"pesto\", \"walnuts\", \"green_beans\", \"bok_choy\", \"portobello_mushrooms\", \"lemon_grass\", \"radicchio\", \"ricotta\", \"chicken_breast\", \"porcini\", \"blue_cheese\", \"snow_peas\", \"pickled\", \"Gorgonzola\", \"chorizo\", \"yams\", \"hazelnuts\", \"fresh_tomatoes\", \"shiitake_mushrooms\", \"anchovies\", \"wild_rice\", \"scallion\", \"red_onions\", \"broccoli_rape\", \"red_cabbage\", \"wasabi\", \"sweet_potato\", \"feta\", \"roasted_garlic\", \"compote\", \"napoleon\", \"aioli\", \"crab_meat\", \"cauliflower\", \"jicama\", \"parsnips\", \"apricots\", \"new_potatoes\", \"truffle_oil\", \"lemongrass\", \"pistachios\", \"saut\\u00e9ed\", \"gnocchi\", \"duck_confit\", \"fresh_herbs\", \"ratatouille\", \"white_beans\", \"croutons\", \"fresh_mozzarella\", \"squab\", \"watercress\", \"roasted_red_peppers\", \"pine_nuts\", \"fritters\", \"butternut_squash\", \"fava_beans\", \"drizzled\", \"red_onion\", \"pea_shoots\", \"rosemary\", \"romaine\", \"mustard_greens\", \"horseradish\", \"caramelized_onions\", \"artichoke_hearts\", \"fettuccine\", \"grilled_eggplant\", \"julienne\", \"plum_tomatoes\", \"grilled_chicken\", \"pineapple\", \"candied\", \"pancetta\", \"celery_root\", \"sea_scallops\", \"shiitake\", \"porcini_mushrooms\", \"sour_cream\", \"bean_sprouts\", \"oyster_mushrooms\", \"monkfish\", \"chickpeas\", \"coconut_milk\"]\n"
     ]
    }
   ],
   "source": [
    "lexicon.create_category(\"healthy_food\", [\"healthy_food\",\"low_carb\",\"kale\",\"avocado\"], model=\"nytimes\")"
   ]
  },
  {
   "cell_type": "code",
   "execution_count": 105,
   "metadata": {},
   "outputs": [
    {
     "name": "stdout",
     "output_type": "stream",
     "text": [
      "[\"green_vegetables\", \"leafy_greens\", \"whole_grain_bread\", \"brown_rice\", \"white_rice\", \"green_veggies\", \"veggies\", \"whole_wheat_bread\", \"sweet_potatoes\", \"raw_veggies\", \"lean_meat\", \"spinach\", \"fatty_meat\", \"kale\", \"sweet_potato\", \"avocado\", \"hummus\", \"chicken_breast\", \"veggie\", \"whole_grain\", \"vegetables\", \"whole_wheat_pasta\", \"salads\", \"broccoli\", \"greek_yogurt\", \"Greek_yogurt\", \"yogurt\", \"avocados\", \"rice_cakes\", \"raw_vegetables\", \"almonds\", \"lean_protein\", \"grilled_chicken\", \"quinoa\", \"steamed_broccoli\", \"whole_grain_pasta\", \"brocolli\", \"kale\", \"avocado\", \"tofu\", \"Veggies\", \"edamame\", \"more_veggies\", \"lean_meats\", \"quinoa\", \"salad\", \"cottage_cheese\", \"whole_wheat\", \"wheat_bread\", \"romaine_lettuce\", \"white_bread\", \"raw_spinach\", \"oatmeal\", \"white_potatoes\", \"almond_butter\", \"pork_rinds\", \"veg\", \"cashews\", \"greek_yoghurt\", \"baby_carrots\", \"fresh_veggies\", \"fatty_meats\", \"more_vegetables\", \"avacado\", \"veges\", \"nut_butter\", \"hard_boiled_eggs\", \"carrot_sticks\", \"whole_grains\", \"grilled_chicken_breast\", \"steamed_vegetables\", \"meats\", \"lentils\", \"green_beans\", \"low_cal\", \"nuts/seeds\", \"iceberg_lettuce\", \"carrots\", \"red_meat\", \"other_foods\", \"fried_foods\", \"smoothies\", \"healthy_fats\", \"vegies\", \"avacados\", \"other_vegetables\", \"fresh_fruit\", \"spinach_salad\", \"egg_whites\", \"steamed_veggies\", \"nut_butters\", \"ground_turkey\", \"baked_chicken\"]\n"
     ]
    }
   ],
   "source": [
    "lexicon.create_category(\"healthy_food\", [\"healthy_food\",\"low_carb\",\"kale\",\"avocado\"], model=\"reddit\")"
   ]
  },
  {
   "cell_type": "code",
   "execution_count": 106,
   "metadata": {},
   "outputs": [
    {
     "name": "stdout",
     "output_type": "stream",
     "text": [
      "[\"turkey\", \"roast_beef\", \"white_bread\", \"fried_chicken\", \"pancakes\", \"peanut_butter\", \"gefilte_fish\", \"stuffing\", \"French_fries\", \"meatloaf\", \"brisket\", \"potato_salad\", \"pumpkin_pie\", \"scrambled_eggs\", \"french_fries\", \"spaghetti\", \"gravy\", \"tamales\", \"pot_roast\", \"oatmeal\", \"lasagna\", \"corned_beef\", \"latkes\", \"pickles\", \"sauerkraut\", \"burger\", \"grits\", \"biscuits\", \"hamburger\", \"salad_bar\", \"corn_bread\", \"chicken_soup\", \"bacon\", \"cream_cheese\", \"brownies\", \"tofu\", \"pastrami\", \"pork_chops\", \"salami\", \"marshmallows\", \"collard_greens\", \"macaroni\", \"pies\", \"raw_fish\", \"eggnog\", \"cheeseburgers\", \"truffles\", \"chocolate_cake\", \"hard-boiled_eggs\", \"baked_potatoes\", \"venison\", \"cottage_cheese\", \"pheasant\", \"applesauce\", \"quail\", \"fruit_salad\", \"meatballs\", \"chocolate_chip_cookies\", \"tacos\", \"roast\", \"jelly\", \"chicken_salad\", \"omelet\", \"gumbo\", \"steaks\", \"soup\", \"lox\", \"sausage\", \"roast_chicken\", \"rye\", \"bagel\", \"fruitcake\", \"fries\", \"fried_eggs\", \"ketchup\", \"chicken_wings\", \"barbecue_sauce\", \"sweet_potatoes\", \"pasta\", \"sausages\", \"crackers\", \"omelets\", \"roasting\", \"French_toast\", \"muffins\", \"mashed_potatoes\", \"fresh_fruit\", \"baked_potato\", \"waffles\", \"cranberry_sauce\", \"baked_beans\", \"cheese\", \"tripe\", \"noodles\", \"maple_syrup\", \"quiche\", \"buns\", \"baklava\", \"stews\"]\n"
     ]
    }
   ],
   "source": [
    "lexicon.create_category(\"festive_food\", [\"festive_food\",\"turkey\",\"eggnog\"], model=\"nytimes\")"
   ]
  },
  {
   "cell_type": "markdown",
   "metadata": {},
   "source": [
    "### List of further resources\n",
    "    * NLTK\n",
    "    * Jellyfish: string similarity library\n",
    "    * TextBlob: simplified text processing\n",
    "    * PyEnchant: language detection\n",
    "    * WordNet: ontology of concepts (inc. in NLTK)\n",
    "    * Stanford NLP (Java)\n",
    "    * Tweet NLP: https://www.cs.cmu.edu/~ark/TweetNLP/"
   ]
  },
  {
   "cell_type": "markdown",
   "metadata": {
    "collapsed": true
   },
   "source": [
    "## Part 2"
   ]
  },
  {
   "cell_type": "markdown",
   "metadata": {},
   "source": [
    "### Question 1:\n",
    "An NLP preprocessing model, using the list of stopwords ['a', 'the', 'is', 'you', 'I','my','with','was'] for the input sentence\n",
    "“I was driving down the street with my CAR! :)” <br>\n",
    "gives the following output: {driving, down, street, car, :)}.\n",
    "The model consists of: <br>\n",
    "\n",
    "a) Stopword Removal, Casefolding and Stemming <br>\n",
    "b) Stopword Removal and Casefolding <br>\n",
    "c) Stopword Removal and Stemming <br>\n",
    "d) Casefolding and Stemming <br>"
   ]
  },
  {
   "cell_type": "code",
   "execution_count": null,
   "metadata": {},
   "outputs": [],
   "source": [
    "# write your code and/or answer here"
   ]
  },
  {
   "cell_type": "markdown",
   "metadata": {},
   "source": [
    "### Question 2:\n",
    "Given the following preprocessed corpus :\n",
    "{time, flies, like, an, arrow} <br>\n",
    "{garbage, collector, is, used, by, java} <br>\n",
    "{switzerland, is, known, to, produce, clocks} <br>\n",
    "{five, apples, a, day, keep, the, doctor, away} <br>\n",
    "{it, is, about, time, you, arrive} <br>\n",
    "{my, favorite, course, this, year, is, applied, data, analysis} <br>\n",
    "The IDF value of the word \"time\" is: <br>\n",
    "\n",
    "a) log(3) <br>\n",
    "b) -log(3) <br>\n",
    "c) log(4) <br>\n",
    "d) log(2) <br>"
   ]
  },
  {
   "cell_type": "code",
   "execution_count": null,
   "metadata": {},
   "outputs": [],
   "source": [
    "# write your code and/or answer here"
   ]
  },
  {
   "cell_type": "markdown",
   "metadata": {},
   "source": [
    "### Question 3:\n",
    "\n",
    "Which statement is correct regarding character encoding?<br>\n",
    "\n",
    "a) A UTF-8 file that includes ASCII characters is encoded in the same way as the corresponding ASCII file <br>\n",
    "b) The best practice is to specify the type of encoding when reading the file, and when writing the file <br>\n",
    "c) ASCII can encode the sentence: “J'habite à Lausanne” <br>\n",
    "d) Given two raw, uncompressed .txt files with the same number of letters, the one encoded in UTF-16 can be smaller than the one encoded in ASCII <br>\n"
   ]
  },
  {
   "cell_type": "code",
   "execution_count": null,
   "metadata": {},
   "outputs": [],
   "source": [
    "# write your code and/or answer here"
   ]
  },
  {
   "cell_type": "markdown",
   "metadata": {},
   "source": [
    "### Question 4:\n",
    "What statement is false about topic detection using LSA: <br>\n",
    "\n",
    "a) It finds the representation of documents and words in the latent \"topic space\" <br>\n",
    "b) It produces topics interpretable in “word space” <br>\n",
    "c) A document's topic representation is a probability distribution over topics <br>\n",
    "d) The vectors representing topics in “word space” are linearly independent <br>"
   ]
  },
  {
   "cell_type": "code",
   "execution_count": null,
   "metadata": {},
   "outputs": [],
   "source": [
    "# write your code and/or answer here"
   ]
  },
  {
   "cell_type": "markdown",
   "metadata": {},
   "source": [
    "### Question 5:\n",
    "The problem of having more features than documents when using a TF-IDF matrix for document classification cannot be addressed by: <br>\n",
    "\n",
    "a) Using SVD for dimensionality reduction <br>\n",
    "b) Using min-max scaling of features <br>\n",
    "c) Penalizing very large positive and very large negative weights (a.k.a. regularization) <br>\n",
    "d) Using online feature selection <br>"
   ]
  },
  {
   "cell_type": "code",
   "execution_count": null,
   "metadata": {},
   "outputs": [],
   "source": [
    "# write your code and/or answer here"
   ]
  },
  {
   "cell_type": "markdown",
   "metadata": {},
   "source": [
    "### Question 7:\n",
    "Which of the following is false about word vectors: <br>\n",
    "\n",
    "a) Word2vec is used to achieve a lower dimensional representation than bag of words <br>\n",
    "b) Semantically similar words typically have similar word2vec vectors <br>\n",
    "c) Each dimension in the word2vec embedding has a clear interpretation <br>\n",
    "d) Word2Vec can be used for the computation of sentence vectors <br>"
   ]
  },
  {
   "cell_type": "code",
   "execution_count": null,
   "metadata": {},
   "outputs": [],
   "source": [
    "# write your code and/or answer here"
   ]
  },
  {
   "cell_type": "markdown",
   "metadata": {},
   "source": [
    "### Question 8:\n",
    "Given the following word (W) / context (C) co-occurrence frequencies, which statement is true regarding the pointwise mutual information (PMI)?\n",
    "\n",
    "|  |W1|W2|W3|\n",
    "|--|--|--|--|\n",
    "|C1| 2| 0| 3|\n",
    "|C2| 6| 4| 0|\n",
    "|C3| 1| 1| 3|\n",
    "\n",
    "a) PMI(w=W1, c=C2) > PMI(w=W2, c=C2) > PMI(w=W3, c=C3) <br>\n",
    "b) PMI(w=W2, c=C2) > PMI(w=W1, c=C2) >  PMI(w=W3, c=C3) <br>\n",
    "c) PMI(w=W3, c=C3) > PMI(w=W1, c=C2) > PMI(w=W2, c=C2) <br>\n",
    "d) PMI(w=W3, c=C3) > PMI(w=W2, c=C2) > PMI(w=W1, c=C2) <br>"
   ]
  },
  {
   "cell_type": "code",
   "execution_count": null,
   "metadata": {},
   "outputs": [],
   "source": [
    "# write your code and/or answer here"
   ]
  },
  {
   "cell_type": "code",
   "execution_count": null,
   "metadata": {},
   "outputs": [],
   "source": []
  }
 ],
 "metadata": {
  "kernelspec": {
   "display_name": "ada_tutorial",
   "language": "python",
   "name": "ada_tutorial"
  },
  "language_info": {
   "codemirror_mode": {
    "name": "ipython",
    "version": 3
   },
   "file_extension": ".py",
   "mimetype": "text/x-python",
   "name": "python",
   "nbconvert_exporter": "python",
   "pygments_lexer": "ipython3",
   "version": "3.7.9"
  },
  "toc": {
   "colors": {
    "hover_highlight": "#DAA520",
    "navigate_num": "#000000",
    "navigate_text": "#333333",
    "running_highlight": "#FF0000",
    "selected_highlight": "#FFD700",
    "sidebar_border": "#EEEEEE",
    "wrapper_background": "#FFFFFF"
   },
   "moveMenuLeft": true,
   "nav_menu": {
    "height": "228px",
    "width": "252px"
   },
   "navigate_menu": true,
   "number_sections": true,
   "sideBar": true,
   "threshold": 4,
   "toc_cell": false,
   "toc_section_display": "block",
   "toc_window_display": false,
   "widenNotebook": false
  },
  "varInspector": {
   "cols": {
    "lenName": 16,
    "lenType": 16,
    "lenVar": 40
   },
   "kernels_config": {
    "python": {
     "delete_cmd_postfix": "",
     "delete_cmd_prefix": "del ",
     "library": "var_list.py",
     "varRefreshCmd": "print(var_dic_list())"
    },
    "r": {
     "delete_cmd_postfix": ") ",
     "delete_cmd_prefix": "rm(",
     "library": "var_list.r",
     "varRefreshCmd": "cat(var_dic_list()) "
    }
   },
   "types_to_exclude": [
    "module",
    "function",
    "builtin_function_or_method",
    "instance",
    "_Feature"
   ],
   "window_display": false
  }
 },
 "nbformat": 4,
 "nbformat_minor": 2
}

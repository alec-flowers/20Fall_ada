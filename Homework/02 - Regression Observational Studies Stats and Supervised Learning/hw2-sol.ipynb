{
 "cells": [
  {
   "cell_type": "markdown",
   "metadata": {},
   "source": [
    "# Homework 2 (HW2)\n",
    "\n",
    "---\n",
    "By the end of this homework we expect you to be able to:\n",
    "1. Preprocess data and make it amenable to statistical analysis and machine learning models;\n",
    "2. Train and test out-of-the-box machine learning models in Python;\n",
    "3. Carry out statistical hypothesis testing;\n",
    "4. Carry out simple multivariate regression analyses;\n",
    "5. Use techniques to control for covariates;\n",
    "---\n",
    "\n",
    "## Important Dates\n",
    "\n",
    "- Homework release: Fri 6 Nov 2020\n",
    "- **Homework due**: Fri 20 Nov 2020, 23:59\n",
    "- Grade release: Fri 30 Nov 2020\n",
    "\n",
    "---\n",
    "\n",
    "##  Some rules\n",
    "\n",
    "1. You are allowed to use any built-in Python library that comes with Anaconda. If you want to use an external library, you have to justify your choice.\n",
    "2. Make sure you use the data folder provided in the repository in read-only mode.\n",
    "3. Be sure to provide a textual description of your thought process, the assumptions you made, the solution you implemented, and explanations for your answers. A notebook that only has code cells will not suffice.\n",
    "4. For questions containing the /Discuss:/ prefix, answer not with code, but with a textual explanation (in either comments or markdown).\n",
    "5. Back up any hypotheses and claims with data, since this is an important aspect of the course.\n",
    "6. Please write all your comments in English, and use meaningful variable names in your code. Your repo should have a single notebook (plus the required data files) in the master branch. If there are multiple notebooks present, we will not grade anything.\n",
    "7. Also, be sure to hand in a fully-run and evaluated notebook. We will not run your notebook for you, we will grade it as is, which means that only the results contained in your evaluated code cells will be considered, and we will not see the results in unevaluated code cells. In order to check whether everything looks as intended, you can check the rendered notebook on the GitHub website once you have pushed your solution there.\n",
    "8. Make sure to print results or dataframes that confirm you have properly addressed the task.\n",
    "\n",
    "## Context\n",
    "\n",
    "Publishing papers is a big part of the lives of [Ph.D. students](http://phdcomics.com/comics/archive.php?comicid=154), [post-docs](http://phdcomics.com/comics/archive.php?comicid=1744) and [professors](http://phdcomics.com/comics/archive.php?comicid=1051). \n",
    "In Computer Science, publishing happens mostly in conferences. What follows is a slight simplification of how these conferences decide which papers to accept and which papers to reject.\n",
    " \n",
    "Every year, scholars submit papers to prestigious conferences. The papers are then assigned to reviewers (usually around 3), who are other people from the same research community (respect thy neighbor!). Each reviewer weighs in on whether they believe the papers they were assigned are good or bad, and write a review, often along with a score (e.g. +3 Strong Accept, +2 Accept, +1 Weak Accept, 0 Borderline, …,  -3 Strong Reject). Then, in the end, \"special\" reviewers called, \"Area Chairs\" analyze all the reviews that were written for the same paper and decide what gets accepted and what gets rejected. Importantly, throughout this whole dance, reviewers and authors are anonymous. When you're reviewing a paper, you do not know who wrote it. And when you receive the review, you don't know who reviewed it. Because of that, we call this a double-blind reviewing process.\n",
    "\n",
    "An interesting development that has evolved in recent years is the rise of pre-prints. In previous times, researchers often exposed their research to the world only after it had been peer-reviewed and published in a conference or a journal. But recently researchers are much keener to let their ideas out into the world as soon as possible, and they publish their research before it has been approved to any conference or journal, by posting the research on so-called pre-print servers. The most common pre-print server for Computer Science, Physics, and Maths is called [arXiv](https://arxiv.org/), for Biology, an increasingly popular one is [bioRxiv](https://www.biorxiv.org/), for Psychology [psyArXiv](https://psyarxiv.com/) (they are not very creative with the names). Notice that pre-prints and peer-review are not mutually exclusive, in fact, usually, you publish your pre-print, and then you try to publish your work in a peer-reviewed setting.\n",
    "\n",
    "Overall, publishing pre-prints has many benefits. They make science more accessible and hasten the circulation of important results in the academic community. However, a big issue brought forth with pre-prints is that they often break the anonymity in the double-blind reviewing process. For instance, in machine learning, since most papers are published as pre-prints, it is often easy to figure out if the paper you are reviewing is from a famous researcher or a big company with prominent research scientists. From critics' viewpoint, knowing the authors of the papers you are reviewing can bias your reviews. If you know that a given author is famous, you'd be more inclined to take his or her word for granted. If the author is from an institution you’ve never heard about, you are more likely to doubt his or her findings.\n",
    "\n",
    "In this homework, we will take a data-driven deep dive into the world of academic publishing. Can you use your freshly acquired data-science skills to predict which papers are going to make the cut? Are your data analysis skills sharp enough to figure out whether the aforementioned concerns about pre-print issues are justified?\n",
    "\n",
    "\n",
    "## The data\n",
    "\n",
    "The data, whose source has been \"double-blinded\" from you, and which has been simplified a bit for the assignment, contains information about submissions to a prestigious machine learning conference called ICLR (pronounced “I-clear”). You can find the dataframe in the git repo for the homework (./data/dataset_final.csv). We provide a brief description of the fields you will encounter.\n",
    "\n",
    "- `year`: year the paper has been submitted to ICLR. Notice that we provide data for three years, 2018, 2019, and 2020.\n",
    "\n",
    "\n",
    "- `paper`: title of the paper.\n",
    "\n",
    "\n",
    "- `authors`: names of the authors separated by ;.\n",
    "\n",
    "\n",
    "- `ratings`: mean rating given to the paper by the reviewers.\n",
    "\n",
    "\n",
    "- `decisions`: either Accept if the paper was accepted, or Reject otherwise.\n",
    "\n",
    "\n",
    "- `institution`: institutions for each of the authors, separated by ;.\n",
    "\n",
    "\n",
    "- `csranking`: ranking of the institutions according to csrankings. The better the institution, the better the rank. Notice that, if a paper has more than 1 author, this field will contain multiple values, separated by ;. For institutions that are not in csrankings, the value will be -1.\n",
    "\n",
    "\n",
    "- `categories`: topical categories of the paper. Each number corresponds to a different category: (1) Theory, (2) Computer Vision, (3) Natural Language Processing, (4) Adversarial ML, (5) Generative Modeling, (7) Fairness, (8) Generalization, (9) Optimization, (10) Graphs, (11) Bayesian Methods, (0) Others. A paper may belong to multiple categories, separated by ;.\n",
    "\n",
    "\n",
    "- `authors_citations`: number of citations of each one of the authors, separated by ;.\n",
    "\n",
    "\n",
    "- `authors_publications`: number of publications by each one of the authors, separated by ;.\n",
    "\n",
    "\n",
    "- `authors_hindex`: h-index of each one of the authors, separated by ;. The h-index is an author-level metric that measures both the productivity and citation impact of the publications of a scientist or scholar. It is the maximum value $h$ such that the given author has published $h$ papers that have each been cited at least $h$ times.\n",
    "\n",
    "\n",
    "- `arxiv`: whether the paper was spotted in a pre-print server around the submission period.\n",
    "\n",
    "Also, notice that in this dataframe, when some piece of data was not available, -1 will be used as the value. For example, companies aren't a part of csrankings, so for people who work in big companies, the values are -1 in the field csranking.\n"
   ]
  },
  {
   "cell_type": "code",
   "execution_count": null,
   "metadata": {},
   "outputs": [],
   "source": [
    "from sklearn.model_selection import KFold\n",
    "import pandas as pd\n",
    "import numpy as np\n",
    "import itertools\n"
   ]
  },
  {
   "cell_type": "markdown",
   "metadata": {},
   "source": [
    "## _Step 1:_ Predicting paper ratings\n",
    "\n",
    "The first part of this homework poses a simple question: Can you predict the ratings the paper will receive given attributes related to its authors? To answer this question, we will build an ML pipeline from scratch, preprocessing the data, training a regression model, and then evaluating it.\n",
    "\n",
    "\n",
    "---\n",
    "\n",
    "### Task 1.1\n",
    "\n",
    "Some of the fields in the data are not very amenable to serve as input to traditional machine learning algorithms. Namely, we have some fields for which there are a varying number of values (e.g. papers with 3 authors will have 3 values in the `author_citations` field, papers with 5 authors will have 5).\n",
    "\n",
    "\n",
    "Your first task is to perform some feature engineering and derive unique values for each paper which you will be able to use in your ML model. \n",
    "More specifically, you must:\n",
    "\n",
    "1. Create 3 new fields in the dataframe corresponding to the median value of the number of citations per author, the number of publications per author, and the h-index per author. So for instance, for the row `authors_publications`, you will create an additional column, e.g. `authors_publications_median`, containing the median number of publications per author in each paper.\n",
    "\n",
    "\n",
    "2. Create another field entitled `reputation` capturing how famous the last author of the paper is. Notice that the last author of the paper is usually the most senior person involved in the project. This field should equal $\\log_{10}\\Big(\\frac{\\#citations}{\\#publications} + 1\\Big)$. Notice that each author in the dataset has at least 1 publication, so you don't risk dividing by 0.\n",
    "\n",
    "\n",
    "3. Create two fields called `has_top_company` and `has_top_institution`. The field `has_top_company` equals 1 if the article contains an author in the following list of companies `[\"Facebook\", \"Google\", \"Microsoft\", \"Deepmind\"]`, and 0 otherwise. The field `has_top_institution` equals 1 if the article contains an author in the top 10 institutions according to CSRankings.\n",
    "\n",
    "\n",
    "4. **Discuss:** How did you handle -1 values in item 1.1.1? Justify your approach.\n",
    "\n",
    "---"
   ]
  },
  {
   "cell_type": "code",
   "execution_count": 46,
   "metadata": {},
   "outputs": [],
   "source": [
    "df = pd.read_csv(\"./data/dataset_final.csv\")\n",
    "\n",
    "### ~ 1.1.1\n",
    "for x in [\"authors_citations\", \"authors_publications\", \"authors_hindex\"]:\n",
    "    df[x + \"list\"] = df[x].apply(lambda a:  str(a).replace(\"-1;\",\"\").replace(\";-1\",\"\").split(\";\"))\n",
    "    df[x + \"_median\"] =  df[x + \"list\"].apply(lambda a: np.median([float(v) for v in a]))\n",
    "    \n",
    "### ~ 1.1.2\n",
    "df[\"authors_publications_last\"] = df[\"authors_publications\"].apply(lambda a:int(str(a).split(\";\")[-1]))\n",
    "df[\"authors_citations_last\"] = df[\"authors_citations\"].apply(lambda a: int(str(a).split(\";\")[-1]))\n",
    "df[\"reputation\"] = np.log10(df[\"authors_citations_last\"]/df[\"authors_publications_last\"] + 1)\n",
    "\n",
    "### ~ 1.1.3\n",
    "extensionsToCheck = [\"Facebook\", \"Google\", \"Microsoft\", \"Deepmind\"]\n",
    "df[\"has_top_company\"] = df[\"institution\"].apply(lambda  x: any(ext in x for ext in extensionsToCheck)).astype(\"int\")\n",
    "df[\"csranking_list\"] = df[\"csranking\"].apply(lambda a: list(map(int, str(a).replace(\"-1\",\"999\").split(\";\"))))\n",
    "df[\"has_top_institution\"] = df.csranking_list.apply(lambda x: (np.array(x) <= 10).sum() > 0).astype(\"int\")\n",
    "\n",
    "### ~ 1.1.4\n",
    "# ===================================================================================================================\n",
    "# In order to compute the median, we must decide on a way to handle -1 values. We chose to simply not take them into \n",
    "# account when computing the median. Our choice could be problematic if there was a paper (or multiple papers) that\n",
    "# only had -1 values for a certain field. Indeed, there would be no mean to compute the median if we ignored all the \n",
    "# values. Thankfully, there are no such papers in the data.\n",
    "# ==================================================================================================================="
   ]
  },
  {
   "cell_type": "markdown",
   "metadata": {},
   "source": [
    "### Task 1.2\n",
    "\n",
    "Now that you have cleaned up your data, your next task is to divide your data into a training set and a testing set. You should do this in two ways:\n",
    "\n",
    "1. First, do it randomly. Split the data into a training set (70%) and a testing set (30%). We refer to these as \"random split\" in the subsequent tasks.\n",
    "\n",
    "\n",
    "2. Second, do it longitudinally. Use the data from 2018 and 2019 for the training set, and the data from 2020 as the testing set. We refer to these as \"longitudinal split\" in the subsequent tasks.\n"
   ]
  },
  {
   "cell_type": "code",
   "execution_count": 3,
   "metadata": {},
   "outputs": [],
   "source": [
    "### ~ 1.2.1\n",
    "df_train_r = df.sample(frac=0.7)\n",
    "df_test_r = df.loc[df.index.difference(df_train_r.index)]\n",
    "\n",
    "### ~ 1.2.2\n",
    "df_train_l = df.loc[df.year != 2020]\n",
    "df_test_l = df.loc[df.year == 2020]"
   ]
  },
  {
   "cell_type": "markdown",
   "metadata": {},
   "source": [
    "### Task 1.3\n",
    "\n",
    "Build a Linear Regression model (use [sklearn](https://scikit-learn.org/stable/)) that predicts the score of a paper (which is in the variable ratings in the dataframe). Train it and test it using the split you previously defined. Your model should use as features:\n",
    "- median values the number of author citations, publications and h-indexes, as calculated in Task 1.1.1.\n",
    "\n",
    "- `reputation` of the last author, as calculated in Task 1.1.2.\n",
    "\n",
    "For the two scenarios above (random split and longitudinal split):\n",
    "\n",
    "1. Report the model $R^2$ in each case (for the testing set).\n",
    "\n",
    "\n",
    "2. **Discuss:** Hypothesize a reason why the results are different. Additionally, interpret the $R^2$ value for the longitudinal split. How can it be negative?\n",
    "\n",
    "**From now onwards (in this task and the following ones), consider only the random split.**\n",
    "\n",
    "\n",
    "3. For a given entry $X$ your model outputs a predicted score $Y'$. The difference between the real score $Y$ and the predicted score $Y'$ is called the \"residual\". Plot the distribution of your residuals for the test set. Using this distribution, estimate what is the probability that your prediction is off by more than 2-points? Provide bootstrapped confidence intervals for your answer.\n",
    "\n",
    "\n",
    "4. **Discuss:** Identify three additional features that are already computed in your dataframe and that could boost your model's predictive performance. You are not allowed to use the variable `decisions` as an input here. Before running any experiments, discuss why each of these features might add valuable information to your model.\n",
    "\n",
    "\n",
    "5. Report the($R^2$ for the test set) for a newly trained model with these additional features. Please note that you do not need to improve the model performance to be successful in this task!\n",
    "\n",
    "**Hint**: [Metrics!](https://scikit-learn.org/stable/modules/classes.html#sklearn-metrics-metrics)\n"
   ]
  },
  {
   "cell_type": "code",
   "execution_count": 4,
   "metadata": {},
   "outputs": [
    {
     "name": "stdout",
     "output_type": "stream",
     "text": [
      "R2 score random:   0.09180861525174822\n",
      "R2 score longit:   -0.24009712493164082\n",
      "MAE random:        1.1490890855509563\n",
      "R2 score random:   0.1800183505763827\n",
      "MAE random:        1.0851935038041172\n"
     ]
    }
   ],
   "source": [
    "### ~ 1.3.1  \n",
    "from sklearn.linear_model import LinearRegression\n",
    "import sklearn.metrics\n",
    "\n",
    "features = [\"authors_citations\", \"authors_publications\", \"authors_hindex\"]\n",
    "features = [feature + \"_median\" for feature in features] + [\"reputation\"]\n",
    "\n",
    "X, y = df_train_r[features].values, df_train_r[\"ratings\"].values#] >= 6\n",
    "X_t, y_t = df_test_r[features].values, df_test_r[\"ratings\"].values# >= 6\n",
    "clf = LinearRegression().fit(X, y)\n",
    "y_pred = clf.predict(X_t)\n",
    "mae_random = sklearn.metrics.mean_absolute_error(y_t, y_pred)\n",
    "r2_random = sklearn.metrics.r2_score(y_t, y_pred)\n",
    "\n",
    "X, y = df_train_l[features].values, df_train_l[\"ratings\"].values#] >= 6\n",
    "X_t, y_t = df_test_l[features].values, df_test_l[\"ratings\"].values# >= 6\n",
    "clf = LinearRegression().fit(X, y)\n",
    "y_pred = clf.predict(X_t)\n",
    "mae_longit = sklearn.metrics.mean_absolute_error(y_t, y_pred)\n",
    "r2_longit = sklearn.metrics.r2_score(y_t, y_pred)\n",
    "\n",
    "print(\"R2 score random:  \", r2_random)\n",
    "print(\"R2 score longit:  \", r2_longit)\n",
    "\n",
    "### ~ 1.3.2\n",
    "# ===================================================================================================================\n",
    "# A: R2 for longitudinal split is worse, because train and test data is not from the same distribution. Things seem \n",
    "# to have changed between those years.\n",
    "# ===================================================================================================================\n",
    "\n",
    "### ~ 1.3.3\n",
    "print(\"MAE random:       \", mae_random)\n",
    "\n",
    "### ~ 1.3.4\n",
    "# ===================================================================================================================\n",
    "# A: \"arxiv\", after all, the whole homework is a hypothesis about it...\n",
    "#    \"year\", since grades may have drifted up or down\n",
    "#.   \"has_top_institution\", since they are more likely to have better papers (for a variety of reasons)\n",
    "# ===================================================================================================================\n",
    "\n",
    "### ~ 1.3.5\n",
    "features = [\"authors_citations\", \"authors_publications\", \"authors_hindex\"]\n",
    "features = [feature + \"_median\" for feature in features] + [\"reputation\", \"arxiv\", \"year\", \"has_top_institution\"]\n",
    "\n",
    "X, y = df_train_r[features].values, df_train_r[\"ratings\"].values\n",
    "X_t, y_t = df_test_r[features].values, df_test_r[\"ratings\"].values\n",
    "clf = LinearRegression().fit(X, y)\n",
    "y_pred = clf.predict(X_t)\n",
    "mae_random = sklearn.metrics.mean_absolute_error(y_t, y_pred)\n",
    "r2_random = sklearn.metrics.r2_score(y_t, y_pred)\n",
    "print(\"R2 score random:  \", r2_random)\n",
    "print(\"MAE random:       \", mae_random)"
   ]
  },
  {
   "cell_type": "markdown",
   "metadata": {},
   "source": [
    "### Task 1.4\n",
    "\n",
    "Experiment with training a different regressor, a [Gradient Boosting Regressor](https://scikit-learn.org/stable/modules/ensemble.html?highlight=xgboost#gradient-boosting). This regressor is analogous to the Gradient Boosting Classifier that you have seen in class. This model performs extremely well for a variety of tasks and is often used in machine learning competitions for tabular data (e.g., on [Kaggle](www.kaggle.com)). You must:\n",
    "\n",
    "1. Train a Gradient Boosting Regressor without specifying any parameters, e.g. `GradientBoostingRegressor().fit(X, y)`, and report its $R^2$ on the testing set. Your model should again use as features:\n",
    "\n",
    "    - Median values the number of author citations, publications and h-indexes as calculated in Task 1.1.1.\n",
    "\n",
    "    - `reputation` of the last author, as calculated in Task 1.1.2.\n",
    "\n",
    "Create an additional feature called $crazy$, which is derived as follows. If the score  of the paper, $ratings$, is bigger than 4.96, then $crazy = 9 - ratings$, otherwise, $crazy = - ratings$.\n",
    "\n",
    "2. Train a Gradient Boosting Regressor to predict paper scores using only $crazy$ as a feature. Additionally, train a Linear Regression model to predict paper scores using only $crazy$ as a feature. Report the $R^2$ in the testing set.\n",
    "\n",
    "\n",
    "3. **Discuss:** Why does the Gradient Boosting Regressor perform so much better?"
   ]
  },
  {
   "cell_type": "code",
   "execution_count": 31,
   "metadata": {},
   "outputs": [
    {
     "name": "stdout",
     "output_type": "stream",
     "text": [
      "R2 GB:   0.05650095569692104\n",
      "R2 score GB: 0.9999586155826938\n",
      "R2 score LR:   0.41116717940149916\n"
     ]
    }
   ],
   "source": [
    "from sklearn.ensemble import GradientBoostingRegressor\n",
    "\n",
    "# ~ 1.4.1\n",
    "features = [\"authors_citations\", \"authors_publications\", \"authors_hindex\"]\n",
    "features = [feature + \"_median\" for feature in features] + [\"reputation\"]\n",
    "X, y = df_train_r[features].values, df_train_r[\"ratings\"].values\n",
    "X_t, y_t = df_test_r[features].values, df_test_r[\"ratings\"].values\n",
    "clf = GradientBoostingRegressor().fit(X, y)\n",
    "y_pred = clf.predict(X_t)\n",
    "r2_gb = sklearn.metrics.r2_score(y_t, y_pred)\n",
    "print(\"R2 GB:  \", r2_gb)\n",
    "\n",
    "# ~ 1.4.2\n",
    "df[\"crazy\"] = - df[\"ratings\"]\n",
    "df.loc[df[\"ratings\"] > 4.96, \"crazy\"] = 9 - df[\"ratings\"]\n",
    "df_train_r = df.sample(frac=0.7)\n",
    "df_test_r = df.loc[df.index.difference(df_train_r.index)]\n",
    "features = [\"crazy\"]\n",
    "X, y = df_train_r[features].values, df_train_r[\"ratings\"].values\n",
    "X_t, y_t = df_test_r[features].values, df_test_r[\"ratings\"].values\n",
    "clf = GradientBoostingRegressor().fit(X, y)\n",
    "print(\"R2 score GB:\", clf.score(X_t, y_t))\n",
    "clf = LinearRegression().fit(X, y)\n",
    "print(\"R2 score LR:  \", clf.score(X_t, y_t))\n",
    "\n",
    "# ~ 1.4.3\n",
    "# ===================================================================================================================\n",
    "# A: The feature crazy is more useful if we consider it in a non-linear fashion! We need to learn to do \"or\" which\n",
    "# linear models struggle to do!\n",
    "# ==================================================================================================================="
   ]
  },
  {
   "cell_type": "markdown",
   "metadata": {},
   "source": [
    "### Task 1.5\n",
    "\n",
    "Complex models often have several hyper-parameters. \n",
    "To obtain the best results, it is common-place to use a cross-validation set-up in your training data to find the best hyper-parameters, and then use it for the test set.\n",
    "\n",
    "\n",
    "1. Write modular code (i.e., a function) to divide your training data into $N$ folds and perform cross-validation.\n",
    "\n",
    "\n",
    "\n",
    "2.  Experiment tuning two hyper-parameters of the Gradient Boosting Regressor: `n_estimators` and `learning_rate`.\n",
    "For each possible combination of the two hyper-parameters (see below for the range of values that you should try for each hyper-parameter), train your model in a cross-validation setup with $N$=20. Report the mean $R^2$ along with the 90% CI for the 18 scenarios. Notice that you can calculate the 90% CI in a bootstrap-like fashion.\n",
    "\n",
    "    - `n_estimators`$ \\in  \\{ 50, 75, 100, 150, 200, 250\\}$\n",
    "    - `learning_rate`$ \\in  \\{ 0.1, 0.05, 0.01\\}$.\n",
    "    \n",
    "    \n",
    "    \n",
    "3. With the best hyper-parameters obtained, train your model with the entire training set and report the $R^2$ on the testing set.\n",
    "\n",
    "\n",
    "\n",
    "4. **Discuss:** Why don't we tune the hyper-parameters in the testing set instead of doing cross-validation in the training set?"
   ]
  },
  {
   "cell_type": "code",
   "execution_count": 32,
   "metadata": {
    "scrolled": true
   },
   "outputs": [],
   "source": [
    "# ~ 1.5.1\n",
    "def cross_val(N, classifier, params):\n",
    "    kf = KFold(n_splits=N)\n",
    "\n",
    "    best_R2, best_n_estimator, best_learning_rate = -1, -1, -1\n",
    "    features = [\"authors_citations\", \"authors_publications\", \"authors_hindex\"]\n",
    "    features = [feature + \"_median\" for feature in features] + [\"reputation\"]\n",
    "    df_train_r = df.sample(frac=0.7)\n",
    "    df_test_r = df.loc[df.index.difference(df_train_r.index)]\n",
    "    X, y = df_train_r[features], df_train_r[\"ratings\"]\n",
    "    X_t, y_t = df_test_r[features], df_test_r[\"ratings\"]\n",
    "\n",
    "    for param in params:\n",
    "        gbreg = classifier(**param)\n",
    "        sum_R2 = 0\n",
    "        R2s = []\n",
    "        for train_index, test_index in kf.split(X):\n",
    "            X_train_kf = X.iloc[train_index]\n",
    "            y_train_kf = y.iloc[train_index]\n",
    "            X_test_kf = X.iloc[test_index]\n",
    "            y_test_kf = y.iloc[test_index]\n",
    "            gbreg.fit(X_train_kf, y_train_kf)\n",
    "            y_pred_rand = gbreg.predict(X_test_kf)\n",
    "            R2_kf = r2_score(y_test_kf, y_pred_rand)\n",
    "            R2s.append(R2_kf)\n",
    "            sum_R2 += R2_kf\n",
    "\n",
    "\n",
    "        mean_R2 = sum_R2 / N\n",
    "        R2s = sorted(R2s)\n",
    "        print(\"=\"*30)\n",
    "        print(param, \"mean_r2\", round(mean_R2, 3),\n",
    "              \"90ci\", round(R2s[1], 3), round(R2s[18], 3))\n",
    "\n",
    "        if mean_R2 > best_R2:\n",
    "            best_R2 = mean_R2\n",
    "            best_params = param\n",
    "    return best_R2, best_params"
   ]
  },
  {
   "cell_type": "code",
   "execution_count": 33,
   "metadata": {},
   "outputs": [
    {
     "name": "stdout",
     "output_type": "stream",
     "text": [
      "==============================\n",
      "{'n_estimators': 25, 'learning_rate': 0.1} mean_r2 0.098 90ci 0.056 0.176\n",
      "==============================\n",
      "{'n_estimators': 25, 'learning_rate': 0.05} mean_r2 0.09 90ci 0.062 0.143\n",
      "==============================\n",
      "{'n_estimators': 25, 'learning_rate': 0.01} mean_r2 0.032 90ci 0.01 0.054\n",
      "==============================\n",
      "{'n_estimators': 50, 'learning_rate': 0.1} mean_r2 0.09 90ci 0.046 0.165\n",
      "==============================\n",
      "{'n_estimators': 50, 'learning_rate': 0.05} mean_r2 0.099 90ci 0.06 0.174\n",
      "==============================\n",
      "{'n_estimators': 50, 'learning_rate': 0.01} mean_r2 0.058 90ci 0.04 0.091\n",
      "==============================\n",
      "{'n_estimators': 75, 'learning_rate': 0.1} mean_r2 0.085 90ci 0.04 0.149\n",
      "==============================\n",
      "{'n_estimators': 75, 'learning_rate': 0.05} mean_r2 0.098 90ci 0.05 0.172\n",
      "==============================\n",
      "{'n_estimators': 75, 'learning_rate': 0.01} mean_r2 0.074 90ci 0.051 0.115\n",
      "==============================\n",
      "{'n_estimators': 100, 'learning_rate': 0.1} mean_r2 0.079 90ci 0.031 0.144\n",
      "==============================\n",
      "{'n_estimators': 100, 'learning_rate': 0.05} mean_r2 0.096 90ci 0.047 0.168\n",
      "==============================\n",
      "{'n_estimators': 100, 'learning_rate': 0.01} mean_r2 0.084 90ci 0.057 0.131\n"
     ]
    }
   ],
   "source": [
    "# ~ 1.5.2\n",
    "N = 20\n",
    "n_estimators = [25,50,75,100]\n",
    "learning_rate = [0.1,0.05,0.01]\n",
    "params = [\n",
    "    {\"n_estimators\": x, \"learning_rate\":y} for x, y in itertools.product(n_estimators, learning_rate)\n",
    "]\n",
    "best_R2, best_params = cross_val(N, GradientBoostingRegressor, params)"
   ]
  },
  {
   "cell_type": "code",
   "execution_count": 47,
   "metadata": {},
   "outputs": [
    {
     "name": "stdout",
     "output_type": "stream",
     "text": [
      "Best params:   {'n_estimators': 50, 'learning_rate': 0.05}\n",
      "R2 best:   0.11532503377424097\n"
     ]
    }
   ],
   "source": [
    "# ~ 1.5.3\n",
    "features = [\"authors_citations\", \"authors_publications\", \"authors_hindex\"]\n",
    "features = [feature + \"_median\" for feature in features] + [\"reputation\"]\n",
    "X, y = df_train_r[features].values, df_train_r[\"ratings\"].values\n",
    "X_t, y_t = df_test_r[features].values, df_test_r[\"ratings\"].values\n",
    "clf = GradientBoostingRegressor(**best_params).fit(X, y)\n",
    "y_pred = clf.predict(X_t)\n",
    "r2_gb = sklearn.metrics.r2_score(y_t, y_pred)\n",
    "print(\"Best params:  \", best_params)\n",
    "print(\"R2 best:  \", r2_gb)"
   ]
  },
  {
   "cell_type": "code",
   "execution_count": 48,
   "metadata": {},
   "outputs": [],
   "source": [
    "# ~ 1.5.4\n",
    "# ===================================================================================================================\n",
    "# A: The whole purpose of the test set is to avoid overfitting our data. If we tuned our parameters in the test set,\n",
    "# it could be that we simply overfit the test set amidst our hyper-parameter search efforts.\n",
    "# ==================================================================================================================="
   ]
  },
  {
   "cell_type": "markdown",
   "metadata": {},
   "source": [
    "## _Step 2:_ What influences papers getting accepted?\n",
    "\n",
    "Time to change hats!\n",
    "\n",
    "If before we were interested in creating an accurate regressor, now we are interested in understanding what increases the chance of papers getting accepted. \n",
    "\n",
    "Typically, in that scenario, simpler models with a clear statistical interpretation (e.g. logistic regression) yield more interesting insights.\n",
    "\n",
    "For the analysis in this and the next step, you should use [statsmodels](https://www.statsmodels.org/) (for the regressions) and [scipy](https://www.scipy.org/) (for the statistical hypothesis testing).\n"
   ]
  },
  {
   "cell_type": "markdown",
   "metadata": {},
   "source": [
    "### Task 2.1\n",
    "\n",
    "Let's warm up with some visualizations and some hypothesis testing!\n",
    "\n",
    "1. Plot the distributions of 1) ratings of papers that got accepted in 2020, 2) ratings of papers that got rejected in 2020.\n",
    "\n",
    "\n",
    "2. Select a statistical test to compare whether the mean for ratings of papers that got accepted in 2020 is significantly higher.\n",
    "\n",
    "\n",
    "3. **Discuss:** Justify why the statistical test you selected is appropriate. Interpret the test-related statistic and its p-value: concretely, what do they mean?"
   ]
  },
  {
   "cell_type": "code",
   "execution_count": 61,
   "metadata": {},
   "outputs": [
    {
     "data": {
      "text/plain": [
       "MannwhitneyuResult(statistic=3873967.0, pvalue=0.0)"
      ]
     },
     "execution_count": 61,
     "metadata": {},
     "output_type": "execute_result"
    },
    {
     "data": {
      "image/png": "[encoded data removed]",
      "text/plain": [
       "<Figure size 432x288 with 1 Axes>"
      ]
     },
     "metadata": {
      "needs_background": "light"
     },
     "output_type": "display_data"
    }
   ],
   "source": [
    "# ~ 2.1.1\n",
    "accepted = df.query('decisions == \"Accept\"')\n",
    "rejected = df.query('decisions == \"Reject\"')\n",
    "sns.distplot(accepted['ratings'], color='blue')\n",
    "sns.distplot(rejected['ratings'], color='red')\n",
    "\n",
    "# ~ 2.1.2 \n",
    "from scipy.stats import mannwhitneyu\n",
    "mannwhitneyu(accepted['ratings'], rejected['ratings'], use_continuity=True, alternative=\"two-sided\")\n",
    "\n",
    "# ~ 2.1.3\n",
    "# ===================================================================================================================\n",
    "# A: We select the mann-whitney u test since it is non-parametric and since assumptions taken are aligned with the\n",
    "# data. We have:\n",
    "# - a continous variable (ratings) being compared across two independent groups (accept and reject)\n",
    "# - observations are independent\n",
    "# - the shape of the distribution is roughly the same\n",
    "#\n",
    "# U-statistic: represents the number of times that the samples one of the groups is bigger than a sample from another\n",
    "# group (for all possible combinations). If the null hypothesis of the MWU was true, this number would be about half.\n",
    "# However, if the statistic is very low or very high, then it means that elements of the group are more often bigger\n",
    "# or smaller than the other.\n",
    "#\n",
    "# - the max value for the U statistic is len(accepted)*len(rejected)=4083495\n",
    "# - we obtain a very high U statistic=3873967 ~95% of the max possible value\n",
    "# - thus, it is unlikely that the two have the same mean\n",
    "#\n",
    "# We obtain a extremely low p-value, meaning that it is very unlikely that we observe the data at hand if the null\n",
    "# hypothesis was true.\n",
    "# ==================================================================================================================="
   ]
  },
  {
   "cell_type": "markdown",
   "metadata": {},
   "source": [
    "### Task 2.2\n",
    "\n",
    "We will now carry out a logistic regression modeling the binary variable `decisions` as a function of the continuous variable `ratings` and an intercept. \n",
    "\n",
    "Recall that a logistic regression is a model in the form:\n",
    "\n",
    "$$\n",
    "\\log \\Big( \\frac{p}{1-p} \\Big) = b_0 + b_1x_1 + b_2x_2 + \\ldots\n",
    "$$\n",
    "\n",
    "Where $p$ is the probability of the dependent variable (here, `decisions`) being equals to 1. \n",
    "Note that $\\frac{p}{1-p}$ represents the odds of the variable, and thus, on the left-hand side we have the log-odds of the variable.\n",
    "This can be also written as:\n",
    "\n",
    "$$\n",
    "\\Big( \\frac{p}{1-p} \\Big) = e^{b_0 + b_1 x_1 + b_2 x_2 + \\ldots} =  e^{b_0} e^{b_1 x_1} e^{b_2 x_2} \\ldots\n",
    "$$\n",
    "\n",
    "Given a linear variable, say $x_1$, if we increase the value associated with this variable by a single unit, and keep everything constant, we have:\n",
    "\n",
    "$$\n",
    " e^{b_1(x_1+1)} =  e^{b_1 x_1 + x_1} = e^{b_1 x_1}e^{b_1}  \n",
    "$$\n",
    "\n",
    "This means that we multiply the odds of the outcome variable by $e^{b_1}$. Thus, let's say that $x_1$ is the average rating, and $\\beta_1$ is the associated coefficient. Also, let's assume that $\\beta_1$ equals 2. In that case, increasing the score of the paper by 1 unit is equivalent to multiplying both sides of the previous equation by $e^{b_1}$. The original equation for our model becomes:\n",
    "\n",
    "$$\n",
    "\\Big( \\frac{p}{1-p} \\Big) = e^{b_0} e^{b_1 x_1} \n",
    "$$\n",
    "$$\n",
    "\\Big( \\frac{p}{1-p} \\Big) e^{b_1}  = e^{b_0} e^{b_1 x_1} e^{b_1}\n",
    "$$\n",
    "\n",
    "Since $b_1=2$, we have that this is the same as multiplying the odds of the variable by $e^2\\approx7$. \n",
    "So for example, if a paper with a score 5 had $p=0.05$ of being approved, its odds would be $0.05/0.95\\approx0.052$. According to our model, an increase in 1-rating point would mean that the new odds would be $0.052*7\\approx0.36$. Using the odds formula  ($\\frac{p}{1-p}$), this suggests that this paper would have a chance of $0.56$ of being accepted.\n",
    "\n",
    "---\n",
    "\n",
    "This is the theory. Now, let's find out what the real world looks like.\n",
    "\n",
    "1. Fit a logistic regression model to our data considering as the training set all papers submitted in 2020. Your model should predict a binary variable related to decisions (which equals true if the paper was accepted and false otherwise) as a function of the paper ratings and an intercept. In mathematical notation:\n",
    "$$\n",
    "d = b_0 + r b_1\n",
    "$$\n",
    "Where $d$ is the binary variable corresponding to a decision, $r$ is a numeric variable corresponding to the rating a paper has received and $b$ are coefficients.\n",
    "Notice that here we have no testing set!\n",
    "Report the summary of your model. \n",
    "\n",
    "\n",
    "\n",
    "2. **Discuss:** Interpreting the coefficients of your model, calculate the probability that a paper with a score 7 will be accepted.\n"
   ]
  },
  {
   "cell_type": "code",
   "execution_count": 35,
   "metadata": {},
   "outputs": [
    {
     "name": "stderr",
     "output_type": "stream",
     "text": [
      "/Users/horta/opt/anaconda3/lib/python3.7/site-packages/statsmodels/tools/_testing.py:19: FutureWarning: pandas.util.testing is deprecated. Use the functions in the public API at pandas.testing instead.\n",
      "  import pandas.util.testing as tm\n"
     ]
    },
    {
     "name": "stdout",
     "output_type": "stream",
     "text": [
      "Optimization terminated successfully.\n",
      "         Current function value: 0.251882\n",
      "         Iterations 8\n",
      "                           Logit Regression Results                           \n",
      "==============================================================================\n",
      "Dep. Variable:         decisions_bool   No. Observations:                 2052\n",
      "Model:                          Logit   Df Residuals:                     2050\n",
      "Method:                           MLE   Df Model:                            1\n",
      "Date:                Thu, 07 Jan 2021   Pseudo R-squ.:                  0.5913\n",
      "Time:                        11:15:33   Log-Likelihood:                -516.86\n",
      "converged:                       True   LL-Null:                       -1264.6\n",
      "Covariance Type:            nonrobust   LLR p-value:                     0.000\n",
      "==============================================================================\n",
      "                 coef    std err          z      P>|z|      [0.025      0.975]\n",
      "------------------------------------------------------------------------------\n",
      "Intercept    -12.8811      0.597    -21.574      0.000     -14.051     -11.711\n",
      "ratings        2.3672      0.110     21.438      0.000       2.151       2.584\n",
      "==============================================================================\n"
     ]
    }
   ],
   "source": [
    "# ~ 2.1\n",
    "import statsmodels.api as sm\n",
    "import statsmodels.formula.api as smf\n",
    "df[\"decisions_bool\"] = (df.decisions == \"Accept\").astype(\"float\")\n",
    "mod = smf.logit(formula='decisions_bool ~ ratings   ',  data=df[df.year==2020])\n",
    "res = mod.fit()\n",
    "print(res.summary())\n",
    "\n",
    "# 2.2\n",
    "# An increase in 1-rating point would multiply the odds by $e^{2.3672} = 10.66$.\n",
    "# The coefficient (b1) is 2.367 and the intercept (b0) is -12.881 \n",
    "# -12.881 + 2.367 * 7.000 = 3.689 \n",
    "# After applying a sigmoid, the predicted probability is: 0.9756"
   ]
  },
  {
   "cell_type": "markdown",
   "metadata": {},
   "source": [
    "### Task 2.3\n",
    "\n",
    "Our model is not so interesting since the only independent variable (that is, our model' feature or predictor) is something blatantly associated with paper acceptance. Let's go further! \n",
    "\n",
    "1. Run a logistic regression with the binary decision as the dependent variable (the outcome) and using as independent variables (the features): ratings, the reputation of the last author, and whether the paper was on arxiv or not. That is, in [patsy-style formula](https://patsy.readthedocs.io/en/latest/formulas.html): `decisions ~ ratings + reputation + arxiv` (variable names do not need to be exactly these). Consider all papers submitted in 2020 as your training data.\n",
    "Notice that reputation was calculated in Task 1.1. \n",
    "\n",
    "2. **Discuss:** Unlike `ratings` and `reputation`, the variable `arxiv` is binary. Following the same logic as we did for continuous variables in the text of Task 2.2, interpret the meaning of this coefficient. What happens to the odds ratio if the paper was seen in arxiv? Is this effect statistically significant?"
   ]
  },
  {
   "cell_type": "code",
   "execution_count": 36,
   "metadata": {},
   "outputs": [
    {
     "name": "stdout",
     "output_type": "stream",
     "text": [
      "Optimization terminated successfully.\n",
      "         Current function value: 0.250440\n",
      "         Iterations 8\n",
      "                           Logit Regression Results                           \n",
      "==============================================================================\n",
      "Dep. Variable:         decisions_bool   No. Observations:                 2052\n",
      "Model:                          Logit   Df Residuals:                     2048\n",
      "Method:                           MLE   Df Model:                            3\n",
      "Date:                Thu, 07 Jan 2021   Pseudo R-squ.:                  0.5936\n",
      "Time:                        11:18:41   Log-Likelihood:                -513.90\n",
      "converged:                       True   LL-Null:                       -1264.6\n",
      "Covariance Type:            nonrobust   LLR p-value:                     0.000\n",
      "=================================================================================\n",
      "                    coef    std err          z      P>|z|      [0.025      0.975]\n",
      "---------------------------------------------------------------------------------\n",
      "Intercept       -13.2261      0.634    -20.873      0.000     -14.468     -11.984\n",
      "arxiv[T.True]     0.2890      0.167      1.727      0.084      -0.039       0.617\n",
      "ratings           2.3541      0.111     21.296      0.000       2.137       2.571\n",
      "reputation        0.2267      0.148      1.533      0.125      -0.063       0.517\n",
      "=================================================================================\n"
     ]
    }
   ],
   "source": [
    "# ~ 2.3.1\n",
    "df[\"prestige\"] =  df.csranking_list.apply(lambda x: (np.array(x) <= 10).sum() > 0).astype(\"int\")\n",
    "\n",
    "df[\"decisions_bool\"] = (df.decisions == \"Accept\").astype(\"float\")\n",
    "mod = smf.logit(formula='decisions_bool ~ ratings + reputation + arxiv',  data=df[df.year==2020])\n",
    "res = mod.fit()\n",
    "print(res.summary())\n",
    "\n",
    "# ~ 2.3.2\n",
    "#### Task 2.3.2 Discussion\n",
    "# - the presence of the  paper on a pre-print server would multiply the odds by $e^{0.2890} = 1.335$.\n",
    "# - the 95% confidence interval of the `arxiv` feature is [-0.039, 0.617] which contains the zero value. \n",
    "# - The related p-val (0.084) is bigger than 0.05. \n",
    "# - We cannot state with confidence that the `arxiv` feature has significant effect on the acceptance of a paper. "
   ]
  },
  {
   "cell_type": "markdown",
   "metadata": {},
   "source": [
    "### Task 2.4\n",
    "\n",
    "Let's finally move on to the question that you have been dying to answer: Do pre-prints favor top institutions? \n",
    "\n",
    "In order to (try to) answer that question, you must fit yet another logistic regression.\n",
    "\n",
    "Your regression should have the paper decision as the dependent variable, and `ratings`, `reputation`, and `arxiv` as independent variables just like in task 2.3. Yet, here, include also as independent variables the binary variable `has_top_institution`, which equals 1 if the paper has an author in a top-10 institution; and the interaction variable `arxiv:has_top_institution`, which equals one only if the paper is from a top-10 institution **and** if it appeared on arxiv before the submission deadline. In patsy-style formula your model should look something like: \n",
    "\n",
    "`decisions_bool ~ ratings + reputation + arxiv + has_top_institution + arxiv:has_top_institution`\n",
    "\n",
    "\n",
    "1. Fit this model and estimate the effect of posting on arxiv for a top institution. Again, consider only papers submitted in the 2020 edition.\n",
    "\n",
    "\n",
    "2. **Discuss:** Interpreting the p-values, discuss: is this evidence that arxiv breaks double-blind submissions?"
   ]
  },
  {
   "cell_type": "code",
   "execution_count": 62,
   "metadata": {},
   "outputs": [
    {
     "name": "stdout",
     "output_type": "stream",
     "text": [
      "Optimization terminated successfully.\n",
      "         Current function value: 0.247320\n",
      "         Iterations 8\n",
      "                           Logit Regression Results                           \n",
      "==============================================================================\n",
      "Dep. Variable:         decisions_bool   No. Observations:                 2052\n",
      "Model:                          Logit   Df Residuals:                     2046\n",
      "Method:                           MLE   Df Model:                            5\n",
      "Date:                Thu, 07 Jan 2021   Pseudo R-squ.:                  0.5987\n",
      "Time:                        13:31:19   Log-Likelihood:                -507.50\n",
      "converged:                       True   LL-Null:                       -1264.6\n",
      "Covariance Type:            nonrobust   LLR p-value:                     0.000\n",
      "=====================================================================================================\n",
      "                                        coef    std err          z      P>|z|      [0.025      0.975]\n",
      "-----------------------------------------------------------------------------------------------------\n",
      "Intercept                           -13.3940      0.647    -20.717      0.000     -14.661     -12.127\n",
      "arxiv[T.True]                         0.1061      0.200      0.529      0.597      -0.287       0.499\n",
      "ratings                               2.3834      0.113     21.171      0.000       2.163       2.604\n",
      "reputation                            0.1605      0.150      1.072      0.284      -0.133       0.454\n",
      "has_top_institution                   0.3662      0.224      1.631      0.103      -0.074       0.806\n",
      "arxiv[T.True]:has_top_institution     0.5793      0.370      1.568      0.117      -0.145       1.304\n",
      "=====================================================================================================\n"
     ]
    }
   ],
   "source": [
    "# ~ 2.4.1\n",
    "df[\"decisions_bool\"] = (df.decisions == \"Accept\").astype(\"float\")\n",
    "mod = smf.logit(formula='decisions_bool ~ ratings + reputation + arxiv +'\n",
    "                'has_top_institution + arxiv:has_top_institution',  \n",
    "                data=df[df.year==2020])\n",
    "res = mod.fit()\n",
    "print(res.summary())\n",
    "\n",
    "# ~ 2.4.2\n",
    "# arxiv[T.True]:has_top_institution has a positive effect on the odds of acceptance. \n",
    "# However, their p-value is >0.05.\n",
    "# This provides _some_ evidence to that they significantly influence the acceptance of a paper\n",
    "# However this evidence is statistically weak."
   ]
  },
  {
   "cell_type": "markdown",
   "metadata": {},
   "source": [
    "## Step 3: Matching\n",
    "\n",
    "Okay, so let's change hats one last time.\n",
    "\n",
    "As you have all seen in class, a particularly powerful way of disentangling causal effects from observational data is through matching: making sure we are not comparing apples to oranges.\n",
    "\n",
    "\n",
    "### Task 3.1\n",
    "\n",
    "One of the ways to do matching is called \"Propensity Score Matching.\" There, we calculate a *propensity score* for each subject which represents the propensity to receive a \"treatment.\" Then, we match subjects who received and did not receive the treatment, but that had similar propensity scores (that is, even though some received the treatment and some did not, they had similar chances to receive it).\n",
    "\n",
    "In our specific case, we can further attempt to study the impact of pre-prints by considering publishing to arxiv as our \"treatment\".\n",
    "\n",
    "In that context, the first step to perform propensity score matching is to create a classifier that predicts whether a paper was published on arxiv or not.\n",
    "\n",
    "1. We have trained this classifier for you (don't get spoiled!). You may load the pandas dataframe entitled `propensity_scores.csv.gz` from the github repo. \n",
    "Notice that we will be using only the articles published in 2020. \n",
    "Create a new dataframe that is a merged version of this new dataframe with the dataframe you have been working on so far. Remember to keep only the papers published in 2020!\n",
    "\n",
    "\n",
    "2. **Discuss:** In which way is this classifier (that is a classifier trained to estimate propensity scores) different from the previous classifier that you trained in Step 1?\n",
    "\n",
    "**Hint:** For a classifier tra we don't need a training set and a test set!\n"
   ]
  },
  {
   "cell_type": "code",
   "execution_count": 39,
   "metadata": {},
   "outputs": [],
   "source": [
    "# ~ 3.1.1\n",
    "df_p = pd.read_csv(\"./data/propensity_scores.csv.gz\", compression=\"infer\")\n",
    "df_p = df[df.year==2020].merge(df_p, left_on=\"paper\", right_on=\"paper\")\n",
    "\n",
    "# ~ 3.1.2\n",
    "# ===================================================================================================================\n",
    "# A: Here you _want_ to overfit, you are worried about the sample at hand, not at generalizing!\n",
    "# ==================================================================================================================="
   ]
  },
  {
   "cell_type": "markdown",
   "metadata": {},
   "source": [
    "### Task 3.2\n",
    "\n",
    "Now is time to match users! You will be implementing a technique called *caliper matching*. \n",
    "\n",
    "Create pairs of users as follows. For each treated subject (here a paper that was submitted to arxiv), find a non-treated subject (a paper that was not submitted to arxiv) with similar propensity score. Namely, if the propensity score of the treated unit is $p_t$, you must find a non-treated unit $p_c$ with propensity score $|p_{c} - p_t| < \\epsilon$. If there is no such a non-treated unit, you may ignore the treated unit and move forward with the matching. Notice that your output must be a 1-to-1 matching. So each paper can only be matched once.\n",
    "\n",
    "1. Perform this matching procedure using $\\epsilon = 0.05$.\n",
    "\n",
    "\n",
    "2. Report how many pairs did you manage to match? How many didn't you?"
   ]
  },
  {
   "cell_type": "code",
   "execution_count": 63,
   "metadata": {},
   "outputs": [
    {
     "name": "stdout",
     "output_type": "stream",
     "text": [
      "Failures 0\n",
      "Success 590\n"
     ]
    }
   ],
   "source": [
    "# ~ 3.2.1\n",
    "treated = df_p[df_p[\"arxiv\"]]\n",
    "non_treated = df_p[~df_p[\"arxiv\"]]\n",
    "eps = 0.05\n",
    "fail = 0\n",
    "success = 0\n",
    "treated_idx = []\n",
    "non_treated_idx = []\n",
    "\n",
    "for idx, t in treated.iterrows():\n",
    "    t = dict(t)\n",
    "    \n",
    "    argminv =  np.abs(non_treated[\"propensity_score\"] - t[\"propensity_score\"]).argmin()\n",
    "    minv =  np.abs(non_treated[\"propensity_score\"] - t[\"propensity_score\"]).min()\n",
    "    if minv > eps:\n",
    "        fail += 1\n",
    "        continue\n",
    "\n",
    "    non_treated_v = non_treated.iloc[argminv]\n",
    "    namev = non_treated_v.name\n",
    "    ps_non_treated = non_treated_v[\"propensity_score\"]\n",
    "    non_treated = non_treated.drop(namev, axis=0)\n",
    "    success += 1\n",
    "    \n",
    "    treated_idx.append(idx)\n",
    "    non_treated_idx.append(namev)\n",
    "    \n",
    "treated = df_p.loc[np.array(treated_idx)]\n",
    "non_treated = df_p.loc[np.array(non_treated_idx)]\n",
    "\n",
    "# ~ 3.2.2\n",
    "print(\"Failures\", fail)\n",
    "print(\"Success\", success)"
   ]
  },
  {
   "cell_type": "markdown",
   "metadata": {
    "pycharm": {
     "name": "#%% md\n"
    }
   },
   "source": [
    "### Task 3.3\n",
    "\n",
    "Let's evaluate your matching! There are more rigorous ways to do it, but we'll go the easy path.\n",
    "\n",
    "\n",
    "1. Using one or several appropriate plot types, visualize the distributions of the variables reputation and ratings, for treated and non-treated subjects that you matched.\n",
    "\n",
    "\n",
    "2. Visualize the distributions of these variables for all papers from 2020 that appeared on arxiv, and all papers that did not (including those you did not manage to match).\n",
    "\n",
    "\n",
    "3. **Discuss:** According to your visual analysis (no statistical tests needed here), did the matching do a good job at balancing covariates?"
   ]
  },
  {
   "cell_type": "code",
   "execution_count": 65,
   "metadata": {
    "pycharm": {
     "name": "#%%\n"
    }
   },
   "outputs": [
    {
     "data": {
      "text/plain": [
       "<matplotlib.axes._subplots.AxesSubplot at 0x139393a10>"
      ]
     },
     "execution_count": 65,
     "metadata": {},
     "output_type": "execute_result"
    },
    {
     "data": {
      "image/png": "[encoded data removed]",
      "text/plain": [
       "<Figure size 1008x216 with 4 Axes>"
      ]
     },
     "metadata": {
      "needs_background": "light"
     },
     "output_type": "display_data"
    }
   ],
   "source": [
    "import seaborn as sns\n",
    "import matplotlib.pyplot as plt\n",
    "\n",
    "fig, axs = plt.subplots(1, 4, figsize=(14,3))\n",
    "\n",
    "# ~ 3.3.1\n",
    "sns.distplot(treated.reputation, ax=axs[0])\n",
    "sns.distplot(non_treated.reputation, ax=axs[0])\n",
    "\n",
    "sns.distplot(treated.ratings, ax=axs[1])\n",
    "sns.distplot(non_treated.ratings, ax=axs[1])\n",
    "\n",
    "# ~ 3.3.2\n",
    "sns.distplot(df_p[df_p.arxiv==1].reputation, ax=axs[2])\n",
    "sns.distplot(df_p[df_p.arxiv==0].reputation, ax=axs[2])\n",
    "\n",
    "sns.distplot(df_p[df_p.arxiv==1].ratings, ax=axs[3])\n",
    "sns.distplot(df_p[df_p.arxiv==0].ratings, ax=axs[3])\n",
    "\n",
    "# ~ 3.3.3\n",
    "# ===================================================================================================================\n",
    "# A: Visually the distributions look quite similar.\n",
    "# ==================================================================================================================="
   ]
  },
  {
   "cell_type": "markdown",
   "metadata": {
    "pycharm": {
     "name": "#%% md\n"
    }
   },
   "source": [
    "### Task 3.4\n",
    "\n",
    "Finally, it's time to estimate the treatment effect. Given that we have pairs of matched samples, one that received treatment and one that did not, and that they have associated outcomes $y_{treat}$ and $y_{\\neg treat}$. We can calculate the average treatment effect as:\n",
    "\n",
    "$$\n",
    "ATE = \\frac{1}{N} \\sum_i^N  y_{treat}^{(i)} - y_{\\neg treat}^{(i)}\n",
    "$$\n",
    "\n",
    "Notice that here the outcome is a simple binary variable which equals 1 if the paper has been accepted and equals 0 if the paper has been rejected, and $N$ is the total number of matched samples in our analysis.\n",
    "\n",
    "According to your matched sample, estimate the treatment effect of publishing a paper on arxiv. Report the 95% CI through bootstrapping.\n"
   ]
  },
  {
   "cell_type": "code",
   "execution_count": 66,
   "metadata": {
    "pycharm": {
     "name": "#%%\n"
    }
   },
   "outputs": [
    {
     "name": "stdout",
     "output_type": "stream",
     "text": [
      "0.03559322033898305 CI: -0.00847457627118644 0.07966101694915254\n"
     ]
    }
   ],
   "source": [
    "# ~ 3.4\n",
    "\n",
    "from seaborn.algorithms import bootstrap\n",
    "treated[\"decisions_bool\"] = (treated[\"decisions\"] == \"Accept\").astype(int)\n",
    "non_treated[\"decisions_bool\"] = (non_treated[\"decisions\"] == \"Accept\").astype(int)\n",
    "meanv = np.mean(treated[\"decisions_bool\"].values - non_treated[\"decisions_bool\"].values)\n",
    "x = bootstrap(treated[\"decisions_bool\"].values - non_treated[\"decisions_bool\"].values)\n",
    "x = sorted(x)\n",
    "print(meanv, \"CI:\", x[int(len(x)*0.025)], x[int(len(x)*0.975)])"
   ]
  },
  {
   "cell_type": "markdown",
   "metadata": {
    "pycharm": {
     "name": "#%% md\n"
    }
   },
   "source": [
    "### Task 3.5\n",
    "\n",
    "Wait, but what about prestigious institutions? \n",
    "\n",
    "1.  To understand what is going on there, repeat tasks 3.2 to 3.4 considering *only* the top 10 institutions. Notice that you can use the same propensity scores and re-do the steps in a reduced dataframe containing only top-institutions.\n",
    "\n",
    "\n",
    "2. **Discuss:** Is this evidence that arxiv breaks double-blind submissions?"
   ]
  },
  {
   "cell_type": "code",
   "execution_count": 67,
   "metadata": {
    "pycharm": {
     "name": "#%%\n"
    }
   },
   "outputs": [
    {
     "name": "stdout",
     "output_type": "stream",
     "text": [
      "Failures 0\n",
      "Success 161\n",
      "mean 0.09937888198757763 CI: 0.012422360248447204 0.18633540372670807\n"
     ]
    },
    {
     "data": {
      "image/png": "[encoded data removed]",
      "text/plain": [
       "<Figure size 1008x216 with 4 Axes>"
      ]
     },
     "metadata": {
      "needs_background": "light"
     },
     "output_type": "display_data"
    }
   ],
   "source": [
    "# ~ 3.5.1 matching\n",
    "\n",
    "treated = df_p[(df_p[\"arxiv\"]) & (df_p[\"has_top_institution\"])]\n",
    "non_treated = df_p[~df_p[\"arxiv\"]& (df_p[\"has_top_institution\"])]\n",
    "eps = 0.05\n",
    "fail = 0\n",
    "success = 0\n",
    "treated_idx = []\n",
    "non_treated_idx = []\n",
    "\n",
    "for idx, t in treated.iterrows():\n",
    "    t = dict(t)\n",
    "    \n",
    "    argminv =  np.abs(non_treated[\"propensity_score\"] - t[\"propensity_score\"]).argmin()\n",
    "    minv =  np.abs(non_treated[\"propensity_score\"] - t[\"propensity_score\"]).min()\n",
    "    if minv > eps:\n",
    "        fail += 1\n",
    "        continue\n",
    "\n",
    "    non_treated_v = non_treated.iloc[argminv]\n",
    "    namev = non_treated_v.name\n",
    "    ps_non_treated = non_treated_v[\"propensity_score\"]\n",
    "    non_treated = non_treated.drop(namev, axis=0)\n",
    "    success += 1\n",
    "    \n",
    "    treated_idx.append(idx)\n",
    "    non_treated_idx.append(namev)\n",
    "    \n",
    "print(\"Failures\", fail)\n",
    "print(\"Success\", success)\n",
    "treated = df_p.loc[np.array(treated_idx)]\n",
    "non_treated = df_p.loc[np.array(non_treated_idx)]\n",
    "    \n",
    "\n",
    "# ~ 3.5.1 Balance\n",
    "fig, axs = plt.subplots(1, 4, figsize=(14,3))\n",
    "sns.distplot(treated.reputation, ax=axs[0])\n",
    "sns.distplot(non_treated.reputation, ax=axs[0])\n",
    "sns.distplot(treated.ratings, ax=axs[1])\n",
    "sns.distplot(non_treated.ratings, ax=axs[1])\n",
    "sns.distplot(df_p[df_p.arxiv==1].reputation, ax=axs[2])\n",
    "sns.distplot(df_p[df_p.arxiv==0].reputation, ax=axs[2])\n",
    "sns.distplot(df_p[df_p.arxiv==1].ratings, ax=axs[3])\n",
    "sns.distplot(df_p[df_p.arxiv==0].ratings, ax=axs[3])\n",
    "\n",
    "# ~ 3.5.1 ATE\n",
    "treated[\"decisions_bool\"] = (treated[\"decisions\"] == \"Accept\").astype(int)\n",
    "non_treated[\"decisions_bool\"] = (non_treated[\"decisions\"] == \"Accept\").astype(int)\n",
    "meanv = np.mean(treated[\"decisions_bool\"].values - non_treated[\"decisions_bool\"].values)\n",
    "x = bootstrap(treated[\"decisions_bool\"].values - non_treated[\"decisions_bool\"].values)\n",
    "x = sorted(x)\n",
    "print(\"mean\", meanv, \"CI:\", x[int(len(x)*0.025)], x[int(len(x)*0.975)])\n",
    "\n",
    "# ~ 3.5.2\n",
    "# ===================================================================================================================\n",
    "# - We find a statistically significant positive effect\n",
    "# - Putting your paper on arxiv makes a difference ONLY IF YOU ARE IN A TOP INSTITUTION!\n",
    "# ==================================================================================================================="
   ]
  },
  {
   "cell_type": "code",
   "execution_count": null,
   "metadata": {},
   "outputs": [],
   "source": []
  }
 ],
 "metadata": {
  "kernelspec": {
   "display_name": "Python 3",
   "language": "python",
   "name": "python3"
  },
  "language_info": {
   "codemirror_mode": {
    "name": "ipython",
    "version": 3
   },
   "file_extension": ".py",
   "mimetype": "text/x-python",
   "name": "python",
   "nbconvert_exporter": "python",
   "pygments_lexer": "ipython3",
   "version": "3.7.4"
  },
  "pycharm": {
   "stem_cell": {
    "cell_type": "raw",
    "metadata": {
     "collapsed": false
    },
    "source": []
   }
  }
 },
 "nbformat": 4,
 "nbformat_minor": 4
}

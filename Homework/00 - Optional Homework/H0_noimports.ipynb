{
 "cells": [
  {
   "cell_type": "code",
   "execution_count": 66,
   "metadata": {},
   "outputs": [],
   "source": [
    "def extract_lines(file):\n",
    "    while True:\n",
    "        line = file.readline()\n",
    "        if not line:\n",
    "            break\n",
    "        yield line"
   ]
  },
  {
   "cell_type": "code",
   "execution_count": 67,
   "metadata": {},
   "outputs": [],
   "source": [
    "INTERACTIVE_DATA = './interactive_data.csv'\n",
    "df = []\n",
    "with open(INTERACTIVE_DATA, 'r') as file:\n",
    "    for line in extract_lines(file):\n",
    "        data = line.split(',')\n",
    "        for i in range(0,len(data)):\n",
    "            data[i] = data[i].replace('\"','')\n",
    "            data[i] = data[i].replace('\\n','')\n",
    "        df.append(data)"
   ]
  },
  {
   "cell_type": "code",
   "execution_count": 76,
   "metadata": {},
   "outputs": [],
   "source": [
    "titles = {}\n",
    "for i, title in enumerate(df[0]):\n",
    "    titles[title] = i\n",
    "    \n",
    "df = df[1:]"
   ]
  },
  {
   "cell_type": "code",
   "execution_count": 90,
   "metadata": {},
   "outputs": [],
   "source": [
    "def print_stats(df, titles, filter_dict, groupby, summed = 'Deaths'):\n",
    "    title = []\n",
    "    value = []\n",
    "    base = 0\n",
    "    \n",
    "    for row in df:\n",
    "        tag = row[titles[groupby]]\n",
    "        deaths = int(row[titles[summed]])\n",
    "        \n",
    "        if tag != 'None selected':\n",
    "            base += deaths\n",
    "            \n",
    "            if tag in title:\n",
    "                value[title.index(tag)] += deaths\n",
    "            else:\n",
    "                title.append(tag)\n",
    "                value.append(deaths)\n",
    "                \n",
    "    value = [val/base for val in value]\n",
    "    return title, value"
   ]
  },
  {
   "cell_type": "code",
   "execution_count": 92,
   "metadata": {},
   "outputs": [
    {
     "data": {
      "text/plain": [
       "(['Female', 'Male'], [0.14335832139734742, 0.8566416786026526])"
      ]
     },
     "execution_count": 92,
     "metadata": {},
     "output_type": "execute_result"
    }
   ],
   "source": [
    "print_stats(df, titles, [''], 'Gender')"
   ]
  },
  {
   "cell_type": "code",
   "execution_count": null,
   "metadata": {},
   "outputs": [],
   "source": []
  },
  {
   "cell_type": "code",
   "execution_count": null,
   "metadata": {},
   "outputs": [],
   "source": []
  },
  {
   "cell_type": "code",
   "execution_count": 55,
   "metadata": {},
   "outputs": [
    {
     "data": {
      "text/plain": [
       "0.8566416786026526"
      ]
     },
     "execution_count": 55,
     "metadata": {},
     "output_type": "execute_result"
    }
   ],
   "source": [
    "base = 0\n",
    "male = 0\n",
    "female = 0\n",
    "for row in df:\n",
    "    if row[titles['Gender']] in ('Male','Female'):\n",
    "        base += int(row[titles['Deaths']])\n",
    "        if row[2] == 'Male':\n",
    "            male += int(row[titles['Deaths']])\n",
    "        else:\n",
    "            female += int(row[titles['Deaths']])\n",
    "            \n",
    "male / base"
   ]
  },
  {
   "cell_type": "code",
   "execution_count": 24,
   "metadata": {},
   "outputs": [],
   "source": [
    "#Fun with python read function\n",
    "\n",
    "# with open(INTERACTIVE_DATA) as file:\n",
    "#     titles = []\n",
    "#     for line in extract_lines(file):\n",
    "#         data = line.split(',')\n",
    "#         print(data[4])\n",
    "#         if data[0] == '\"\"':\n",
    "#             for i,title in enumerate(data):\n",
    "#                 titles.append(title)\n",
    "                \n",
    "# titles"
   ]
  }
 ],
 "metadata": {
  "kernelspec": {
   "display_name": "Python 3",
   "language": "python",
   "name": "python3"
  },
  "language_info": {
   "codemirror_mode": {
    "name": "ipython",
    "version": 3
   },
   "file_extension": ".py",
   "mimetype": "text/x-python",
   "name": "python",
   "nbconvert_exporter": "python",
   "pygments_lexer": "ipython3",
   "version": "3.6.9"
  }
 },
 "nbformat": 4,
 "nbformat_minor": 4
}
